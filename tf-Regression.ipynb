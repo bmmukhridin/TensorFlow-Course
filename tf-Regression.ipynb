{
 "cells": [
  {
   "cell_type": "markdown",
   "metadata": {},
   "source": [
    "# Introduction to Regression with Neural Network in TensorFlow\n",
    "\n",
    "There are many definitions for a regression problem but in our case we are going to simplyfy it: predicting a numerical variable based on some other combination of variables, even shorter... predicting a number"
   ]
  },
  {
   "cell_type": "code",
   "execution_count": 1,
   "metadata": {},
   "outputs": [
    {
     "name": "stdout",
     "output_type": "stream",
     "text": [
      "2.11.0\n"
     ]
    },
    {
     "data": {
      "text/plain": [
       "[PhysicalDevice(name='/physical_device:CPU:0', device_type='CPU'),\n",
       " PhysicalDevice(name='/physical_device:GPU:0', device_type='GPU')]"
      ]
     },
     "execution_count": 1,
     "metadata": {},
     "output_type": "execute_result"
    }
   ],
   "source": [
    "# import TensorFlow\n",
    "import tensorflow as tf\n",
    "print(tf.__version__)\n",
    "\n",
    "# tf.config.set_visible_devices('GPU')\n",
    "tf.config.list_physical_devices()"
   ]
  },
  {
   "cell_type": "code",
   "execution_count": 2,
   "metadata": {},
   "outputs": [],
   "source": [
    "tf.config.set_visible_devices([],'GPU')"
   ]
  },
  {
   "cell_type": "code",
   "execution_count": 3,
   "metadata": {},
   "outputs": [
    {
     "data": {
      "text/plain": [
       "<matplotlib.collections.PathCollection at 0x28005fe50>"
      ]
     },
     "execution_count": 3,
     "metadata": {},
     "output_type": "execute_result"
    },
    {
     "data": {
      "image/png": "[encoded data removed]",
      "text/plain": [
       "<Figure size 640x480 with 1 Axes>"
      ]
     },
     "metadata": {},
     "output_type": "display_data"
    }
   ],
   "source": [
    "import numpy as np\n",
    "import matplotlib.pyplot as plt\n",
    "\n",
    "# create futures\n",
    "X = np.array([-7.0, -4.0, -1.0, 2.0,5.0,8.0,11.0,14.0])\n",
    "y = np.array([3,6,9,12,15,18,21,24.0])\n",
    "\n",
    "plt.scatter(X,y)"
   ]
  },
  {
   "cell_type": "code",
   "execution_count": 4,
   "metadata": {},
   "outputs": [
    {
     "data": {
      "text/plain": [
       "(<tf.Tensor: shape=(8,), dtype=float64, numpy=array([-7., -4., -1.,  2.,  5.,  8., 11., 14.])>,\n",
       " <tf.Tensor: shape=(8,), dtype=float64, numpy=array([ 3.,  6.,  9., 12., 15., 18., 21., 24.])>)"
      ]
     },
     "execution_count": 4,
     "metadata": {},
     "output_type": "execute_result"
    }
   ],
   "source": [
    "X = tf.constant(X)\n",
    "y = tf.constant(y)\n",
    "X,y"
   ]
  },
  {
   "cell_type": "code",
   "execution_count": 5,
   "metadata": {},
   "outputs": [
    {
     "data": {
      "text/plain": [
       "(TensorShape([]), TensorShape([]))"
      ]
     },
     "execution_count": 5,
     "metadata": {},
     "output_type": "execute_result"
    }
   ],
   "source": [
    "input_shape =X[0].shape\n",
    "output_shape = y[0].shape\n",
    "input_shape,output_shape"
   ]
  },
  {
   "cell_type": "markdown",
   "metadata": {},
   "source": [
    "### steps in Modelling with TensorFlow\n",
    "\n",
    "1. Creating a model - define the input and output layers, as well as the hidden layers of a deep learning model.\n",
    "2. Compiling a model - define the loss function (in other words, the function which tells our model how wrong it is) and the optimizer (tells our model how to improve the patterns its learning) and evaluation metrics (what we can use to interpret the performance of our model).\n",
    "3. Fitting a mdel - letting the model try to find patterns between X & y (features and labels)."
   ]
  },
  {
   "cell_type": "code",
   "execution_count": 6,
   "metadata": {},
   "outputs": [
    {
     "data": {
      "text/plain": [
       "[PhysicalDevice(name='/physical_device:GPU:0', device_type='GPU')]"
      ]
     },
     "execution_count": 6,
     "metadata": {},
     "output_type": "execute_result"
    }
   ],
   "source": [
    "tf.config.list_physical_devices(\"GPU\")"
   ]
  },
  {
   "cell_type": "code",
   "execution_count": 7,
   "metadata": {},
   "outputs": [
    {
     "name": "stdout",
     "output_type": "stream",
     "text": [
      "Epoch 1/5\n"
     ]
    },
    {
     "name": "stderr",
     "output_type": "stream",
     "text": [
      "2023-05-22 13:47:41.748840: W tensorflow/tsl/platform/profile_utils/cpu_utils.cc:128] Failed to get CPU frequency: 0 Hz\n"
     ]
    },
    {
     "name": "stdout",
     "output_type": "stream",
     "text": [
      "1/1 [==============================] - 0s 288ms/step - loss: 9.6638\n",
      "Epoch 2/5\n",
      "1/1 [==============================] - 0s 2ms/step - loss: 9.6496\n",
      "Epoch 3/5\n",
      "1/1 [==============================] - 0s 2ms/step - loss: 9.6393\n",
      "Epoch 4/5\n",
      "1/1 [==============================] - 0s 2ms/step - loss: 9.6306\n",
      "Epoch 5/5\n",
      "1/1 [==============================] - 0s 1ms/step - loss: 9.6229\n"
     ]
    },
    {
     "name": "stderr",
     "output_type": "stream",
     "text": [
      "2023-05-22 13:47:41.951029: I tensorflow/compiler/xla/service/service.cc:173] XLA service 0x2818bbb10 initialized for platform Host (this does not guarantee that XLA will be used). Devices:\n",
      "2023-05-22 13:47:41.951042: I tensorflow/compiler/xla/service/service.cc:181]   StreamExecutor device (0): Host, Default Version\n",
      "2023-05-22 13:47:41.966126: I tensorflow/compiler/mlir/tensorflow/utils/dump_mlir_util.cc:268] disabling MLIR crash reproducer, set env var `MLIR_CRASH_REPRODUCER_DIRECTORY` to enable.\n",
      "2023-05-22 13:47:42.059896: I tensorflow/compiler/jit/xla_compilation_cache.cc:477] Compiled cluster using XLA!  This line is logged at most once for the lifetime of the process.\n"
     ]
    },
    {
     "data": {
      "text/plain": [
       "<keras.callbacks.History at 0x280fd4c70>"
      ]
     },
     "execution_count": 7,
     "metadata": {},
     "output_type": "execute_result"
    }
   ],
   "source": [
    "# Set random seed\n",
    "tf.random.set_seed(42)\n",
    "\n",
    "# 1. Create a model using the Sequential API\n",
    "model = tf.keras.Sequential([\n",
    "    tf.keras.layers.Dense(1)\n",
    "])\n",
    "\n",
    "# 2. Compile the model\n",
    "model.compile(loss='mae')\n",
    "\n",
    "# 3. Fit the Model\n",
    "model.fit(tf.expand_dims(X, axis=-1),y,epochs=5)"
   ]
  },
  {
   "cell_type": "code",
   "execution_count": 8,
   "metadata": {},
   "outputs": [
    {
     "data": {
      "text/plain": [
       "(<tf.Tensor: shape=(8,), dtype=float64, numpy=array([-7., -4., -1.,  2.,  5.,  8., 11., 14.])>,\n",
       " <tf.Tensor: shape=(8,), dtype=float64, numpy=array([ 3.,  6.,  9., 12., 15., 18., 21., 24.])>)"
      ]
     },
     "execution_count": 8,
     "metadata": {},
     "output_type": "execute_result"
    }
   ],
   "source": [
    "X,y"
   ]
  },
  {
   "cell_type": "code",
   "execution_count": 9,
   "metadata": {},
   "outputs": [
    {
     "name": "stdout",
     "output_type": "stream",
     "text": [
      "1/1 [==============================] - 0s 37ms/step\n"
     ]
    },
    {
     "data": {
      "text/plain": [
       "array([[18.824547]], dtype=float32)"
      ]
     },
     "execution_count": 9,
     "metadata": {},
     "output_type": "execute_result"
    }
   ],
   "source": [
    "y_pred = model.predict([17.0])\n",
    "y_pred"
   ]
  },
  {
   "cell_type": "code",
   "execution_count": 10,
   "metadata": {},
   "outputs": [
    {
     "data": {
      "text/plain": [
       "array([[29.824547]], dtype=float32)"
      ]
     },
     "execution_count": 10,
     "metadata": {},
     "output_type": "execute_result"
    }
   ],
   "source": [
    "y_pred+11"
   ]
  },
  {
   "cell_type": "markdown",
   "metadata": {},
   "source": [
    "## Improving our model\n",
    "\n",
    "We can improve our model, by altering the steps we took to create a model.\n",
    "\n",
    "1. **Creating a model** - here we might add more layers, increase the number oh hidden units (all called neurons) within each of the hideen layers, change the activation function of each layer.\n",
    "\n",
    "2. **Compiling a model** - here we might change the optimization function or peerhaps the **learning rate** of the optimization function.\n",
    "\n",
    "3. **Fitting a model** - here we might fit a model for more **epochs** (leave it training for longer) or on more data (give the model more examples to learn from)."
   ]
  },
  {
   "cell_type": "code",
   "execution_count": 11,
   "metadata": {},
   "outputs": [
    {
     "name": "stdout",
     "output_type": "stream",
     "text": [
      "Epoch 1/100\n",
      "1/1 [==============================] - 0s 240ms/step - loss: 15.5997 - mae: 15.5997\n",
      "Epoch 2/100\n",
      "1/1 [==============================] - 0s 2ms/step - loss: 14.7287 - mae: 14.7287\n",
      "Epoch 3/100\n",
      "1/1 [==============================] - 0s 2ms/step - loss: 14.0880 - mae: 14.0880\n",
      "Epoch 4/100\n",
      "1/1 [==============================] - 0s 2ms/step - loss: 13.4604 - mae: 13.4604\n",
      "Epoch 5/100\n",
      "1/1 [==============================] - 0s 1ms/step - loss: 12.8410 - mae: 12.8410\n",
      "Epoch 6/100\n",
      "1/1 [==============================] - 0s 1ms/step - loss: 12.2270 - mae: 12.2270\n",
      "Epoch 7/100\n",
      "1/1 [==============================] - 0s 2ms/step - loss: 11.6158 - mae: 11.6158\n",
      "Epoch 8/100\n",
      "1/1 [==============================] - 0s 2ms/step - loss: 11.0052 - mae: 11.0052\n",
      "Epoch 9/100\n",
      "1/1 [==============================] - 0s 2ms/step - loss: 10.3926 - mae: 10.3926\n",
      "Epoch 10/100\n",
      "1/1 [==============================] - 0s 2ms/step - loss: 9.7752 - mae: 9.7752\n",
      "Epoch 11/100\n",
      "1/1 [==============================] - 0s 3ms/step - loss: 9.1499 - mae: 9.1499\n",
      "Epoch 12/100\n",
      "1/1 [==============================] - 0s 2ms/step - loss: 8.5136 - mae: 8.5136\n",
      "Epoch 13/100\n",
      "1/1 [==============================] - 0s 2ms/step - loss: 7.8629 - mae: 7.8629\n",
      "Epoch 14/100\n",
      "1/1 [==============================] - 0s 3ms/step - loss: 7.1946 - mae: 7.1946\n",
      "Epoch 15/100\n",
      "1/1 [==============================] - 0s 2ms/step - loss: 6.5677 - mae: 6.5677\n",
      "Epoch 16/100\n",
      "1/1 [==============================] - 0s 2ms/step - loss: 6.5165 - mae: 6.5165\n",
      "Epoch 17/100\n",
      "1/1 [==============================] - 0s 2ms/step - loss: 6.7880 - mae: 6.7880\n",
      "Epoch 18/100\n",
      "1/1 [==============================] - 0s 4ms/step - loss: 6.9707 - mae: 6.9707\n",
      "Epoch 19/100\n",
      "1/1 [==============================] - 0s 2ms/step - loss: 7.0998 - mae: 7.0998\n",
      "Epoch 20/100\n",
      "1/1 [==============================] - 0s 2ms/step - loss: 7.1400 - mae: 7.1400\n",
      "Epoch 21/100\n",
      "1/1 [==============================] - 0s 2ms/step - loss: 7.0257 - mae: 7.0257\n",
      "Epoch 22/100\n",
      "1/1 [==============================] - 0s 2ms/step - loss: 6.8186 - mae: 6.8186\n",
      "Epoch 23/100\n",
      "1/1 [==============================] - 0s 1ms/step - loss: 6.6344 - mae: 6.6344\n",
      "Epoch 24/100\n",
      "1/1 [==============================] - 0s 2ms/step - loss: 6.4287 - mae: 6.4287\n",
      "Epoch 25/100\n",
      "1/1 [==============================] - 0s 3ms/step - loss: 6.2057 - mae: 6.2057\n",
      "Epoch 26/100\n",
      "1/1 [==============================] - 0s 3ms/step - loss: 5.9692 - mae: 5.9692\n",
      "Epoch 27/100\n",
      "1/1 [==============================] - 0s 3ms/step - loss: 5.8992 - mae: 5.8992\n",
      "Epoch 28/100\n",
      "1/1 [==============================] - 0s 6ms/step - loss: 5.8589 - mae: 5.8589\n",
      "Epoch 29/100\n",
      "1/1 [==============================] - 0s 4ms/step - loss: 5.9388 - mae: 5.9388\n",
      "Epoch 30/100\n",
      "1/1 [==============================] - 0s 13ms/step - loss: 5.9849 - mae: 5.9849\n",
      "Epoch 31/100\n",
      "1/1 [==============================] - 0s 4ms/step - loss: 5.9365 - mae: 5.9365\n",
      "Epoch 32/100\n",
      "1/1 [==============================] - 0s 7ms/step - loss: 5.8050 - mae: 5.8050\n",
      "Epoch 33/100\n",
      "1/1 [==============================] - 0s 4ms/step - loss: 5.5983 - mae: 5.5983\n",
      "Epoch 34/100\n",
      "1/1 [==============================] - 0s 3ms/step - loss: 5.4037 - mae: 5.4037\n",
      "Epoch 35/100\n",
      "1/1 [==============================] - 0s 9ms/step - loss: 5.2971 - mae: 5.2971\n",
      "Epoch 36/100\n",
      "1/1 [==============================] - 0s 3ms/step - loss: 5.1871 - mae: 5.1871\n",
      "Epoch 37/100\n",
      "1/1 [==============================] - 0s 5ms/step - loss: 5.1629 - mae: 5.1629\n",
      "Epoch 38/100\n",
      "1/1 [==============================] - 0s 12ms/step - loss: 5.1423 - mae: 5.1423\n",
      "Epoch 39/100\n",
      "1/1 [==============================] - 0s 2ms/step - loss: 5.0824 - mae: 5.0824\n",
      "Epoch 40/100\n",
      "1/1 [==============================] - 0s 2ms/step - loss: 4.9858 - mae: 4.9858\n",
      "Epoch 41/100\n",
      "1/1 [==============================] - 0s 3ms/step - loss: 4.8554 - mae: 4.8554\n",
      "Epoch 42/100\n",
      "1/1 [==============================] - 0s 2ms/step - loss: 4.6939 - mae: 4.6939\n",
      "Epoch 43/100\n",
      "1/1 [==============================] - 0s 2ms/step - loss: 4.5036 - mae: 4.5036\n",
      "Epoch 44/100\n",
      "1/1 [==============================] - 0s 2ms/step - loss: 4.3952 - mae: 4.3952\n",
      "Epoch 45/100\n",
      "1/1 [==============================] - 0s 2ms/step - loss: 4.2984 - mae: 4.2984\n",
      "Epoch 46/100\n",
      "1/1 [==============================] - 0s 3ms/step - loss: 4.2014 - mae: 4.2014\n",
      "Epoch 47/100\n",
      "1/1 [==============================] - 0s 2ms/step - loss: 4.1010 - mae: 4.1010\n",
      "Epoch 48/100\n",
      "1/1 [==============================] - 0s 2ms/step - loss: 3.9251 - mae: 3.9251\n",
      "Epoch 49/100\n",
      "1/1 [==============================] - 0s 2ms/step - loss: 3.7748 - mae: 3.7748\n",
      "Epoch 50/100\n",
      "1/1 [==============================] - 0s 2ms/step - loss: 3.6167 - mae: 3.6167\n",
      "Epoch 51/100\n",
      "1/1 [==============================] - 0s 2ms/step - loss: 3.4507 - mae: 3.4507\n",
      "Epoch 52/100\n",
      "1/1 [==============================] - 0s 5ms/step - loss: 3.3234 - mae: 3.3234\n",
      "Epoch 53/100\n",
      "1/1 [==============================] - 0s 3ms/step - loss: 3.1810 - mae: 3.1810\n",
      "Epoch 54/100\n",
      "1/1 [==============================] - 0s 2ms/step - loss: 2.9892 - mae: 2.9892\n",
      "Epoch 55/100\n",
      "1/1 [==============================] - 0s 2ms/step - loss: 2.7681 - mae: 2.7681\n",
      "Epoch 56/100\n",
      "1/1 [==============================] - 0s 2ms/step - loss: 2.5887 - mae: 2.5887\n",
      "Epoch 57/100\n",
      "1/1 [==============================] - 0s 2ms/step - loss: 2.3975 - mae: 2.3975\n",
      "Epoch 58/100\n",
      "1/1 [==============================] - 0s 2ms/step - loss: 2.1945 - mae: 2.1945\n",
      "Epoch 59/100\n",
      "1/1 [==============================] - 0s 2ms/step - loss: 1.9997 - mae: 1.9997\n",
      "Epoch 60/100\n",
      "1/1 [==============================] - 0s 2ms/step - loss: 1.7408 - mae: 1.7408\n",
      "Epoch 61/100\n",
      "1/1 [==============================] - 0s 3ms/step - loss: 1.5218 - mae: 1.5218\n",
      "Epoch 62/100\n",
      "1/1 [==============================] - 0s 2ms/step - loss: 1.2972 - mae: 1.2972\n",
      "Epoch 63/100\n",
      "1/1 [==============================] - 0s 2ms/step - loss: 1.0037 - mae: 1.0037\n",
      "Epoch 64/100\n",
      "1/1 [==============================] - 0s 2ms/step - loss: 0.8048 - mae: 0.8048\n",
      "Epoch 65/100\n",
      "1/1 [==============================] - 0s 2ms/step - loss: 0.5298 - mae: 0.5298\n",
      "Epoch 66/100\n",
      "1/1 [==============================] - 0s 2ms/step - loss: 0.2451 - mae: 0.2451\n",
      "Epoch 67/100\n",
      "1/1 [==============================] - 0s 2ms/step - loss: 0.1723 - mae: 0.1723\n",
      "Epoch 68/100\n",
      "1/1 [==============================] - 0s 2ms/step - loss: 0.4371 - mae: 0.4371\n",
      "Epoch 69/100\n",
      "1/1 [==============================] - 0s 2ms/step - loss: 0.5630 - mae: 0.5630\n",
      "Epoch 70/100\n",
      "1/1 [==============================] - 0s 2ms/step - loss: 0.6854 - mae: 0.6854\n",
      "Epoch 71/100\n",
      "1/1 [==============================] - 0s 2ms/step - loss: 0.7631 - mae: 0.7631\n",
      "Epoch 72/100\n",
      "1/1 [==============================] - 0s 2ms/step - loss: 0.7300 - mae: 0.7300\n",
      "Epoch 73/100\n",
      "1/1 [==============================] - 0s 2ms/step - loss: 0.7374 - mae: 0.7374\n",
      "Epoch 74/100\n",
      "1/1 [==============================] - 0s 2ms/step - loss: 0.6535 - mae: 0.6535\n",
      "Epoch 75/100\n",
      "1/1 [==============================] - 0s 2ms/step - loss: 0.6362 - mae: 0.6362\n",
      "Epoch 76/100\n",
      "1/1 [==============================] - 0s 2ms/step - loss: 0.4980 - mae: 0.4980\n",
      "Epoch 77/100\n",
      "1/1 [==============================] - 0s 2ms/step - loss: 0.4018 - mae: 0.4018\n",
      "Epoch 78/100\n",
      "1/1 [==============================] - 0s 3ms/step - loss: 0.2812 - mae: 0.2812\n",
      "Epoch 79/100\n",
      "1/1 [==============================] - 0s 3ms/step - loss: 0.1227 - mae: 0.1227\n",
      "Epoch 80/100\n",
      "1/1 [==============================] - 0s 2ms/step - loss: 0.1326 - mae: 0.1326\n",
      "Epoch 81/100\n",
      "1/1 [==============================] - 0s 2ms/step - loss: 0.3409 - mae: 0.3409\n",
      "Epoch 82/100\n",
      "1/1 [==============================] - 0s 2ms/step - loss: 0.4205 - mae: 0.4205\n",
      "Epoch 83/100\n",
      "1/1 [==============================] - 0s 2ms/step - loss: 0.3352 - mae: 0.3352\n",
      "Epoch 84/100\n",
      "1/1 [==============================] - 0s 2ms/step - loss: 0.3743 - mae: 0.3743\n",
      "Epoch 85/100\n",
      "1/1 [==============================] - 0s 2ms/step - loss: 0.4309 - mae: 0.4309\n",
      "Epoch 86/100\n",
      "1/1 [==============================] - 0s 2ms/step - loss: 0.2303 - mae: 0.2303\n",
      "Epoch 87/100\n",
      "1/1 [==============================] - 0s 2ms/step - loss: 0.2496 - mae: 0.2496\n",
      "Epoch 88/100\n",
      "1/1 [==============================] - 0s 2ms/step - loss: 0.3107 - mae: 0.3107\n",
      "Epoch 89/100\n",
      "1/1 [==============================] - 0s 2ms/step - loss: 0.1170 - mae: 0.1170\n",
      "Epoch 90/100\n",
      "1/1 [==============================] - 0s 2ms/step - loss: 0.3893 - mae: 0.3893\n",
      "Epoch 91/100\n",
      "1/1 [==============================] - 0s 2ms/step - loss: 0.5468 - mae: 0.5468\n",
      "Epoch 92/100\n",
      "1/1 [==============================] - 0s 2ms/step - loss: 0.4276 - mae: 0.4276\n",
      "Epoch 93/100\n",
      "1/1 [==============================] - 0s 2ms/step - loss: 0.1789 - mae: 0.1789\n",
      "Epoch 94/100\n",
      "1/1 [==============================] - 0s 2ms/step - loss: 0.5414 - mae: 0.5414\n",
      "Epoch 95/100\n",
      "1/1 [==============================] - 0s 4ms/step - loss: 0.7106 - mae: 0.7106\n",
      "Epoch 96/100\n",
      "1/1 [==============================] - 0s 2ms/step - loss: 0.5877 - mae: 0.5877\n",
      "Epoch 97/100\n",
      "1/1 [==============================] - 0s 3ms/step - loss: 0.2128 - mae: 0.2128\n",
      "Epoch 98/100\n",
      "1/1 [==============================] - 0s 2ms/step - loss: 0.3810 - mae: 0.3810\n",
      "Epoch 99/100\n",
      "1/1 [==============================] - 0s 2ms/step - loss: 0.6476 - mae: 0.6476\n",
      "Epoch 100/100\n",
      "1/1 [==============================] - 0s 1ms/step - loss: 0.6283 - mae: 0.6283\n"
     ]
    },
    {
     "data": {
      "text/plain": [
       "<keras.callbacks.History at 0x2819fa760>"
      ]
     },
     "execution_count": 11,
     "metadata": {},
     "output_type": "execute_result"
    }
   ],
   "source": [
    "# Lets re-build our model\n",
    "# Set random seed\n",
    "tf.random.set_seed(42)\n",
    "\n",
    "# 1. Create a model using the Sequential API\n",
    "model = tf.keras.Sequential([\n",
    "    tf.keras.layers.Dense(50, activation=None),\n",
    "    tf.keras.layers.Dense(1)\n",
    "])\n",
    "\n",
    "# 2. Compile the model\n",
    "model.compile(loss='mae', optimizer=tf.keras.optimizers.Adam(learning_rate=0.01), metrics=['mae'])\n",
    "\n",
    "# 3. Fit the Model\n",
    "model.fit(tf.expand_dims(X, axis=-1),y,epochs=100)"
   ]
  },
  {
   "cell_type": "code",
   "execution_count": 12,
   "metadata": {},
   "outputs": [
    {
     "name": "stdout",
     "output_type": "stream",
     "text": [
      "1/1 [==============================] - 0s 32ms/step\n"
     ]
    },
    {
     "data": {
      "text/plain": [
       "array([[27.893055]], dtype=float32)"
      ]
     },
     "execution_count": 12,
     "metadata": {},
     "output_type": "execute_result"
    }
   ],
   "source": [
    "y_pred = model.predict([17.0])\n",
    "y_pred"
   ]
  },
  {
   "attachments": {},
   "cell_type": "markdown",
   "metadata": {},
   "source": [
    "### Evalutaing a model"
   ]
  },
  {
   "attachments": {},
   "cell_type": "markdown",
   "metadata": {},
   "source": [
    "In practice a typical workflow you will go theough when building neural networks\n",
    "> `Build a model -> fit it -> evaluate it -> tweak a model -> fit it ->  evaluate it...`"
   ]
  },
  {
   "attachments": {},
   "cell_type": "markdown",
   "metadata": {},
   "source": [
    "when it comes to evaluaition... there are 3 words you should memorize:\n",
    "> \"Visualize, Visualize, Visualize,\"\n",
    "\n",
    "its good idea to visualize:\n",
    "\n",
    " * The data - what data are we working with? What does it look like?\n",
    " * The model it self - what does our model look like?\n",
    " * The training of model - how does model perform while it learns?\n",
    " * The prediction of the model - how do the predictions of model line up against the ground truth (original labels)?"
   ]
  },
  {
   "cell_type": "code",
   "execution_count": 13,
   "metadata": {},
   "outputs": [
    {
     "data": {
      "text/plain": [
       "<tf.Tensor: shape=(50,), dtype=int32, numpy=\n",
       "array([-100,  -96,  -92,  -88,  -84,  -80,  -76,  -72,  -68,  -64,  -60,\n",
       "        -56,  -52,  -48,  -44,  -40,  -36,  -32,  -28,  -24,  -20,  -16,\n",
       "        -12,   -8,   -4,    0,    4,    8,   12,   16,   20,   24,   28,\n",
       "         32,   36,   40,   44,   48,   52,   56,   60,   64,   68,   72,\n",
       "         76,   80,   84,   88,   92,   96], dtype=int32)>"
      ]
     },
     "execution_count": 13,
     "metadata": {},
     "output_type": "execute_result"
    }
   ],
   "source": [
    "#  make a bigger data\n",
    "X = tf.range(-100, 100,4)\n",
    "X"
   ]
  },
  {
   "cell_type": "code",
   "execution_count": 14,
   "metadata": {},
   "outputs": [
    {
     "data": {
      "text/plain": [
       "<tf.Tensor: shape=(50,), dtype=int32, numpy=\n",
       "array([-90, -86, -82, -78, -74, -70, -66, -62, -58, -54, -50, -46, -42,\n",
       "       -38, -34, -30, -26, -22, -18, -14, -10,  -6,  -2,   2,   6,  10,\n",
       "        14,  18,  22,  26,  30,  34,  38,  42,  46,  50,  54,  58,  62,\n",
       "        66,  70,  74,  78,  82,  86,  90,  94,  98, 102, 106], dtype=int32)>"
      ]
     },
     "execution_count": 14,
     "metadata": {},
     "output_type": "execute_result"
    }
   ],
   "source": [
    "y = X+10\n",
    "y"
   ]
  },
  {
   "cell_type": "code",
   "execution_count": 15,
   "metadata": {},
   "outputs": [
    {
     "data": {
      "text/plain": [
       "<matplotlib.collections.PathCollection at 0x281112fa0>"
      ]
     },
     "execution_count": 15,
     "metadata": {},
     "output_type": "execute_result"
    },
    {
     "data": {
      "image/png": "[encoded data removed]",
      "text/plain": [
       "<Figure size 640x480 with 1 Axes>"
      ]
     },
     "metadata": {},
     "output_type": "display_data"
    }
   ],
   "source": [
    "# visualize data\n",
    "import matplotlib.pyplot as plt\n",
    "\n",
    "plt.scatter(X,y)"
   ]
  },
  {
   "cell_type": "code",
   "execution_count": 16,
   "metadata": {},
   "outputs": [
    {
     "data": {
      "text/plain": [
       "(40, 10, 40, 10)"
      ]
     },
     "execution_count": 16,
     "metadata": {},
     "output_type": "execute_result"
    }
   ],
   "source": [
    "X_train=X[:40] \n",
    "X_test=X[40:]\n",
    "\n",
    "y_train=y[:40]\n",
    "y_test=y[40:]\n",
    "\n",
    "len(X_train),len(X_test),len(y_train),len(y_test)\n",
    "\n"
   ]
  },
  {
   "attachments": {},
   "cell_type": "markdown",
   "metadata": {},
   "source": [
    "## Visualizing the data\n",
    "Now we have got our data in training and test sets.. let's visualize it again"
   ]
  },
  {
   "cell_type": "code",
   "execution_count": 17,
   "metadata": {},
   "outputs": [
    {
     "data": {
      "image/png": "[encoded data removed]",
      "text/plain": [
       "<Figure size 1000x700 with 1 Axes>"
      ]
     },
     "metadata": {},
     "output_type": "display_data"
    }
   ],
   "source": [
    "plt.figure(figsize=(10,7))\n",
    "plt.scatter(X_train, y_train, c='b', label=\"training data\")\n",
    "plt.scatter(X_test, y_test, c='g', label=\"test data\")\n",
    "plt.legend();"
   ]
  },
  {
   "cell_type": "code",
   "execution_count": 18,
   "metadata": {},
   "outputs": [],
   "source": [
    "# lets build a model\n",
    "model = tf.keras.Sequential([\n",
    "    tf.keras.layers.Dense(1, input_shape=[1])\n",
    "])\n",
    "\n",
    "model.compile(loss=\"mae\", optimizer='adam', metrics=['mae'])\n",
    "\n",
    "# model.fit((tf.expand_dims(X_train, axis=-1)), y_train, epochs=100)"
   ]
  },
  {
   "attachments": {},
   "cell_type": "markdown",
   "metadata": {},
   "source": [
    "Visualizing Model"
   ]
  },
  {
   "cell_type": "code",
   "execution_count": 19,
   "metadata": {},
   "outputs": [
    {
     "name": "stdout",
     "output_type": "stream",
     "text": [
      "Model: \"sequential_2\"\n",
      "_________________________________________________________________\n",
      " Layer (type)                Output Shape              Param #   \n",
      "=================================================================\n",
      " dense_3 (Dense)             (None, 1)                 2         \n",
      "                                                                 \n",
      "=================================================================\n",
      "Total params: 2\n",
      "Trainable params: 2\n",
      "Non-trainable params: 0\n",
      "_________________________________________________________________\n"
     ]
    }
   ],
   "source": [
    "model.summary()"
   ]
  },
  {
   "cell_type": "code",
   "execution_count": 20,
   "metadata": {},
   "outputs": [
    {
     "name": "stdout",
     "output_type": "stream",
     "text": [
      "Epoch 1/100\n",
      "2/2 [==============================] - 0s 2ms/step - loss: 14.2464 - mae: 14.2464\n",
      "Epoch 2/100\n",
      "2/2 [==============================] - 0s 1ms/step - loss: 14.1920 - mae: 14.1920\n",
      "Epoch 3/100\n",
      "2/2 [==============================] - 0s 1ms/step - loss: 14.1453 - mae: 14.1453\n",
      "Epoch 4/100\n",
      "2/2 [==============================] - 0s 1ms/step - loss: 14.0944 - mae: 14.0944\n",
      "Epoch 5/100\n",
      "2/2 [==============================] - 0s 1ms/step - loss: 14.0466 - mae: 14.0466\n",
      "Epoch 6/100\n",
      "2/2 [==============================] - 0s 1ms/step - loss: 13.9956 - mae: 13.9956\n",
      "Epoch 7/100\n",
      "2/2 [==============================] - 0s 2ms/step - loss: 13.9446 - mae: 13.9446\n",
      "Epoch 8/100\n",
      "2/2 [==============================] - 0s 1ms/step - loss: 13.8935 - mae: 13.8935\n",
      "Epoch 9/100\n",
      "2/2 [==============================] - 0s 1ms/step - loss: 13.8578 - mae: 13.8578\n",
      "Epoch 10/100\n",
      "2/2 [==============================] - 0s 1ms/step - loss: 13.8151 - mae: 13.8151\n",
      "Epoch 11/100\n",
      "2/2 [==============================] - 0s 1ms/step - loss: 13.7661 - mae: 13.7661\n",
      "Epoch 12/100\n",
      "2/2 [==============================] - 0s 1ms/step - loss: 13.7302 - mae: 13.7302\n",
      "Epoch 13/100\n",
      "2/2 [==============================] - 0s 1ms/step - loss: 13.6869 - mae: 13.6869\n",
      "Epoch 14/100\n",
      "2/2 [==============================] - 0s 1ms/step - loss: 13.6469 - mae: 13.6469\n",
      "Epoch 15/100\n",
      "2/2 [==============================] - 0s 1ms/step - loss: 13.6067 - mae: 13.6067\n",
      "Epoch 16/100\n",
      "2/2 [==============================] - 0s 1ms/step - loss: 13.5625 - mae: 13.5625\n",
      "Epoch 17/100\n",
      "2/2 [==============================] - 0s 1ms/step - loss: 13.5270 - mae: 13.5270\n",
      "Epoch 18/100\n",
      "2/2 [==============================] - 0s 2ms/step - loss: 13.4781 - mae: 13.4781\n",
      "Epoch 19/100\n",
      "2/2 [==============================] - 0s 2ms/step - loss: 13.4400 - mae: 13.4400\n",
      "Epoch 20/100\n",
      "2/2 [==============================] - 0s 1ms/step - loss: 13.4011 - mae: 13.4011\n",
      "Epoch 21/100\n",
      "2/2 [==============================] - 0s 1ms/step - loss: 13.3590 - mae: 13.3590\n",
      "Epoch 22/100\n",
      "2/2 [==============================] - 0s 1ms/step - loss: 13.3210 - mae: 13.3210\n",
      "Epoch 23/100\n",
      "2/2 [==============================] - 0s 1ms/step - loss: 13.2752 - mae: 13.2752\n",
      "Epoch 24/100\n",
      "2/2 [==============================] - 0s 1ms/step - loss: 13.2368 - mae: 13.2368\n",
      "Epoch 25/100\n",
      "2/2 [==============================] - 0s 2ms/step - loss: 13.1931 - mae: 13.1931\n",
      "Epoch 26/100\n",
      "2/2 [==============================] - 0s 2ms/step - loss: 13.1538 - mae: 13.1538\n",
      "Epoch 27/100\n",
      "2/2 [==============================] - 0s 1ms/step - loss: 13.1094 - mae: 13.1094\n",
      "Epoch 28/100\n",
      "2/2 [==============================] - 0s 1ms/step - loss: 13.0687 - mae: 13.0687\n",
      "Epoch 29/100\n",
      "2/2 [==============================] - 0s 2ms/step - loss: 13.0193 - mae: 13.0193\n",
      "Epoch 30/100\n",
      "2/2 [==============================] - 0s 1ms/step - loss: 12.9741 - mae: 12.9741\n",
      "Epoch 31/100\n",
      "2/2 [==============================] - 0s 1ms/step - loss: 12.9351 - mae: 12.9351\n",
      "Epoch 32/100\n",
      "2/2 [==============================] - 0s 1ms/step - loss: 12.8856 - mae: 12.8856\n",
      "Epoch 33/100\n",
      "2/2 [==============================] - 0s 6ms/step - loss: 12.8413 - mae: 12.8413\n",
      "Epoch 34/100\n",
      "2/2 [==============================] - 0s 2ms/step - loss: 12.7991 - mae: 12.7991\n",
      "Epoch 35/100\n",
      "2/2 [==============================] - 0s 1ms/step - loss: 12.7490 - mae: 12.7490\n",
      "Epoch 36/100\n",
      "2/2 [==============================] - 0s 1ms/step - loss: 12.7119 - mae: 12.7119\n",
      "Epoch 37/100\n",
      "2/2 [==============================] - 0s 2ms/step - loss: 12.6677 - mae: 12.6677\n",
      "Epoch 38/100\n",
      "2/2 [==============================] - 0s 1ms/step - loss: 12.6234 - mae: 12.6234\n",
      "Epoch 39/100\n",
      "2/2 [==============================] - 0s 1ms/step - loss: 12.5825 - mae: 12.5825\n",
      "Epoch 40/100\n",
      "2/2 [==============================] - 0s 2ms/step - loss: 12.5416 - mae: 12.5416\n",
      "Epoch 41/100\n",
      "2/2 [==============================] - 0s 1ms/step - loss: 12.5048 - mae: 12.5048\n",
      "Epoch 42/100\n",
      "2/2 [==============================] - 0s 1ms/step - loss: 12.4605 - mae: 12.4605\n",
      "Epoch 43/100\n",
      "2/2 [==============================] - 0s 1ms/step - loss: 12.4176 - mae: 12.4176\n",
      "Epoch 44/100\n",
      "2/2 [==============================] - 0s 1ms/step - loss: 12.3805 - mae: 12.3805\n",
      "Epoch 45/100\n",
      "2/2 [==============================] - 0s 1ms/step - loss: 12.3411 - mae: 12.3411\n",
      "Epoch 46/100\n",
      "2/2 [==============================] - 0s 1ms/step - loss: 12.3010 - mae: 12.3010\n",
      "Epoch 47/100\n",
      "2/2 [==============================] - 0s 1ms/step - loss: 12.2605 - mae: 12.2605\n",
      "Epoch 48/100\n",
      "2/2 [==============================] - 0s 1ms/step - loss: 12.2235 - mae: 12.2235\n",
      "Epoch 49/100\n",
      "2/2 [==============================] - 0s 1ms/step - loss: 12.1818 - mae: 12.1818\n",
      "Epoch 50/100\n",
      "2/2 [==============================] - 0s 1ms/step - loss: 12.1488 - mae: 12.1488\n",
      "Epoch 51/100\n",
      "2/2 [==============================] - 0s 1ms/step - loss: 12.1069 - mae: 12.1069\n",
      "Epoch 52/100\n",
      "2/2 [==============================] - 0s 1ms/step - loss: 12.0688 - mae: 12.0688\n",
      "Epoch 53/100\n",
      "2/2 [==============================] - 0s 2ms/step - loss: 12.0273 - mae: 12.0273\n",
      "Epoch 54/100\n",
      "2/2 [==============================] - 0s 1ms/step - loss: 11.9870 - mae: 11.9870\n",
      "Epoch 55/100\n",
      "2/2 [==============================] - 0s 1ms/step - loss: 11.9472 - mae: 11.9472\n",
      "Epoch 56/100\n",
      "2/2 [==============================] - 0s 1ms/step - loss: 11.9049 - mae: 11.9049\n",
      "Epoch 57/100\n",
      "2/2 [==============================] - 0s 1ms/step - loss: 11.8633 - mae: 11.8633\n",
      "Epoch 58/100\n",
      "2/2 [==============================] - 0s 2ms/step - loss: 11.8180 - mae: 11.8180\n",
      "Epoch 59/100\n",
      "2/2 [==============================] - 0s 1ms/step - loss: 11.7820 - mae: 11.7820\n",
      "Epoch 60/100\n",
      "2/2 [==============================] - 0s 1ms/step - loss: 11.7398 - mae: 11.7398\n",
      "Epoch 61/100\n",
      "2/2 [==============================] - 0s 2ms/step - loss: 11.7022 - mae: 11.7022\n",
      "Epoch 62/100\n",
      "2/2 [==============================] - 0s 960us/step - loss: 11.6626 - mae: 11.6626\n",
      "Epoch 63/100\n",
      "2/2 [==============================] - 0s 1ms/step - loss: 11.6204 - mae: 11.6204\n",
      "Epoch 64/100\n",
      "2/2 [==============================] - 0s 2ms/step - loss: 11.5831 - mae: 11.5831\n",
      "Epoch 65/100\n",
      "2/2 [==============================] - 0s 2ms/step - loss: 11.5396 - mae: 11.5396\n",
      "Epoch 66/100\n",
      "2/2 [==============================] - 0s 1ms/step - loss: 11.5015 - mae: 11.5015\n",
      "Epoch 67/100\n",
      "2/2 [==============================] - 0s 1ms/step - loss: 11.4581 - mae: 11.4581\n",
      "Epoch 68/100\n",
      "2/2 [==============================] - 0s 1ms/step - loss: 11.4145 - mae: 11.4145\n",
      "Epoch 69/100\n",
      "2/2 [==============================] - 0s 1ms/step - loss: 11.3762 - mae: 11.3762\n",
      "Epoch 70/100\n",
      "2/2 [==============================] - 0s 1ms/step - loss: 11.3347 - mae: 11.3347\n",
      "Epoch 71/100\n",
      "2/2 [==============================] - 0s 8ms/step - loss: 11.2937 - mae: 11.2937\n",
      "Epoch 72/100\n",
      "2/2 [==============================] - 0s 6ms/step - loss: 11.2528 - mae: 11.2528\n",
      "Epoch 73/100\n",
      "2/2 [==============================] - 0s 1ms/step - loss: 11.2142 - mae: 11.2142\n",
      "Epoch 74/100\n",
      "2/2 [==============================] - 0s 3ms/step - loss: 11.1771 - mae: 11.1771\n",
      "Epoch 75/100\n",
      "2/2 [==============================] - 0s 1ms/step - loss: 11.1386 - mae: 11.1386\n",
      "Epoch 76/100\n",
      "2/2 [==============================] - 0s 1ms/step - loss: 11.1016 - mae: 11.1016\n",
      "Epoch 77/100\n",
      "2/2 [==============================] - 0s 2ms/step - loss: 11.0642 - mae: 11.0642\n",
      "Epoch 78/100\n",
      "2/2 [==============================] - 0s 2ms/step - loss: 11.0226 - mae: 11.0226\n",
      "Epoch 79/100\n",
      "2/2 [==============================] - 0s 1ms/step - loss: 10.9850 - mae: 10.9850\n",
      "Epoch 80/100\n",
      "2/2 [==============================] - 0s 1ms/step - loss: 10.9484 - mae: 10.9484\n",
      "Epoch 81/100\n",
      "2/2 [==============================] - 0s 1ms/step - loss: 10.9088 - mae: 10.9088\n",
      "Epoch 82/100\n",
      "2/2 [==============================] - 0s 1ms/step - loss: 10.8670 - mae: 10.8670\n",
      "Epoch 83/100\n",
      "2/2 [==============================] - 0s 1ms/step - loss: 10.8281 - mae: 10.8281\n",
      "Epoch 84/100\n",
      "2/2 [==============================] - 0s 1ms/step - loss: 10.7897 - mae: 10.7897\n",
      "Epoch 85/100\n",
      "2/2 [==============================] - 0s 2ms/step - loss: 10.7521 - mae: 10.7521\n",
      "Epoch 86/100\n",
      "2/2 [==============================] - 0s 1ms/step - loss: 10.7116 - mae: 10.7116\n",
      "Epoch 87/100\n",
      "2/2 [==============================] - 0s 1ms/step - loss: 10.6738 - mae: 10.6738\n",
      "Epoch 88/100\n",
      "2/2 [==============================] - 0s 2ms/step - loss: 10.6330 - mae: 10.6330\n",
      "Epoch 89/100\n",
      "2/2 [==============================] - 0s 1ms/step - loss: 10.5900 - mae: 10.5900\n",
      "Epoch 90/100\n",
      "2/2 [==============================] - 0s 1ms/step - loss: 10.5502 - mae: 10.5502\n",
      "Epoch 91/100\n",
      "2/2 [==============================] - 0s 1ms/step - loss: 10.5087 - mae: 10.5087\n",
      "Epoch 92/100\n",
      "2/2 [==============================] - 0s 1ms/step - loss: 10.4672 - mae: 10.4672\n",
      "Epoch 93/100\n",
      "2/2 [==============================] - 0s 1ms/step - loss: 10.4248 - mae: 10.4248\n",
      "Epoch 94/100\n",
      "2/2 [==============================] - 0s 1ms/step - loss: 10.3850 - mae: 10.3850\n",
      "Epoch 95/100\n",
      "2/2 [==============================] - 0s 1ms/step - loss: 10.3447 - mae: 10.3447\n",
      "Epoch 96/100\n",
      "2/2 [==============================] - 0s 1ms/step - loss: 10.3046 - mae: 10.3046\n",
      "Epoch 97/100\n",
      "2/2 [==============================] - 0s 982us/step - loss: 10.2646 - mae: 10.2646\n",
      "Epoch 98/100\n",
      "2/2 [==============================] - 0s 1ms/step - loss: 10.2247 - mae: 10.2247\n",
      "Epoch 99/100\n",
      "2/2 [==============================] - 0s 1ms/step - loss: 10.1839 - mae: 10.1839\n",
      "Epoch 100/100\n",
      "2/2 [==============================] - 0s 1ms/step - loss: 10.1461 - mae: 10.1461\n"
     ]
    },
    {
     "data": {
      "text/plain": [
       "<keras.callbacks.History at 0x2812662e0>"
      ]
     },
     "execution_count": 20,
     "metadata": {},
     "output_type": "execute_result"
    }
   ],
   "source": [
    "model.fit((tf.expand_dims(X_train, axis=-1)), y_train, epochs=100)"
   ]
  },
  {
   "cell_type": "code",
   "execution_count": 21,
   "metadata": {},
   "outputs": [
    {
     "name": "stdout",
     "output_type": "stream",
     "text": [
      "Model: \"sequential_2\"\n",
      "_________________________________________________________________\n",
      " Layer (type)                Output Shape              Param #   \n",
      "=================================================================\n",
      " dense_3 (Dense)             (None, 1)                 2         \n",
      "                                                                 \n",
      "=================================================================\n",
      "Total params: 2\n",
      "Trainable params: 2\n",
      "Non-trainable params: 0\n",
      "_________________________________________________________________\n"
     ]
    }
   ],
   "source": [
    "model.summary()"
   ]
  },
  {
   "cell_type": "code",
   "execution_count": 23,
   "metadata": {},
   "outputs": [
    {
     "name": "stdout",
     "output_type": "stream",
     "text": [
      "You must install pydot (`pip install pydot`) and install graphviz (see instructions at https://graphviz.gitlab.io/download/) for plot_model to work.\n"
     ]
    }
   ],
   "source": [
    "from tensorflow.keras.utils import plot_model\n",
    "\n",
    "plot_model(model, show_shapes=True)"
   ]
  },
  {
   "attachments": {},
   "cell_type": "markdown",
   "metadata": {},
   "source": [
    "### Visualizing model prediction\n",
    "To visualize predictions its a good idea to plot them against the ground truth labels.\n"
   ]
  },
  {
   "cell_type": "code",
   "execution_count": 24,
   "metadata": {},
   "outputs": [
    {
     "name": "stdout",
     "output_type": "stream",
     "text": [
      "1/1 [==============================] - 0s 24ms/step\n"
     ]
    },
    {
     "data": {
      "text/plain": [
       "array([[61.05255 ],\n",
       "       [65.10928 ],\n",
       "       [69.166016],\n",
       "       [73.22275 ],\n",
       "       [77.27947 ],\n",
       "       [81.336205],\n",
       "       [85.39294 ],\n",
       "       [89.44967 ],\n",
       "       [93.5064  ],\n",
       "       [97.56313 ]], dtype=float32)"
      ]
     },
     "execution_count": 24,
     "metadata": {},
     "output_type": "execute_result"
    }
   ],
   "source": [
    "# make some prediction\n",
    "y_pred = model.predict(X_test)\n",
    "y_pred"
   ]
  },
  {
   "cell_type": "code",
   "execution_count": 25,
   "metadata": {},
   "outputs": [
    {
     "data": {
      "text/plain": [
       "<tf.Tensor: shape=(10,), dtype=int32, numpy=array([ 70,  74,  78,  82,  86,  90,  94,  98, 102, 106], dtype=int32)>"
      ]
     },
     "execution_count": 25,
     "metadata": {},
     "output_type": "execute_result"
    }
   ],
   "source": [
    "y_test"
   ]
  },
  {
   "cell_type": "code",
   "execution_count": 28,
   "metadata": {},
   "outputs": [],
   "source": [
    "def plot_prefictions(train_data=X_train, train_labels=y_train, test_data=X_test, test_labels=y_test, predictions=y_pred):\n",
    "    \"\"\"\n",
    "    Plots traing data, test data and compares predictions to ground truth albels\n",
    "    \"\"\"\n",
    "    plt.figure(figsize=(10,7))\n",
    "    plt.scatter(train_data, train_labels, c='b', label=\"Training data\")\n",
    "    plt.scatter(test_data, test_labels, c='g', label=\"Test data\")\n",
    "    plt.scatter(test_data, predictions, c='r', label=\"Prediction\")\n",
    "    plt.legend()\n",
    "    plt.show();"
   ]
  },
  {
   "cell_type": "code",
   "execution_count": 29,
   "metadata": {},
   "outputs": [
    {
     "data": {
      "image/png": "[encoded data removed]",
      "text/plain": [
       "<Figure size 1000x700 with 1 Axes>"
      ]
     },
     "metadata": {},
     "output_type": "display_data"
    }
   ],
   "source": [
    "plot_prefictions()"
   ]
  },
  {
   "cell_type": "code",
   "execution_count": 32,
   "metadata": {},
   "outputs": [],
   "source": [
    "from tensorflow.keras import Sequential\n",
    "from tensorflow.keras.layers import Dense\n",
    "from tensorflow.keras import metrics"
   ]
  },
  {
   "cell_type": "code",
   "execution_count": 41,
   "metadata": {},
   "outputs": [],
   "source": [
    "model_1 = Sequential()\n",
    "\n",
    "model_1.add(Dense(1))"
   ]
  },
  {
   "cell_type": "code",
   "execution_count": 42,
   "metadata": {},
   "outputs": [],
   "source": [
    "model_1.compile(loss='mae', optimizer='adam', metrics='mae')"
   ]
  },
  {
   "cell_type": "code",
   "execution_count": 43,
   "metadata": {},
   "outputs": [
    {
     "name": "stdout",
     "output_type": "stream",
     "text": [
      "2/2 [==============================] - 0s 2ms/step - loss: 12.2310 - mae: 12.2310\n"
     ]
    },
    {
     "data": {
      "text/plain": [
       "<keras.callbacks.History at 0x28c2a2a00>"
      ]
     },
     "execution_count": 43,
     "metadata": {},
     "output_type": "execute_result"
    }
   ],
   "source": [
    "model_1.fit(tf.expand_dims(X_train, axis=-1), y_train)"
   ]
  },
  {
   "cell_type": "code",
   "execution_count": 44,
   "metadata": {},
   "outputs": [
    {
     "name": "stdout",
     "output_type": "stream",
     "text": [
      "1/1 [==============================] - 0s 21ms/step\n"
     ]
    }
   ],
   "source": [
    "# plot_prefictions(predictions=model_1)\n",
    "y_pred_1 = model_1.predict(X_test)"
   ]
  },
  {
   "cell_type": "code",
   "execution_count": 45,
   "metadata": {},
   "outputs": [
    {
     "data": {
      "image/png": "[encoded data removed]",
      "text/plain": [
       "<Figure size 1000x700 with 1 Axes>"
      ]
     },
     "metadata": {},
     "output_type": "display_data"
    }
   ],
   "source": [
    "plot_prefictions(predictions=y_pred_1)"
   ]
  },
  {
   "cell_type": "code",
   "execution_count": 72,
   "metadata": {},
   "outputs": [],
   "source": [
    "model_2 = Sequential()"
   ]
  },
  {
   "cell_type": "code",
   "execution_count": 73,
   "metadata": {},
   "outputs": [],
   "source": [
    "\n",
    "\n",
    "model_2.add(Dense(10, activation='relu'))\n",
    "model_2.add(Dense(1,activation='linear'))\n",
    "\n",
    "model_2.compile(loss='mae', optimizer='sgd', metrics='mse')\n",
    "\n",
    "# model_2.summary()\n"
   ]
  },
  {
   "cell_type": "code",
   "execution_count": 74,
   "metadata": {},
   "outputs": [
    {
     "name": "stdout",
     "output_type": "stream",
     "text": [
      "Epoch 1/100\n",
      "2/2 [==============================] - 0s 2ms/step - loss: 43.8462 - mse: 2784.7261\n",
      "Epoch 2/100\n",
      "2/2 [==============================] - 0s 1ms/step - loss: 19.5776 - mse: 551.5117\n",
      "Epoch 3/100\n",
      "2/2 [==============================] - 0s 1ms/step - loss: 15.9332 - mse: 294.4742\n",
      "Epoch 4/100\n",
      "2/2 [==============================] - 0s 1ms/step - loss: 7.2055 - mse: 80.2486\n",
      "Epoch 5/100\n",
      "2/2 [==============================] - 0s 2ms/step - loss: 9.3004 - mse: 127.4965\n",
      "Epoch 6/100\n",
      "2/2 [==============================] - 0s 1ms/step - loss: 9.8007 - mse: 128.8840\n",
      "Epoch 7/100\n",
      "2/2 [==============================] - 0s 1ms/step - loss: 10.0327 - mse: 172.4886\n",
      "Epoch 8/100\n",
      "2/2 [==============================] - 0s 1ms/step - loss: 12.7044 - mse: 250.3418\n",
      "Epoch 9/100\n",
      "2/2 [==============================] - 0s 1ms/step - loss: 23.6928 - mse: 989.0021\n",
      "Epoch 10/100\n",
      "2/2 [==============================] - 0s 1ms/step - loss: 11.1048 - mse: 184.4819\n",
      "Epoch 11/100\n",
      "2/2 [==============================] - 0s 2ms/step - loss: 10.7288 - mse: 172.0597\n",
      "Epoch 12/100\n",
      "2/2 [==============================] - 0s 2ms/step - loss: 11.1517 - mse: 250.7096\n",
      "Epoch 13/100\n",
      "2/2 [==============================] - 0s 2ms/step - loss: 14.9381 - mse: 291.6135\n",
      "Epoch 14/100\n",
      "2/2 [==============================] - 0s 2ms/step - loss: 16.8575 - mse: 459.3430\n",
      "Epoch 15/100\n",
      "2/2 [==============================] - 0s 1ms/step - loss: 14.5649 - mse: 253.8776\n",
      "Epoch 16/100\n",
      "2/2 [==============================] - 0s 1ms/step - loss: 8.4136 - mse: 96.8203\n",
      "Epoch 17/100\n",
      "2/2 [==============================] - 0s 2ms/step - loss: 13.9093 - mse: 364.5258\n",
      "Epoch 18/100\n",
      "2/2 [==============================] - 0s 3ms/step - loss: 11.6774 - mse: 173.5665\n",
      "Epoch 19/100\n",
      "2/2 [==============================] - 0s 2ms/step - loss: 9.6460 - mse: 152.9440\n",
      "Epoch 20/100\n",
      "2/2 [==============================] - 0s 2ms/step - loss: 5.3104 - mse: 39.7908\n",
      "Epoch 21/100\n",
      "2/2 [==============================] - 0s 3ms/step - loss: 12.3165 - mse: 315.4770\n",
      "Epoch 22/100\n",
      "2/2 [==============================] - 0s 1ms/step - loss: 18.7757 - mse: 510.3841\n",
      "Epoch 23/100\n",
      "2/2 [==============================] - 0s 1ms/step - loss: 8.6618 - mse: 107.2818\n",
      "Epoch 24/100\n",
      "2/2 [==============================] - 0s 3ms/step - loss: 12.0559 - mse: 265.0089\n",
      "Epoch 25/100\n",
      "2/2 [==============================] - 0s 1ms/step - loss: 15.8751 - mse: 429.1557\n",
      "Epoch 26/100\n",
      "2/2 [==============================] - 0s 1ms/step - loss: 19.7275 - mse: 640.2565\n",
      "Epoch 27/100\n",
      "2/2 [==============================] - 0s 1ms/step - loss: 14.3796 - mse: 284.9080\n",
      "Epoch 28/100\n",
      "2/2 [==============================] - 0s 2ms/step - loss: 14.3793 - mse: 278.4274\n",
      "Epoch 29/100\n",
      "2/2 [==============================] - 0s 2ms/step - loss: 5.2039 - mse: 36.1102\n",
      "Epoch 30/100\n",
      "2/2 [==============================] - 0s 1ms/step - loss: 22.7351 - mse: 1003.0475\n",
      "Epoch 31/100\n",
      "2/2 [==============================] - 0s 1ms/step - loss: 9.4712 - mse: 133.3543\n",
      "Epoch 32/100\n",
      "2/2 [==============================] - 0s 6ms/step - loss: 11.9640 - mse: 254.7868\n",
      "Epoch 33/100\n",
      "2/2 [==============================] - 0s 5ms/step - loss: 5.0409 - mse: 36.7965\n",
      "Epoch 34/100\n",
      "2/2 [==============================] - 0s 2ms/step - loss: 17.6281 - mse: 506.2139\n",
      "Epoch 35/100\n",
      "2/2 [==============================] - 0s 4ms/step - loss: 7.1226 - mse: 67.5263\n",
      "Epoch 36/100\n",
      "2/2 [==============================] - 0s 1ms/step - loss: 18.1379 - mse: 647.2365\n",
      "Epoch 37/100\n",
      "2/2 [==============================] - 0s 2ms/step - loss: 7.7754 - mse: 96.0360\n",
      "Epoch 38/100\n",
      "2/2 [==============================] - 0s 1ms/step - loss: 9.7028 - mse: 162.1717\n",
      "Epoch 39/100\n",
      "2/2 [==============================] - 0s 1ms/step - loss: 15.0665 - mse: 459.4797\n",
      "Epoch 40/100\n",
      "2/2 [==============================] - 0s 1ms/step - loss: 13.2107 - mse: 237.9697\n",
      "Epoch 41/100\n",
      "2/2 [==============================] - 0s 1ms/step - loss: 6.8392 - mse: 90.3569\n",
      "Epoch 42/100\n",
      "2/2 [==============================] - 0s 2ms/step - loss: 11.8367 - mse: 223.5726\n",
      "Epoch 43/100\n",
      "2/2 [==============================] - 0s 1ms/step - loss: 9.4139 - mse: 178.9441\n",
      "Epoch 44/100\n",
      "2/2 [==============================] - 0s 1ms/step - loss: 23.2829 - mse: 1105.3319\n",
      "Epoch 45/100\n",
      "2/2 [==============================] - 0s 1ms/step - loss: 13.9257 - mse: 273.5125\n",
      "Epoch 46/100\n",
      "2/2 [==============================] - 0s 1ms/step - loss: 6.4735 - mse: 63.3799\n",
      "Epoch 47/100\n",
      "2/2 [==============================] - 0s 991us/step - loss: 8.5570 - mse: 118.2348\n",
      "Epoch 48/100\n",
      "2/2 [==============================] - 0s 1ms/step - loss: 10.6608 - mse: 192.4080\n",
      "Epoch 49/100\n",
      "2/2 [==============================] - 0s 1ms/step - loss: 8.9199 - mse: 117.3153\n",
      "Epoch 50/100\n",
      "2/2 [==============================] - 0s 2ms/step - loss: 12.3964 - mse: 297.5387\n",
      "Epoch 51/100\n",
      "2/2 [==============================] - 0s 1ms/step - loss: 9.0719 - mse: 130.7583\n",
      "Epoch 52/100\n",
      "2/2 [==============================] - 0s 1ms/step - loss: 18.6288 - mse: 705.4543\n",
      "Epoch 53/100\n",
      "2/2 [==============================] - 0s 1ms/step - loss: 8.3378 - mse: 135.9619\n",
      "Epoch 54/100\n",
      "2/2 [==============================] - 0s 1ms/step - loss: 14.5301 - mse: 305.9615\n",
      "Epoch 55/100\n",
      "2/2 [==============================] - 0s 1ms/step - loss: 21.6508 - mse: 848.1420\n",
      "Epoch 56/100\n",
      "2/2 [==============================] - 0s 1ms/step - loss: 13.0598 - mse: 237.9668\n",
      "Epoch 57/100\n",
      "2/2 [==============================] - 0s 1ms/step - loss: 6.8048 - mse: 69.2473\n",
      "Epoch 58/100\n",
      "2/2 [==============================] - 0s 2ms/step - loss: 6.6128 - mse: 73.5249\n",
      "Epoch 59/100\n",
      "2/2 [==============================] - 0s 1ms/step - loss: 12.7087 - mse: 317.8324\n",
      "Epoch 60/100\n",
      "2/2 [==============================] - 0s 1ms/step - loss: 11.4755 - mse: 261.3857\n",
      "Epoch 61/100\n",
      "2/2 [==============================] - 0s 1ms/step - loss: 15.0427 - mse: 340.4648\n",
      "Epoch 62/100\n",
      "2/2 [==============================] - 0s 1ms/step - loss: 7.7961 - mse: 104.4842\n",
      "Epoch 63/100\n",
      "2/2 [==============================] - 0s 3ms/step - loss: 7.1070 - mse: 73.0915\n",
      "Epoch 64/100\n",
      "2/2 [==============================] - 0s 1ms/step - loss: 16.5567 - mse: 485.4688\n",
      "Epoch 65/100\n",
      "2/2 [==============================] - 0s 1ms/step - loss: 12.5924 - mse: 201.8892\n",
      "Epoch 66/100\n",
      "2/2 [==============================] - 0s 1ms/step - loss: 10.5302 - mse: 158.8766\n",
      "Epoch 67/100\n",
      "2/2 [==============================] - 0s 1ms/step - loss: 6.2654 - mse: 61.8199\n",
      "Epoch 68/100\n",
      "2/2 [==============================] - 0s 1ms/step - loss: 11.2258 - mse: 244.1572\n",
      "Epoch 69/100\n",
      "2/2 [==============================] - 0s 1ms/step - loss: 19.9061 - mse: 706.9294\n",
      "Epoch 70/100\n",
      "2/2 [==============================] - 0s 975us/step - loss: 9.6022 - mse: 162.0041\n",
      "Epoch 71/100\n",
      "2/2 [==============================] - 0s 1ms/step - loss: 9.4269 - mse: 120.6226\n",
      "Epoch 72/100\n",
      "2/2 [==============================] - 0s 2ms/step - loss: 11.9011 - mse: 194.8936\n",
      "Epoch 73/100\n",
      "2/2 [==============================] - 0s 1ms/step - loss: 10.7990 - mse: 231.8737\n",
      "Epoch 74/100\n",
      "2/2 [==============================] - 0s 1ms/step - loss: 25.3516 - mse: 1022.4831\n",
      "Epoch 75/100\n",
      "2/2 [==============================] - 0s 1ms/step - loss: 4.8860 - mse: 31.1886\n",
      "Epoch 76/100\n",
      "2/2 [==============================] - 0s 3ms/step - loss: 13.3197 - mse: 310.6467\n",
      "Epoch 77/100\n",
      "2/2 [==============================] - 0s 3ms/step - loss: 15.4198 - mse: 391.0966\n",
      "Epoch 78/100\n",
      "2/2 [==============================] - 0s 10ms/step - loss: 11.0827 - mse: 174.0414\n",
      "Epoch 79/100\n",
      "2/2 [==============================] - 0s 2ms/step - loss: 12.0715 - mse: 211.0531\n",
      "Epoch 80/100\n",
      "2/2 [==============================] - 0s 3ms/step - loss: 18.6518 - mse: 544.9968\n",
      "Epoch 81/100\n",
      "2/2 [==============================] - 0s 4ms/step - loss: 6.3140 - mse: 58.8259\n",
      "Epoch 82/100\n",
      "2/2 [==============================] - 0s 2ms/step - loss: 7.2962 - mse: 85.4623\n",
      "Epoch 83/100\n",
      "2/2 [==============================] - 0s 2ms/step - loss: 8.3095 - mse: 102.0967\n",
      "Epoch 84/100\n",
      "2/2 [==============================] - 0s 2ms/step - loss: 5.9403 - mse: 51.4372\n",
      "Epoch 85/100\n",
      "2/2 [==============================] - 0s 1ms/step - loss: 16.2664 - mse: 461.6863\n",
      "Epoch 86/100\n",
      "2/2 [==============================] - 0s 1ms/step - loss: 14.5029 - mse: 260.7233\n",
      "Epoch 87/100\n",
      "2/2 [==============================] - 0s 2ms/step - loss: 12.2341 - mse: 221.3668\n",
      "Epoch 88/100\n",
      "2/2 [==============================] - 0s 2ms/step - loss: 10.4881 - mse: 173.5946\n",
      "Epoch 89/100\n",
      "2/2 [==============================] - 0s 1ms/step - loss: 6.8483 - mse: 67.7650\n",
      "Epoch 90/100\n",
      "2/2 [==============================] - 0s 1ms/step - loss: 15.5276 - mse: 462.8644\n",
      "Epoch 91/100\n",
      "2/2 [==============================] - 0s 1ms/step - loss: 11.8311 - mse: 199.8372\n",
      "Epoch 92/100\n",
      "2/2 [==============================] - 0s 2ms/step - loss: 9.4067 - mse: 133.1890\n",
      "Epoch 93/100\n",
      "2/2 [==============================] - 0s 1ms/step - loss: 9.0742 - mse: 117.5124\n",
      "Epoch 94/100\n",
      "2/2 [==============================] - 0s 1ms/step - loss: 12.3938 - mse: 316.8990\n",
      "Epoch 95/100\n",
      "2/2 [==============================] - 0s 1ms/step - loss: 15.5023 - mse: 336.1351\n",
      "Epoch 96/100\n",
      "2/2 [==============================] - 0s 1ms/step - loss: 8.3459 - mse: 153.1024\n",
      "Epoch 97/100\n",
      "2/2 [==============================] - 0s 1ms/step - loss: 9.1867 - mse: 114.7203\n",
      "Epoch 98/100\n",
      "2/2 [==============================] - 0s 1ms/step - loss: 7.9190 - mse: 99.5559\n",
      "Epoch 99/100\n",
      "2/2 [==============================] - 0s 1ms/step - loss: 8.7609 - mse: 151.9846\n",
      "Epoch 100/100\n",
      "2/2 [==============================] - 0s 1ms/step - loss: 17.3309 - mse: 559.0660\n"
     ]
    },
    {
     "data": {
      "text/plain": [
       "<keras.callbacks.History at 0x1580c52e0>"
      ]
     },
     "execution_count": 74,
     "metadata": {},
     "output_type": "execute_result"
    }
   ],
   "source": [
    "model_2.fit(tf.expand_dims(X_train, axis=-1), y_train, epochs=100)"
   ]
  },
  {
   "cell_type": "code",
   "execution_count": 75,
   "metadata": {},
   "outputs": [
    {
     "name": "stdout",
     "output_type": "stream",
     "text": [
      "1/1 [==============================] - 0s 25ms/step\n"
     ]
    }
   ],
   "source": [
    "y_pred_2 = model_2.predict(X_test)"
   ]
  },
  {
   "cell_type": "code",
   "execution_count": 76,
   "metadata": {},
   "outputs": [
    {
     "data": {
      "image/png": "[encoded data removed]",
      "text/plain": [
       "<Figure size 1000x700 with 1 Axes>"
      ]
     },
     "metadata": {},
     "output_type": "display_data"
    }
   ],
   "source": [
    "plot_prefictions(predictions=y_pred_2)"
   ]
  },
  {
   "cell_type": "code",
   "execution_count": 78,
   "metadata": {},
   "outputs": [
    {
     "data": {
      "text/html": [
       "<div>\n",
       "<style scoped>\n",
       "    .dataframe tbody tr th:only-of-type {\n",
       "        vertical-align: middle;\n",
       "    }\n",
       "\n",
       "    .dataframe tbody tr th {\n",
       "        vertical-align: top;\n",
       "    }\n",
       "\n",
       "    .dataframe thead th {\n",
       "        text-align: right;\n",
       "    }\n",
       "</style>\n",
       "<table border=\"1\" class=\"dataframe\">\n",
       "  <thead>\n",
       "    <tr style=\"text-align: right;\">\n",
       "      <th></th>\n",
       "      <th>age</th>\n",
       "      <th>sex</th>\n",
       "      <th>bmi</th>\n",
       "      <th>children</th>\n",
       "      <th>smoker</th>\n",
       "      <th>region</th>\n",
       "      <th>charges</th>\n",
       "    </tr>\n",
       "  </thead>\n",
       "  <tbody>\n",
       "    <tr>\n",
       "      <th>0</th>\n",
       "      <td>19</td>\n",
       "      <td>female</td>\n",
       "      <td>27.900</td>\n",
       "      <td>0</td>\n",
       "      <td>yes</td>\n",
       "      <td>southwest</td>\n",
       "      <td>16884.92400</td>\n",
       "    </tr>\n",
       "    <tr>\n",
       "      <th>1</th>\n",
       "      <td>18</td>\n",
       "      <td>male</td>\n",
       "      <td>33.770</td>\n",
       "      <td>1</td>\n",
       "      <td>no</td>\n",
       "      <td>southeast</td>\n",
       "      <td>1725.55230</td>\n",
       "    </tr>\n",
       "    <tr>\n",
       "      <th>2</th>\n",
       "      <td>28</td>\n",
       "      <td>male</td>\n",
       "      <td>33.000</td>\n",
       "      <td>3</td>\n",
       "      <td>no</td>\n",
       "      <td>southeast</td>\n",
       "      <td>4449.46200</td>\n",
       "    </tr>\n",
       "    <tr>\n",
       "      <th>3</th>\n",
       "      <td>33</td>\n",
       "      <td>male</td>\n",
       "      <td>22.705</td>\n",
       "      <td>0</td>\n",
       "      <td>no</td>\n",
       "      <td>northwest</td>\n",
       "      <td>21984.47061</td>\n",
       "    </tr>\n",
       "    <tr>\n",
       "      <th>4</th>\n",
       "      <td>32</td>\n",
       "      <td>male</td>\n",
       "      <td>28.880</td>\n",
       "      <td>0</td>\n",
       "      <td>no</td>\n",
       "      <td>northwest</td>\n",
       "      <td>3866.85520</td>\n",
       "    </tr>\n",
       "  </tbody>\n",
       "</table>\n",
       "</div>"
      ],
      "text/plain": [
       "   age     sex     bmi  children smoker     region      charges\n",
       "0   19  female  27.900         0    yes  southwest  16884.92400\n",
       "1   18    male  33.770         1     no  southeast   1725.55230\n",
       "2   28    male  33.000         3     no  southeast   4449.46200\n",
       "3   33    male  22.705         0     no  northwest  21984.47061\n",
       "4   32    male  28.880         0     no  northwest   3866.85520"
      ]
     },
     "execution_count": 78,
     "metadata": {},
     "output_type": "execute_result"
    }
   ],
   "source": [
    "import pandas as pd\n",
    "df = pd.read_csv(\"https://raw.githubusercontent.com/stedy/Machine-Learning-with-R-datasets/master/insurance.csv\")\n",
    "df.head()"
   ]
  },
  {
   "cell_type": "code",
   "execution_count": 79,
   "metadata": {},
   "outputs": [
    {
     "data": {
      "text/html": [
       "<div>\n",
       "<style scoped>\n",
       "    .dataframe tbody tr th:only-of-type {\n",
       "        vertical-align: middle;\n",
       "    }\n",
       "\n",
       "    .dataframe tbody tr th {\n",
       "        vertical-align: top;\n",
       "    }\n",
       "\n",
       "    .dataframe thead th {\n",
       "        text-align: right;\n",
       "    }\n",
       "</style>\n",
       "<table border=\"1\" class=\"dataframe\">\n",
       "  <thead>\n",
       "    <tr style=\"text-align: right;\">\n",
       "      <th></th>\n",
       "      <th>age</th>\n",
       "      <th>bmi</th>\n",
       "      <th>children</th>\n",
       "      <th>charges</th>\n",
       "      <th>sex_female</th>\n",
       "      <th>sex_male</th>\n",
       "      <th>smoker_no</th>\n",
       "      <th>smoker_yes</th>\n",
       "      <th>region_northeast</th>\n",
       "      <th>region_northwest</th>\n",
       "      <th>region_southeast</th>\n",
       "      <th>region_southwest</th>\n",
       "    </tr>\n",
       "  </thead>\n",
       "  <tbody>\n",
       "    <tr>\n",
       "      <th>0</th>\n",
       "      <td>19</td>\n",
       "      <td>27.900</td>\n",
       "      <td>0</td>\n",
       "      <td>16884.92400</td>\n",
       "      <td>1</td>\n",
       "      <td>0</td>\n",
       "      <td>0</td>\n",
       "      <td>1</td>\n",
       "      <td>0</td>\n",
       "      <td>0</td>\n",
       "      <td>0</td>\n",
       "      <td>1</td>\n",
       "    </tr>\n",
       "    <tr>\n",
       "      <th>1</th>\n",
       "      <td>18</td>\n",
       "      <td>33.770</td>\n",
       "      <td>1</td>\n",
       "      <td>1725.55230</td>\n",
       "      <td>0</td>\n",
       "      <td>1</td>\n",
       "      <td>1</td>\n",
       "      <td>0</td>\n",
       "      <td>0</td>\n",
       "      <td>0</td>\n",
       "      <td>1</td>\n",
       "      <td>0</td>\n",
       "    </tr>\n",
       "    <tr>\n",
       "      <th>2</th>\n",
       "      <td>28</td>\n",
       "      <td>33.000</td>\n",
       "      <td>3</td>\n",
       "      <td>4449.46200</td>\n",
       "      <td>0</td>\n",
       "      <td>1</td>\n",
       "      <td>1</td>\n",
       "      <td>0</td>\n",
       "      <td>0</td>\n",
       "      <td>0</td>\n",
       "      <td>1</td>\n",
       "      <td>0</td>\n",
       "    </tr>\n",
       "    <tr>\n",
       "      <th>3</th>\n",
       "      <td>33</td>\n",
       "      <td>22.705</td>\n",
       "      <td>0</td>\n",
       "      <td>21984.47061</td>\n",
       "      <td>0</td>\n",
       "      <td>1</td>\n",
       "      <td>1</td>\n",
       "      <td>0</td>\n",
       "      <td>0</td>\n",
       "      <td>1</td>\n",
       "      <td>0</td>\n",
       "      <td>0</td>\n",
       "    </tr>\n",
       "    <tr>\n",
       "      <th>4</th>\n",
       "      <td>32</td>\n",
       "      <td>28.880</td>\n",
       "      <td>0</td>\n",
       "      <td>3866.85520</td>\n",
       "      <td>0</td>\n",
       "      <td>1</td>\n",
       "      <td>1</td>\n",
       "      <td>0</td>\n",
       "      <td>0</td>\n",
       "      <td>1</td>\n",
       "      <td>0</td>\n",
       "      <td>0</td>\n",
       "    </tr>\n",
       "  </tbody>\n",
       "</table>\n",
       "</div>"
      ],
      "text/plain": [
       "   age     bmi  children      charges  sex_female  sex_male  smoker_no  \\\n",
       "0   19  27.900         0  16884.92400           1         0          0   \n",
       "1   18  33.770         1   1725.55230           0         1          1   \n",
       "2   28  33.000         3   4449.46200           0         1          1   \n",
       "3   33  22.705         0  21984.47061           0         1          1   \n",
       "4   32  28.880         0   3866.85520           0         1          1   \n",
       "\n",
       "   smoker_yes  region_northeast  region_northwest  region_southeast  \\\n",
       "0           1                 0                 0                 0   \n",
       "1           0                 0                 0                 1   \n",
       "2           0                 0                 0                 1   \n",
       "3           0                 0                 1                 0   \n",
       "4           0                 0                 1                 0   \n",
       "\n",
       "   region_southwest  \n",
       "0                 1  \n",
       "1                 0  \n",
       "2                 0  \n",
       "3                 0  \n",
       "4                 0  "
      ]
     },
     "execution_count": 79,
     "metadata": {},
     "output_type": "execute_result"
    }
   ],
   "source": [
    "ohe = pd.get_dummies(df)\n",
    "ohe.head()"
   ]
  },
  {
   "cell_type": "code",
   "execution_count": null,
   "metadata": {},
   "outputs": [],
   "source": []
  }
 ],
 "metadata": {
  "kernelspec": {
   "display_name": "Python 3 (ipykernel)",
   "language": "python",
   "name": "python3"
  },
  "language_info": {
   "codemirror_mode": {
    "name": "ipython",
    "version": 3
   },
   "file_extension": ".py",
   "mimetype": "text/x-python",
   "name": "python",
   "nbconvert_exporter": "python",
   "pygments_lexer": "ipython3",
   "version": "3.9.15"
  },
  "toc": {
   "base_numbering": 1,
   "nav_menu": {},
   "number_sections": false,
   "sideBar": true,
   "skip_h1_title": false,
   "title_cell": "Table of Contents",
   "title_sidebar": "Contents",
   "toc_cell": false,
   "toc_position": {},
   "toc_section_display": true,
   "toc_window_display": false
  }
 },
 "nbformat": 4,
 "nbformat_minor": 2
}
