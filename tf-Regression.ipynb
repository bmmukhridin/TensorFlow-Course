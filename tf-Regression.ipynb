{
 "cells": [
  {
   "attachments": {},
   "cell_type": "markdown",
   "metadata": {},
   "source": [
    "# Introduction to Regression with Neural Network in TensorFlow\n",
    "\n",
    "There are many definitions for a regression problem but in our case we are going to simplyfy it: predicting a numerical variable based on some other combination of variables, even shorter... predicting a number"
   ]
  },
  {
   "cell_type": "code",
   "execution_count": 2,
   "metadata": {},
   "outputs": [
    {
     "name": "stderr",
     "output_type": "stream",
     "text": [
      "2023-05-21 22:47:14.599248: I tensorflow/core/platform/cpu_feature_guard.cc:193] This TensorFlow binary is optimized with oneAPI Deep Neural Network Library (oneDNN) to use the following CPU instructions in performance-critical operations:  AVX2 FMA\n",
      "To enable them in other operations, rebuild TensorFlow with the appropriate compiler flags.\n"
     ]
    },
    {
     "name": "stdout",
     "output_type": "stream",
     "text": [
      "2.11.0\n"
     ]
    }
   ],
   "source": [
    "# import TensorFlow\n",
    "import tensorflow as tf\n",
    "print(tf.__version__)"
   ]
  },
  {
   "cell_type": "code",
   "execution_count": 3,
   "metadata": {},
   "outputs": [
    {
     "data": {
      "text/plain": [
       "<matplotlib.collections.PathCollection at 0x131188220>"
      ]
     },
     "execution_count": 3,
     "metadata": {},
     "output_type": "execute_result"
    },
    {
     "data": {
      "image/png": "[encoded data removed]",
      "text/plain": [
       "<Figure size 640x480 with 1 Axes>"
      ]
     },
     "metadata": {},
     "output_type": "display_data"
    }
   ],
   "source": [
    "import numpy as np\n",
    "import matplotlib.pyplot as plt\n",
    "\n",
    "# create futures\n",
    "X = np.array([-7.0, -4.0, -1.0, 2.0,5.0,8.0,11.0,14.0])\n",
    "y = np.array([3,6,9,12,15,18,21,24.0])\n",
    "\n",
    "plt.scatter(X,y)"
   ]
  },
  {
   "cell_type": "code",
   "execution_count": 4,
   "metadata": {},
   "outputs": [
    {
     "name": "stderr",
     "output_type": "stream",
     "text": [
      "2023-05-21 22:47:25.240177: I tensorflow/core/platform/cpu_feature_guard.cc:193] This TensorFlow binary is optimized with oneAPI Deep Neural Network Library (oneDNN) to use the following CPU instructions in performance-critical operations:  AVX2 FMA\n",
      "To enable them in other operations, rebuild TensorFlow with the appropriate compiler flags.\n"
     ]
    },
    {
     "data": {
      "text/plain": [
       "(<tf.Tensor: shape=(8,), dtype=float64, numpy=array([-7., -4., -1.,  2.,  5.,  8., 11., 14.])>,\n",
       " <tf.Tensor: shape=(8,), dtype=float64, numpy=array([ 3.,  6.,  9., 12., 15., 18., 21., 24.])>)"
      ]
     },
     "execution_count": 4,
     "metadata": {},
     "output_type": "execute_result"
    }
   ],
   "source": [
    "X = tf.constant(X)\n",
    "y = tf.constant(y)\n",
    "X,y"
   ]
  },
  {
   "cell_type": "code",
   "execution_count": 5,
   "metadata": {},
   "outputs": [
    {
     "data": {
      "text/plain": [
       "(TensorShape([]), TensorShape([]))"
      ]
     },
     "execution_count": 5,
     "metadata": {},
     "output_type": "execute_result"
    }
   ],
   "source": [
    "input_shape =X[0].shape\n",
    "output_shape = y[0].shape\n",
    "input_shape,output_shape"
   ]
  },
  {
   "attachments": {},
   "cell_type": "markdown",
   "metadata": {},
   "source": [
    "### steps in Modelling with TensorFlow\n",
    "\n",
    "1. Creating a model - define the input and output layers, as well as the hidden layers of a deep learning model.\n",
    "2. Compiling a model - define the loss function (in other words, the function which tells our model how wrong it is) and the optimizer (tells our model how to improve the patterns its learning) and evaluation metrics (what we can use to interpret the performance of our model).\n",
    "3. Fitting a mdel - letting the model try to find patterns between X & y (features and labels)."
   ]
  },
  {
   "cell_type": "code",
   "execution_count": 6,
   "metadata": {},
   "outputs": [
    {
     "data": {
      "text/plain": [
       "[]"
      ]
     },
     "execution_count": 6,
     "metadata": {},
     "output_type": "execute_result"
    }
   ],
   "source": [
    "tf.config.list_physical_devices(\"GPU\")"
   ]
  },
  {
   "cell_type": "code",
   "execution_count": 7,
   "metadata": {},
   "outputs": [
    {
     "name": "stdout",
     "output_type": "stream",
     "text": [
      "Epoch 1/5\n",
      "1/1 [==============================] - 0s 336ms/step - loss: 17.7114 - mae: 17.7114\n",
      "Epoch 2/5\n",
      "1/1 [==============================] - 0s 5ms/step - loss: 17.4302 - mae: 17.4302\n",
      "Epoch 3/5\n",
      "1/1 [==============================] - 0s 5ms/step - loss: 17.1489 - mae: 17.1489\n",
      "Epoch 4/5\n",
      "1/1 [==============================] - 0s 5ms/step - loss: 16.8677 - mae: 16.8677\n",
      "Epoch 5/5\n",
      "1/1 [==============================] - 0s 5ms/step - loss: 16.5864 - mae: 16.5864\n"
     ]
    },
    {
     "data": {
      "text/plain": [
       "<keras.callbacks.History at 0x1313c3730>"
      ]
     },
     "execution_count": 7,
     "metadata": {},
     "output_type": "execute_result"
    }
   ],
   "source": [
    "# Set random seed\n",
    "tf.random.set_seed(42)\n",
    "\n",
    "# 1. Create a model using the Sequential API\n",
    "model = tf.keras.Sequential([\n",
    "    tf.keras.layers.Dense(1)\n",
    "])\n",
    "\n",
    "# 2. Compile the model\n",
    "model.compile(loss='mae', optimizer='sgd', metrics=['mae'])\n",
    "\n",
    "# 3. Fit the Model\n",
    "model.fit(tf.expand_dims(X, axis=-1),y,epochs=5)"
   ]
  },
  {
   "cell_type": "code",
   "execution_count": 8,
   "metadata": {},
   "outputs": [
    {
     "data": {
      "text/plain": [
       "(<tf.Tensor: shape=(8,), dtype=float64, numpy=array([-7., -4., -1.,  2.,  5.,  8., 11., 14.])>,\n",
       " <tf.Tensor: shape=(8,), dtype=float64, numpy=array([ 3.,  6.,  9., 12., 15., 18., 21., 24.])>)"
      ]
     },
     "execution_count": 8,
     "metadata": {},
     "output_type": "execute_result"
    }
   ],
   "source": [
    "X,y"
   ]
  },
  {
   "cell_type": "code",
   "execution_count": 9,
   "metadata": {},
   "outputs": [
    {
     "name": "stdout",
     "output_type": "stream",
     "text": [
      "1/1 [==============================] - 0s 85ms/step\n"
     ]
    },
    {
     "data": {
      "text/plain": [
       "array([[-11.565564]], dtype=float32)"
      ]
     },
     "execution_count": 9,
     "metadata": {},
     "output_type": "execute_result"
    }
   ],
   "source": [
    "y_pred = model.predict([17.0])\n",
    "y_pred"
   ]
  },
  {
   "cell_type": "code",
   "execution_count": 10,
   "metadata": {},
   "outputs": [
    {
     "data": {
      "text/plain": [
       "array([[-0.56556416]], dtype=float32)"
      ]
     },
     "execution_count": 10,
     "metadata": {},
     "output_type": "execute_result"
    }
   ],
   "source": [
    "y_pred+11"
   ]
  },
  {
   "attachments": {},
   "cell_type": "markdown",
   "metadata": {},
   "source": [
    "## Improving our model\n",
    "\n",
    "We can improve our model, by altering the steps we took to create a model.\n",
    "\n",
    "1. **Creating a model** - here we might add more layers, increase the number oh hidden units (all called neurons) within each of the hideen layers, change the activation function of each layer.\n",
    "\n",
    "2. **Compiling a model** - here we might change the optimization function or peerhaps the **learning rate** of the optimization function.\n",
    "\n",
    "3. **Fitting a model** - here we might fit a model for more **epochs** (leave it training for longer) or on more data (give the model more examples to learn from)."
   ]
  },
  {
   "cell_type": "code",
   "execution_count": 18,
   "metadata": {},
   "outputs": [
    {
     "name": "stderr",
     "output_type": "stream",
     "text": [
      "WARNING:absl:`lr` is deprecated, please use `learning_rate` instead, or use the legacy optimizer, e.g.,tf.keras.optimizers.legacy.Adam.\n"
     ]
    },
    {
     "name": "stdout",
     "output_type": "stream",
     "text": [
      "Epoch 1/100\n",
      "1/1 [==============================] - 0s 313ms/step - loss: 8.3013 - mae: 8.3013\n",
      "Epoch 2/100\n",
      "1/1 [==============================] - 0s 3ms/step - loss: 8.2968 - mae: 8.2968\n",
      "Epoch 3/100\n",
      "1/1 [==============================] - 0s 5ms/step - loss: 8.2923 - mae: 8.2923\n",
      "Epoch 4/100\n",
      "1/1 [==============================] - 0s 4ms/step - loss: 8.2878 - mae: 8.2878\n",
      "Epoch 5/100\n",
      "1/1 [==============================] - 0s 4ms/step - loss: 8.2833 - mae: 8.2833\n",
      "Epoch 6/100\n",
      "1/1 [==============================] - 0s 5ms/step - loss: 8.2788 - mae: 8.2788\n",
      "Epoch 7/100\n",
      "1/1 [==============================] - 0s 6ms/step - loss: 8.2743 - mae: 8.2743\n",
      "Epoch 8/100\n",
      "1/1 [==============================] - 0s 5ms/step - loss: 8.2698 - mae: 8.2698\n",
      "Epoch 9/100\n",
      "1/1 [==============================] - 0s 7ms/step - loss: 8.2653 - mae: 8.2653\n",
      "Epoch 10/100\n",
      "1/1 [==============================] - 0s 6ms/step - loss: 8.2608 - mae: 8.2608\n",
      "Epoch 11/100\n",
      "1/1 [==============================] - 0s 7ms/step - loss: 8.2563 - mae: 8.2563\n",
      "Epoch 12/100\n",
      "1/1 [==============================] - 0s 6ms/step - loss: 8.2518 - mae: 8.2518\n",
      "Epoch 13/100\n",
      "1/1 [==============================] - 0s 7ms/step - loss: 8.2473 - mae: 8.2473\n",
      "Epoch 14/100\n",
      "1/1 [==============================] - 0s 7ms/step - loss: 8.2428 - mae: 8.2428\n",
      "Epoch 15/100\n",
      "1/1 [==============================] - 0s 8ms/step - loss: 8.2383 - mae: 8.2383\n",
      "Epoch 16/100\n",
      "1/1 [==============================] - 0s 6ms/step - loss: 8.2338 - mae: 8.2338\n",
      "Epoch 17/100\n",
      "1/1 [==============================] - 0s 7ms/step - loss: 8.2293 - mae: 8.2293\n",
      "Epoch 18/100\n",
      "1/1 [==============================] - 0s 56ms/step - loss: 8.2248 - mae: 8.2248\n",
      "Epoch 19/100\n",
      "1/1 [==============================] - 0s 5ms/step - loss: 8.2203 - mae: 8.2203\n",
      "Epoch 20/100\n",
      "1/1 [==============================] - 0s 20ms/step - loss: 8.2158 - mae: 8.2158\n",
      "Epoch 21/100\n",
      "1/1 [==============================] - 0s 7ms/step - loss: 8.2113 - mae: 8.2113\n",
      "Epoch 22/100\n",
      "1/1 [==============================] - 0s 6ms/step - loss: 8.2068 - mae: 8.2068\n",
      "Epoch 23/100\n",
      "1/1 [==============================] - 0s 5ms/step - loss: 8.2023 - mae: 8.2023\n",
      "Epoch 24/100\n",
      "1/1 [==============================] - 0s 4ms/step - loss: 8.1978 - mae: 8.1978\n",
      "Epoch 25/100\n",
      "1/1 [==============================] - 0s 4ms/step - loss: 8.1933 - mae: 8.1933\n",
      "Epoch 26/100\n",
      "1/1 [==============================] - 0s 5ms/step - loss: 8.1888 - mae: 8.1888\n",
      "Epoch 27/100\n",
      "1/1 [==============================] - 0s 4ms/step - loss: 8.1843 - mae: 8.1843\n",
      "Epoch 28/100\n",
      "1/1 [==============================] - 0s 5ms/step - loss: 8.1798 - mae: 8.1798\n",
      "Epoch 29/100\n",
      "1/1 [==============================] - 0s 6ms/step - loss: 8.1753 - mae: 8.1753\n",
      "Epoch 30/100\n",
      "1/1 [==============================] - 0s 5ms/step - loss: 8.1708 - mae: 8.1708\n",
      "Epoch 31/100\n",
      "1/1 [==============================] - 0s 4ms/step - loss: 8.1663 - mae: 8.1663\n",
      "Epoch 32/100\n",
      "1/1 [==============================] - 0s 5ms/step - loss: 8.1618 - mae: 8.1618\n",
      "Epoch 33/100\n",
      "1/1 [==============================] - 0s 5ms/step - loss: 8.1573 - mae: 8.1573\n",
      "Epoch 34/100\n",
      "1/1 [==============================] - 0s 4ms/step - loss: 8.1528 - mae: 8.1528\n",
      "Epoch 35/100\n",
      "1/1 [==============================] - 0s 5ms/step - loss: 8.1483 - mae: 8.1483\n",
      "Epoch 36/100\n",
      "1/1 [==============================] - 0s 5ms/step - loss: 8.1438 - mae: 8.1438\n",
      "Epoch 37/100\n",
      "1/1 [==============================] - 0s 5ms/step - loss: 8.1393 - mae: 8.1393\n",
      "Epoch 38/100\n",
      "1/1 [==============================] - 0s 5ms/step - loss: 8.1348 - mae: 8.1348\n",
      "Epoch 39/100\n",
      "1/1 [==============================] - 0s 4ms/step - loss: 8.1303 - mae: 8.1303\n",
      "Epoch 40/100\n",
      "1/1 [==============================] - 0s 5ms/step - loss: 8.1258 - mae: 8.1258\n",
      "Epoch 41/100\n",
      "1/1 [==============================] - 0s 5ms/step - loss: 8.1213 - mae: 8.1213\n",
      "Epoch 42/100\n",
      "1/1 [==============================] - 0s 4ms/step - loss: 8.1168 - mae: 8.1168\n",
      "Epoch 43/100\n",
      "1/1 [==============================] - 0s 4ms/step - loss: 8.1123 - mae: 8.1123\n",
      "Epoch 44/100\n",
      "1/1 [==============================] - 0s 11ms/step - loss: 8.1078 - mae: 8.1078\n",
      "Epoch 45/100\n",
      "1/1 [==============================] - 0s 6ms/step - loss: 8.1033 - mae: 8.1033\n",
      "Epoch 46/100\n",
      "1/1 [==============================] - 0s 5ms/step - loss: 8.0988 - mae: 8.0988\n",
      "Epoch 47/100\n",
      "1/1 [==============================] - 0s 5ms/step - loss: 8.0943 - mae: 8.0943\n",
      "Epoch 48/100\n",
      "1/1 [==============================] - 0s 4ms/step - loss: 8.0898 - mae: 8.0898\n",
      "Epoch 49/100\n",
      "1/1 [==============================] - 0s 7ms/step - loss: 8.0853 - mae: 8.0853\n",
      "Epoch 50/100\n",
      "1/1 [==============================] - 0s 5ms/step - loss: 8.0808 - mae: 8.0808\n",
      "Epoch 51/100\n",
      "1/1 [==============================] - 0s 5ms/step - loss: 8.0763 - mae: 8.0763\n",
      "Epoch 52/100\n",
      "1/1 [==============================] - 0s 5ms/step - loss: 8.0718 - mae: 8.0718\n",
      "Epoch 53/100\n",
      "1/1 [==============================] - 0s 4ms/step - loss: 8.0673 - mae: 8.0673\n",
      "Epoch 54/100\n",
      "1/1 [==============================] - 0s 4ms/step - loss: 8.0628 - mae: 8.0628\n",
      "Epoch 55/100\n",
      "1/1 [==============================] - 0s 4ms/step - loss: 8.0583 - mae: 8.0583\n",
      "Epoch 56/100\n",
      "1/1 [==============================] - 0s 5ms/step - loss: 8.0538 - mae: 8.0538\n",
      "Epoch 57/100\n",
      "1/1 [==============================] - 0s 5ms/step - loss: 8.0493 - mae: 8.0493\n",
      "Epoch 58/100\n",
      "1/1 [==============================] - 0s 29ms/step - loss: 8.0448 - mae: 8.0448\n",
      "Epoch 59/100\n",
      "1/1 [==============================] - 0s 5ms/step - loss: 8.0403 - mae: 8.0403\n",
      "Epoch 60/100\n",
      "1/1 [==============================] - 0s 5ms/step - loss: 8.0358 - mae: 8.0358\n",
      "Epoch 61/100\n",
      "1/1 [==============================] - 0s 5ms/step - loss: 8.0313 - mae: 8.0313\n",
      "Epoch 62/100\n",
      "1/1 [==============================] - 0s 6ms/step - loss: 8.0268 - mae: 8.0268\n",
      "Epoch 63/100\n",
      "1/1 [==============================] - 0s 5ms/step - loss: 8.0223 - mae: 8.0223\n",
      "Epoch 64/100\n",
      "1/1 [==============================] - 0s 5ms/step - loss: 8.0178 - mae: 8.0178\n",
      "Epoch 65/100\n",
      "1/1 [==============================] - 0s 5ms/step - loss: 8.0133 - mae: 8.0133\n",
      "Epoch 66/100\n",
      "1/1 [==============================] - 0s 5ms/step - loss: 8.0088 - mae: 8.0088\n",
      "Epoch 67/100\n",
      "1/1 [==============================] - 0s 5ms/step - loss: 8.0043 - mae: 8.0043\n",
      "Epoch 68/100\n",
      "1/1 [==============================] - 0s 5ms/step - loss: 7.9998 - mae: 7.9998\n",
      "Epoch 69/100\n",
      "1/1 [==============================] - 0s 4ms/step - loss: 7.9953 - mae: 7.9953\n",
      "Epoch 70/100\n",
      "1/1 [==============================] - 0s 5ms/step - loss: 7.9908 - mae: 7.9908\n",
      "Epoch 71/100\n",
      "1/1 [==============================] - 0s 5ms/step - loss: 7.9863 - mae: 7.9863\n",
      "Epoch 72/100\n",
      "1/1 [==============================] - 0s 5ms/step - loss: 7.9818 - mae: 7.9818\n",
      "Epoch 73/100\n",
      "1/1 [==============================] - 0s 4ms/step - loss: 7.9773 - mae: 7.9773\n",
      "Epoch 74/100\n",
      "1/1 [==============================] - 0s 5ms/step - loss: 7.9728 - mae: 7.9728\n",
      "Epoch 75/100\n",
      "1/1 [==============================] - 0s 4ms/step - loss: 7.9683 - mae: 7.9683\n",
      "Epoch 76/100\n",
      "1/1 [==============================] - 0s 4ms/step - loss: 7.9638 - mae: 7.9638\n",
      "Epoch 77/100\n",
      "1/1 [==============================] - 0s 4ms/step - loss: 7.9593 - mae: 7.9593\n",
      "Epoch 78/100\n",
      "1/1 [==============================] - 0s 4ms/step - loss: 7.9548 - mae: 7.9548\n",
      "Epoch 79/100\n",
      "1/1 [==============================] - 0s 4ms/step - loss: 7.9503 - mae: 7.9503\n",
      "Epoch 80/100\n",
      "1/1 [==============================] - 0s 4ms/step - loss: 7.9458 - mae: 7.9458\n",
      "Epoch 81/100\n",
      "1/1 [==============================] - 0s 4ms/step - loss: 7.9413 - mae: 7.9413\n",
      "Epoch 82/100\n",
      "1/1 [==============================] - 0s 4ms/step - loss: 7.9368 - mae: 7.9368\n",
      "Epoch 83/100\n",
      "1/1 [==============================] - 0s 5ms/step - loss: 7.9323 - mae: 7.9323\n",
      "Epoch 84/100\n",
      "1/1 [==============================] - 0s 4ms/step - loss: 7.9278 - mae: 7.9278\n",
      "Epoch 85/100\n",
      "1/1 [==============================] - 0s 4ms/step - loss: 7.9233 - mae: 7.9233\n",
      "Epoch 86/100\n",
      "1/1 [==============================] - 0s 4ms/step - loss: 7.9188 - mae: 7.9188\n",
      "Epoch 87/100\n",
      "1/1 [==============================] - 0s 4ms/step - loss: 7.9143 - mae: 7.9143\n",
      "Epoch 88/100\n",
      "1/1 [==============================] - 0s 4ms/step - loss: 7.9098 - mae: 7.9098\n",
      "Epoch 89/100\n",
      "1/1 [==============================] - 0s 4ms/step - loss: 7.9053 - mae: 7.9053\n",
      "Epoch 90/100\n",
      "1/1 [==============================] - 0s 4ms/step - loss: 7.9008 - mae: 7.9008\n",
      "Epoch 91/100\n",
      "1/1 [==============================] - 0s 10ms/step - loss: 7.8963 - mae: 7.8963\n",
      "Epoch 92/100\n",
      "1/1 [==============================] - 0s 4ms/step - loss: 7.8918 - mae: 7.8918\n",
      "Epoch 93/100\n",
      "1/1 [==============================] - 0s 4ms/step - loss: 7.8873 - mae: 7.8873\n",
      "Epoch 94/100\n",
      "1/1 [==============================] - 0s 4ms/step - loss: 7.8828 - mae: 7.8828\n",
      "Epoch 95/100\n",
      "1/1 [==============================] - 0s 5ms/step - loss: 7.8783 - mae: 7.8783\n",
      "Epoch 96/100\n",
      "1/1 [==============================] - 0s 4ms/step - loss: 7.8738 - mae: 7.8738\n",
      "Epoch 97/100\n",
      "1/1 [==============================] - 0s 4ms/step - loss: 7.8693 - mae: 7.8693\n",
      "Epoch 98/100\n",
      "1/1 [==============================] - 0s 4ms/step - loss: 7.8648 - mae: 7.8648\n",
      "Epoch 99/100\n",
      "1/1 [==============================] - 0s 5ms/step - loss: 7.8603 - mae: 7.8603\n",
      "Epoch 100/100\n",
      "1/1 [==============================] - 0s 5ms/step - loss: 7.8558 - mae: 7.8558\n"
     ]
    },
    {
     "data": {
      "text/plain": [
       "<keras.callbacks.History at 0x1317ec880>"
      ]
     },
     "execution_count": 18,
     "metadata": {},
     "output_type": "execute_result"
    }
   ],
   "source": [
    "# Lets re-build our model\n",
    "# Set random seed\n",
    "tf.random.set_seed(42)\n",
    "\n",
    "# 1. Create a model using the Sequential API\n",
    "model = tf.keras.Sequential([\n",
    "    tf.keras.layers.Dense(1)\n",
    "])\n",
    "\n",
    "# 2. Compile the model\n",
    "model.compile(loss='mae', optimizer=tf.keras.optimizers.Adam(lr=0.0001), metrics=['mae'])\n",
    "\n",
    "# 3. Fit the Model\n",
    "model.fit(tf.expand_dims(X, axis=-1),y,epochs=100)"
   ]
  },
  {
   "cell_type": "code",
   "execution_count": 19,
   "metadata": {},
   "outputs": [
    {
     "name": "stdout",
     "output_type": "stream",
     "text": [
      "1/1 [==============================] - 0s 59ms/step\n"
     ]
    },
    {
     "data": {
      "text/plain": [
       "array([[27.05091]], dtype=float32)"
      ]
     },
     "execution_count": 19,
     "metadata": {},
     "output_type": "execute_result"
    }
   ],
   "source": [
    "y_pred = model.predict([17.0])\n",
    "y_pred"
   ]
  },
  {
   "cell_type": "code",
   "execution_count": null,
   "metadata": {},
   "outputs": [],
   "source": []
  },
  {
   "cell_type": "code",
   "execution_count": null,
   "metadata": {},
   "outputs": [],
   "source": []
  }
 ],
 "metadata": {
  "kernelspec": {
   "display_name": "Python 3 (ipykernel)",
   "language": "python",
   "name": "python3"
  },
  "language_info": {
   "codemirror_mode": {
    "name": "ipython",
    "version": 3
   },
   "file_extension": ".py",
   "mimetype": "text/x-python",
   "name": "python",
   "nbconvert_exporter": "python",
   "pygments_lexer": "ipython3",
   "version": "3.9.15"
  },
  "toc": {
   "base_numbering": 1,
   "nav_menu": {},
   "number_sections": false,
   "sideBar": true,
   "skip_h1_title": false,
   "title_cell": "Table of Contents",
   "title_sidebar": "Contents",
   "toc_cell": false,
   "toc_position": {},
   "toc_section_display": true,
   "toc_window_display": false
  }
 },
 "nbformat": 4,
 "nbformat_minor": 2
}
