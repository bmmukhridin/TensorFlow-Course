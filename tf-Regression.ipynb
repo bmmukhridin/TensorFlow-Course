{
 "cells": [
  {
   "cell_type": "markdown",
   "metadata": {},
   "source": [
    "# Introduction to Regression with Neural Network in TensorFlow\n",
    "\n",
    "There are many definitions for a regression problem but in our case we are going to simplyfy it: predicting a numerical variable based on some other combination of variables, even shorter... predicting a number"
   ]
  },
  {
   "cell_type": "code",
   "execution_count": 1,
   "metadata": {},
   "outputs": [
    {
     "name": "stdout",
     "output_type": "stream",
     "text": [
      "2.11.0\n"
     ]
    },
    {
     "data": {
      "text/plain": [
       "[PhysicalDevice(name='/physical_device:CPU:0', device_type='CPU'),\n",
       " PhysicalDevice(name='/physical_device:GPU:0', device_type='GPU')]"
      ]
     },
     "execution_count": 1,
     "metadata": {},
     "output_type": "execute_result"
    }
   ],
   "source": [
    "# import TensorFlow\n",
    "import tensorflow as tf\n",
    "print(tf.__version__)\n",
    "\n",
    "# tf.config.set_visible_devices('GPU')\n",
    "tf.config.list_physical_devices()"
   ]
  },
  {
   "cell_type": "code",
   "execution_count": 2,
   "metadata": {},
   "outputs": [],
   "source": [
    "tf.config.set_visible_devices([],'GPU')"
   ]
  },
  {
   "cell_type": "code",
   "execution_count": 3,
   "metadata": {},
   "outputs": [
    {
     "data": {
      "text/plain": [
       "<matplotlib.collections.PathCollection at 0x28005fe50>"
      ]
     },
     "execution_count": 3,
     "metadata": {},
     "output_type": "execute_result"
    },
    {
     "data": {
      "image/png": "[encoded data removed]",
      "text/plain": [
       "<Figure size 640x480 with 1 Axes>"
      ]
     },
     "metadata": {},
     "output_type": "display_data"
    }
   ],
   "source": [
    "import numpy as np\n",
    "import matplotlib.pyplot as plt\n",
    "\n",
    "# create futures\n",
    "X = np.array([-7.0, -4.0, -1.0, 2.0,5.0,8.0,11.0,14.0])\n",
    "y = np.array([3,6,9,12,15,18,21,24.0])\n",
    "\n",
    "plt.scatter(X,y)"
   ]
  },
  {
   "cell_type": "code",
   "execution_count": 4,
   "metadata": {},
   "outputs": [
    {
     "data": {
      "text/plain": [
       "(<tf.Tensor: shape=(8,), dtype=float64, numpy=array([-7., -4., -1.,  2.,  5.,  8., 11., 14.])>,\n",
       " <tf.Tensor: shape=(8,), dtype=float64, numpy=array([ 3.,  6.,  9., 12., 15., 18., 21., 24.])>)"
      ]
     },
     "execution_count": 4,
     "metadata": {},
     "output_type": "execute_result"
    }
   ],
   "source": [
    "X = tf.constant(X)\n",
    "y = tf.constant(y)\n",
    "X,y"
   ]
  },
  {
   "cell_type": "code",
   "execution_count": 5,
   "metadata": {},
   "outputs": [
    {
     "data": {
      "text/plain": [
       "(TensorShape([]), TensorShape([]))"
      ]
     },
     "execution_count": 5,
     "metadata": {},
     "output_type": "execute_result"
    }
   ],
   "source": [
    "input_shape =X[0].shape\n",
    "output_shape = y[0].shape\n",
    "input_shape,output_shape"
   ]
  },
  {
   "cell_type": "markdown",
   "metadata": {},
   "source": [
    "### steps in Modelling with TensorFlow\n",
    "\n",
    "1. Creating a model - define the input and output layers, as well as the hidden layers of a deep learning model.\n",
    "2. Compiling a model - define the loss function (in other words, the function which tells our model how wrong it is) and the optimizer (tells our model how to improve the patterns its learning) and evaluation metrics (what we can use to interpret the performance of our model).\n",
    "3. Fitting a mdel - letting the model try to find patterns between X & y (features and labels)."
   ]
  },
  {
   "cell_type": "code",
   "execution_count": 6,
   "metadata": {},
   "outputs": [
    {
     "data": {
      "text/plain": [
       "[PhysicalDevice(name='/physical_device:GPU:0', device_type='GPU')]"
      ]
     },
     "execution_count": 6,
     "metadata": {},
     "output_type": "execute_result"
    }
   ],
   "source": [
    "tf.config.list_physical_devices(\"GPU\")"
   ]
  },
  {
   "cell_type": "code",
   "execution_count": 7,
   "metadata": {},
   "outputs": [
    {
     "name": "stdout",
     "output_type": "stream",
     "text": [
      "Epoch 1/5\n"
     ]
    },
    {
     "name": "stderr",
     "output_type": "stream",
     "text": [
      "2023-05-22 13:47:41.748840: W tensorflow/tsl/platform/profile_utils/cpu_utils.cc:128] Failed to get CPU frequency: 0 Hz\n"
     ]
    },
    {
     "name": "stdout",
     "output_type": "stream",
     "text": [
      "1/1 [==============================] - 0s 288ms/step - loss: 9.6638\n",
      "Epoch 2/5\n",
      "1/1 [==============================] - 0s 2ms/step - loss: 9.6496\n",
      "Epoch 3/5\n",
      "1/1 [==============================] - 0s 2ms/step - loss: 9.6393\n",
      "Epoch 4/5\n",
      "1/1 [==============================] - 0s 2ms/step - loss: 9.6306\n",
      "Epoch 5/5\n",
      "1/1 [==============================] - 0s 1ms/step - loss: 9.6229\n"
     ]
    },
    {
     "name": "stderr",
     "output_type": "stream",
     "text": [
      "2023-05-22 13:47:41.951029: I tensorflow/compiler/xla/service/service.cc:173] XLA service 0x2818bbb10 initialized for platform Host (this does not guarantee that XLA will be used). Devices:\n",
      "2023-05-22 13:47:41.951042: I tensorflow/compiler/xla/service/service.cc:181]   StreamExecutor device (0): Host, Default Version\n",
      "2023-05-22 13:47:41.966126: I tensorflow/compiler/mlir/tensorflow/utils/dump_mlir_util.cc:268] disabling MLIR crash reproducer, set env var `MLIR_CRASH_REPRODUCER_DIRECTORY` to enable.\n",
      "2023-05-22 13:47:42.059896: I tensorflow/compiler/jit/xla_compilation_cache.cc:477] Compiled cluster using XLA!  This line is logged at most once for the lifetime of the process.\n"
     ]
    },
    {
     "data": {
      "text/plain": [
       "<keras.callbacks.History at 0x280fd4c70>"
      ]
     },
     "execution_count": 7,
     "metadata": {},
     "output_type": "execute_result"
    }
   ],
   "source": [
    "# Set random seed\n",
    "tf.random.set_seed(42)\n",
    "\n",
    "# 1. Create a model using the Sequential API\n",
    "model = tf.keras.Sequential([\n",
    "    tf.keras.layers.Dense(1)\n",
    "])\n",
    "\n",
    "# 2. Compile the model\n",
    "model.compile(loss='mae')\n",
    "\n",
    "# 3. Fit the Model\n",
    "model.fit(tf.expand_dims(X, axis=-1),y,epochs=5)"
   ]
  },
  {
   "cell_type": "code",
   "execution_count": 8,
   "metadata": {},
   "outputs": [
    {
     "data": {
      "text/plain": [
       "(<tf.Tensor: shape=(8,), dtype=float64, numpy=array([-7., -4., -1.,  2.,  5.,  8., 11., 14.])>,\n",
       " <tf.Tensor: shape=(8,), dtype=float64, numpy=array([ 3.,  6.,  9., 12., 15., 18., 21., 24.])>)"
      ]
     },
     "execution_count": 8,
     "metadata": {},
     "output_type": "execute_result"
    }
   ],
   "source": [
    "X,y"
   ]
  },
  {
   "cell_type": "code",
   "execution_count": 9,
   "metadata": {},
   "outputs": [
    {
     "name": "stdout",
     "output_type": "stream",
     "text": [
      "1/1 [==============================] - 0s 37ms/step\n"
     ]
    },
    {
     "data": {
      "text/plain": [
       "array([[18.824547]], dtype=float32)"
      ]
     },
     "execution_count": 9,
     "metadata": {},
     "output_type": "execute_result"
    }
   ],
   "source": [
    "y_pred = model.predict([17.0])\n",
    "y_pred"
   ]
  },
  {
   "cell_type": "code",
   "execution_count": 10,
   "metadata": {},
   "outputs": [
    {
     "data": {
      "text/plain": [
       "array([[29.824547]], dtype=float32)"
      ]
     },
     "execution_count": 10,
     "metadata": {},
     "output_type": "execute_result"
    }
   ],
   "source": [
    "y_pred+11"
   ]
  },
  {
   "cell_type": "markdown",
   "metadata": {},
   "source": [
    "## Improving our model\n",
    "\n",
    "We can improve our model, by altering the steps we took to create a model.\n",
    "\n",
    "1. **Creating a model** - here we might add more layers, increase the number oh hidden units (all called neurons) within each of the hideen layers, change the activation function of each layer.\n",
    "\n",
    "2. **Compiling a model** - here we might change the optimization function or peerhaps the **learning rate** of the optimization function.\n",
    "\n",
    "3. **Fitting a model** - here we might fit a model for more **epochs** (leave it training for longer) or on more data (give the model more examples to learn from)."
   ]
  },
  {
   "cell_type": "code",
   "execution_count": 11,
   "metadata": {},
   "outputs": [
    {
     "name": "stdout",
     "output_type": "stream",
     "text": [
      "Epoch 1/100\n",
      "1/1 [==============================] - 0s 240ms/step - loss: 15.5997 - mae: 15.5997\n",
      "Epoch 2/100\n",
      "1/1 [==============================] - 0s 2ms/step - loss: 14.7287 - mae: 14.7287\n",
      "Epoch 3/100\n",
      "1/1 [==============================] - 0s 2ms/step - loss: 14.0880 - mae: 14.0880\n",
      "Epoch 4/100\n",
      "1/1 [==============================] - 0s 2ms/step - loss: 13.4604 - mae: 13.4604\n",
      "Epoch 5/100\n",
      "1/1 [==============================] - 0s 1ms/step - loss: 12.8410 - mae: 12.8410\n",
      "Epoch 6/100\n",
      "1/1 [==============================] - 0s 1ms/step - loss: 12.2270 - mae: 12.2270\n",
      "Epoch 7/100\n",
      "1/1 [==============================] - 0s 2ms/step - loss: 11.6158 - mae: 11.6158\n",
      "Epoch 8/100\n",
      "1/1 [==============================] - 0s 2ms/step - loss: 11.0052 - mae: 11.0052\n",
      "Epoch 9/100\n",
      "1/1 [==============================] - 0s 2ms/step - loss: 10.3926 - mae: 10.3926\n",
      "Epoch 10/100\n",
      "1/1 [==============================] - 0s 2ms/step - loss: 9.7752 - mae: 9.7752\n",
      "Epoch 11/100\n",
      "1/1 [==============================] - 0s 3ms/step - loss: 9.1499 - mae: 9.1499\n",
      "Epoch 12/100\n",
      "1/1 [==============================] - 0s 2ms/step - loss: 8.5136 - mae: 8.5136\n",
      "Epoch 13/100\n",
      "1/1 [==============================] - 0s 2ms/step - loss: 7.8629 - mae: 7.8629\n",
      "Epoch 14/100\n",
      "1/1 [==============================] - 0s 3ms/step - loss: 7.1946 - mae: 7.1946\n",
      "Epoch 15/100\n",
      "1/1 [==============================] - 0s 2ms/step - loss: 6.5677 - mae: 6.5677\n",
      "Epoch 16/100\n",
      "1/1 [==============================] - 0s 2ms/step - loss: 6.5165 - mae: 6.5165\n",
      "Epoch 17/100\n",
      "1/1 [==============================] - 0s 2ms/step - loss: 6.7880 - mae: 6.7880\n",
      "Epoch 18/100\n",
      "1/1 [==============================] - 0s 4ms/step - loss: 6.9707 - mae: 6.9707\n",
      "Epoch 19/100\n",
      "1/1 [==============================] - 0s 2ms/step - loss: 7.0998 - mae: 7.0998\n",
      "Epoch 20/100\n",
      "1/1 [==============================] - 0s 2ms/step - loss: 7.1400 - mae: 7.1400\n",
      "Epoch 21/100\n",
      "1/1 [==============================] - 0s 2ms/step - loss: 7.0257 - mae: 7.0257\n",
      "Epoch 22/100\n",
      "1/1 [==============================] - 0s 2ms/step - loss: 6.8186 - mae: 6.8186\n",
      "Epoch 23/100\n",
      "1/1 [==============================] - 0s 1ms/step - loss: 6.6344 - mae: 6.6344\n",
      "Epoch 24/100\n",
      "1/1 [==============================] - 0s 2ms/step - loss: 6.4287 - mae: 6.4287\n",
      "Epoch 25/100\n",
      "1/1 [==============================] - 0s 3ms/step - loss: 6.2057 - mae: 6.2057\n",
      "Epoch 26/100\n",
      "1/1 [==============================] - 0s 3ms/step - loss: 5.9692 - mae: 5.9692\n",
      "Epoch 27/100\n",
      "1/1 [==============================] - 0s 3ms/step - loss: 5.8992 - mae: 5.8992\n",
      "Epoch 28/100\n",
      "1/1 [==============================] - 0s 6ms/step - loss: 5.8589 - mae: 5.8589\n",
      "Epoch 29/100\n",
      "1/1 [==============================] - 0s 4ms/step - loss: 5.9388 - mae: 5.9388\n",
      "Epoch 30/100\n",
      "1/1 [==============================] - 0s 13ms/step - loss: 5.9849 - mae: 5.9849\n",
      "Epoch 31/100\n",
      "1/1 [==============================] - 0s 4ms/step - loss: 5.9365 - mae: 5.9365\n",
      "Epoch 32/100\n",
      "1/1 [==============================] - 0s 7ms/step - loss: 5.8050 - mae: 5.8050\n",
      "Epoch 33/100\n",
      "1/1 [==============================] - 0s 4ms/step - loss: 5.5983 - mae: 5.5983\n",
      "Epoch 34/100\n",
      "1/1 [==============================] - 0s 3ms/step - loss: 5.4037 - mae: 5.4037\n",
      "Epoch 35/100\n",
      "1/1 [==============================] - 0s 9ms/step - loss: 5.2971 - mae: 5.2971\n",
      "Epoch 36/100\n",
      "1/1 [==============================] - 0s 3ms/step - loss: 5.1871 - mae: 5.1871\n",
      "Epoch 37/100\n",
      "1/1 [==============================] - 0s 5ms/step - loss: 5.1629 - mae: 5.1629\n",
      "Epoch 38/100\n",
      "1/1 [==============================] - 0s 12ms/step - loss: 5.1423 - mae: 5.1423\n",
      "Epoch 39/100\n",
      "1/1 [==============================] - 0s 2ms/step - loss: 5.0824 - mae: 5.0824\n",
      "Epoch 40/100\n",
      "1/1 [==============================] - 0s 2ms/step - loss: 4.9858 - mae: 4.9858\n",
      "Epoch 41/100\n",
      "1/1 [==============================] - 0s 3ms/step - loss: 4.8554 - mae: 4.8554\n",
      "Epoch 42/100\n",
      "1/1 [==============================] - 0s 2ms/step - loss: 4.6939 - mae: 4.6939\n",
      "Epoch 43/100\n",
      "1/1 [==============================] - 0s 2ms/step - loss: 4.5036 - mae: 4.5036\n",
      "Epoch 44/100\n",
      "1/1 [==============================] - 0s 2ms/step - loss: 4.3952 - mae: 4.3952\n",
      "Epoch 45/100\n",
      "1/1 [==============================] - 0s 2ms/step - loss: 4.2984 - mae: 4.2984\n",
      "Epoch 46/100\n",
      "1/1 [==============================] - 0s 3ms/step - loss: 4.2014 - mae: 4.2014\n",
      "Epoch 47/100\n",
      "1/1 [==============================] - 0s 2ms/step - loss: 4.1010 - mae: 4.1010\n",
      "Epoch 48/100\n",
      "1/1 [==============================] - 0s 2ms/step - loss: 3.9251 - mae: 3.9251\n",
      "Epoch 49/100\n",
      "1/1 [==============================] - 0s 2ms/step - loss: 3.7748 - mae: 3.7748\n",
      "Epoch 50/100\n",
      "1/1 [==============================] - 0s 2ms/step - loss: 3.6167 - mae: 3.6167\n",
      "Epoch 51/100\n",
      "1/1 [==============================] - 0s 2ms/step - loss: 3.4507 - mae: 3.4507\n",
      "Epoch 52/100\n",
      "1/1 [==============================] - 0s 5ms/step - loss: 3.3234 - mae: 3.3234\n",
      "Epoch 53/100\n",
      "1/1 [==============================] - 0s 3ms/step - loss: 3.1810 - mae: 3.1810\n",
      "Epoch 54/100\n",
      "1/1 [==============================] - 0s 2ms/step - loss: 2.9892 - mae: 2.9892\n",
      "Epoch 55/100\n",
      "1/1 [==============================] - 0s 2ms/step - loss: 2.7681 - mae: 2.7681\n",
      "Epoch 56/100\n",
      "1/1 [==============================] - 0s 2ms/step - loss: 2.5887 - mae: 2.5887\n",
      "Epoch 57/100\n",
      "1/1 [==============================] - 0s 2ms/step - loss: 2.3975 - mae: 2.3975\n",
      "Epoch 58/100\n",
      "1/1 [==============================] - 0s 2ms/step - loss: 2.1945 - mae: 2.1945\n",
      "Epoch 59/100\n",
      "1/1 [==============================] - 0s 2ms/step - loss: 1.9997 - mae: 1.9997\n",
      "Epoch 60/100\n",
      "1/1 [==============================] - 0s 2ms/step - loss: 1.7408 - mae: 1.7408\n",
      "Epoch 61/100\n",
      "1/1 [==============================] - 0s 3ms/step - loss: 1.5218 - mae: 1.5218\n",
      "Epoch 62/100\n",
      "1/1 [==============================] - 0s 2ms/step - loss: 1.2972 - mae: 1.2972\n",
      "Epoch 63/100\n",
      "1/1 [==============================] - 0s 2ms/step - loss: 1.0037 - mae: 1.0037\n",
      "Epoch 64/100\n",
      "1/1 [==============================] - 0s 2ms/step - loss: 0.8048 - mae: 0.8048\n",
      "Epoch 65/100\n",
      "1/1 [==============================] - 0s 2ms/step - loss: 0.5298 - mae: 0.5298\n",
      "Epoch 66/100\n",
      "1/1 [==============================] - 0s 2ms/step - loss: 0.2451 - mae: 0.2451\n",
      "Epoch 67/100\n",
      "1/1 [==============================] - 0s 2ms/step - loss: 0.1723 - mae: 0.1723\n",
      "Epoch 68/100\n",
      "1/1 [==============================] - 0s 2ms/step - loss: 0.4371 - mae: 0.4371\n",
      "Epoch 69/100\n",
      "1/1 [==============================] - 0s 2ms/step - loss: 0.5630 - mae: 0.5630\n",
      "Epoch 70/100\n",
      "1/1 [==============================] - 0s 2ms/step - loss: 0.6854 - mae: 0.6854\n",
      "Epoch 71/100\n",
      "1/1 [==============================] - 0s 2ms/step - loss: 0.7631 - mae: 0.7631\n",
      "Epoch 72/100\n",
      "1/1 [==============================] - 0s 2ms/step - loss: 0.7300 - mae: 0.7300\n",
      "Epoch 73/100\n",
      "1/1 [==============================] - 0s 2ms/step - loss: 0.7374 - mae: 0.7374\n",
      "Epoch 74/100\n",
      "1/1 [==============================] - 0s 2ms/step - loss: 0.6535 - mae: 0.6535\n",
      "Epoch 75/100\n",
      "1/1 [==============================] - 0s 2ms/step - loss: 0.6362 - mae: 0.6362\n",
      "Epoch 76/100\n",
      "1/1 [==============================] - 0s 2ms/step - loss: 0.4980 - mae: 0.4980\n",
      "Epoch 77/100\n",
      "1/1 [==============================] - 0s 2ms/step - loss: 0.4018 - mae: 0.4018\n",
      "Epoch 78/100\n",
      "1/1 [==============================] - 0s 3ms/step - loss: 0.2812 - mae: 0.2812\n",
      "Epoch 79/100\n",
      "1/1 [==============================] - 0s 3ms/step - loss: 0.1227 - mae: 0.1227\n",
      "Epoch 80/100\n",
      "1/1 [==============================] - 0s 2ms/step - loss: 0.1326 - mae: 0.1326\n",
      "Epoch 81/100\n",
      "1/1 [==============================] - 0s 2ms/step - loss: 0.3409 - mae: 0.3409\n",
      "Epoch 82/100\n",
      "1/1 [==============================] - 0s 2ms/step - loss: 0.4205 - mae: 0.4205\n",
      "Epoch 83/100\n",
      "1/1 [==============================] - 0s 2ms/step - loss: 0.3352 - mae: 0.3352\n",
      "Epoch 84/100\n",
      "1/1 [==============================] - 0s 2ms/step - loss: 0.3743 - mae: 0.3743\n",
      "Epoch 85/100\n",
      "1/1 [==============================] - 0s 2ms/step - loss: 0.4309 - mae: 0.4309\n",
      "Epoch 86/100\n",
      "1/1 [==============================] - 0s 2ms/step - loss: 0.2303 - mae: 0.2303\n",
      "Epoch 87/100\n",
      "1/1 [==============================] - 0s 2ms/step - loss: 0.2496 - mae: 0.2496\n",
      "Epoch 88/100\n",
      "1/1 [==============================] - 0s 2ms/step - loss: 0.3107 - mae: 0.3107\n",
      "Epoch 89/100\n",
      "1/1 [==============================] - 0s 2ms/step - loss: 0.1170 - mae: 0.1170\n",
      "Epoch 90/100\n",
      "1/1 [==============================] - 0s 2ms/step - loss: 0.3893 - mae: 0.3893\n",
      "Epoch 91/100\n",
      "1/1 [==============================] - 0s 2ms/step - loss: 0.5468 - mae: 0.5468\n",
      "Epoch 92/100\n",
      "1/1 [==============================] - 0s 2ms/step - loss: 0.4276 - mae: 0.4276\n",
      "Epoch 93/100\n",
      "1/1 [==============================] - 0s 2ms/step - loss: 0.1789 - mae: 0.1789\n",
      "Epoch 94/100\n",
      "1/1 [==============================] - 0s 2ms/step - loss: 0.5414 - mae: 0.5414\n",
      "Epoch 95/100\n",
      "1/1 [==============================] - 0s 4ms/step - loss: 0.7106 - mae: 0.7106\n",
      "Epoch 96/100\n",
      "1/1 [==============================] - 0s 2ms/step - loss: 0.5877 - mae: 0.5877\n",
      "Epoch 97/100\n",
      "1/1 [==============================] - 0s 3ms/step - loss: 0.2128 - mae: 0.2128\n",
      "Epoch 98/100\n",
      "1/1 [==============================] - 0s 2ms/step - loss: 0.3810 - mae: 0.3810\n",
      "Epoch 99/100\n",
      "1/1 [==============================] - 0s 2ms/step - loss: 0.6476 - mae: 0.6476\n",
      "Epoch 100/100\n",
      "1/1 [==============================] - 0s 1ms/step - loss: 0.6283 - mae: 0.6283\n"
     ]
    },
    {
     "data": {
      "text/plain": [
       "<keras.callbacks.History at 0x2819fa760>"
      ]
     },
     "execution_count": 11,
     "metadata": {},
     "output_type": "execute_result"
    }
   ],
   "source": [
    "# Lets re-build our model\n",
    "# Set random seed\n",
    "tf.random.set_seed(42)\n",
    "\n",
    "# 1. Create a model using the Sequential API\n",
    "model = tf.keras.Sequential([\n",
    "    tf.keras.layers.Dense(50, activation=None),\n",
    "    tf.keras.layers.Dense(1)\n",
    "])\n",
    "\n",
    "# 2. Compile the model\n",
    "model.compile(loss='mae', optimizer=tf.keras.optimizers.Adam(learning_rate=0.01), metrics=['mae'])\n",
    "\n",
    "# 3. Fit the Model\n",
    "model.fit(tf.expand_dims(X, axis=-1),y,epochs=100)"
   ]
  },
  {
   "cell_type": "code",
   "execution_count": 12,
   "metadata": {},
   "outputs": [
    {
     "name": "stdout",
     "output_type": "stream",
     "text": [
      "1/1 [==============================] - 0s 32ms/step\n"
     ]
    },
    {
     "data": {
      "text/plain": [
       "array([[27.893055]], dtype=float32)"
      ]
     },
     "execution_count": 12,
     "metadata": {},
     "output_type": "execute_result"
    }
   ],
   "source": [
    "y_pred = model.predict([17.0])\n",
    "y_pred"
   ]
  },
  {
   "attachments": {},
   "cell_type": "markdown",
   "metadata": {},
   "source": [
    "### Evalutaing a model"
   ]
  },
  {
   "attachments": {},
   "cell_type": "markdown",
   "metadata": {},
   "source": [
    "In practice a typical workflow you will go theough when building neural networks\n",
    "> `Build a model -> fit it -> evaluate it -> tweak a model -> fit it ->  evaluate it...`"
   ]
  },
  {
   "attachments": {},
   "cell_type": "markdown",
   "metadata": {},
   "source": [
    "when it comes to evaluaition... there are 3 words you should memorize:\n",
    "> \"Visualize, Visualize, Visualize,\"\n",
    "\n",
    "its good idea to visualize:\n",
    "\n",
    " * The data - what data are we working with? What does it look like?\n",
    " * The model it self - what does our model look like?\n",
    " * The training of model - how does model perform while it learns?\n",
    " * The prediction of the model - how do the predictions of model line up against the ground truth (original labels)?"
   ]
  },
  {
   "cell_type": "code",
   "execution_count": 13,
   "metadata": {},
   "outputs": [
    {
     "data": {
      "text/plain": [
       "<tf.Tensor: shape=(50,), dtype=int32, numpy=\n",
       "array([-100,  -96,  -92,  -88,  -84,  -80,  -76,  -72,  -68,  -64,  -60,\n",
       "        -56,  -52,  -48,  -44,  -40,  -36,  -32,  -28,  -24,  -20,  -16,\n",
       "        -12,   -8,   -4,    0,    4,    8,   12,   16,   20,   24,   28,\n",
       "         32,   36,   40,   44,   48,   52,   56,   60,   64,   68,   72,\n",
       "         76,   80,   84,   88,   92,   96], dtype=int32)>"
      ]
     },
     "execution_count": 13,
     "metadata": {},
     "output_type": "execute_result"
    }
   ],
   "source": [
    "#  make a bigger data\n",
    "X = tf.range(-100, 100,4)\n",
    "X"
   ]
  },
  {
   "cell_type": "code",
   "execution_count": 14,
   "metadata": {},
   "outputs": [
    {
     "data": {
      "text/plain": [
       "<tf.Tensor: shape=(50,), dtype=int32, numpy=\n",
       "array([-90, -86, -82, -78, -74, -70, -66, -62, -58, -54, -50, -46, -42,\n",
       "       -38, -34, -30, -26, -22, -18, -14, -10,  -6,  -2,   2,   6,  10,\n",
       "        14,  18,  22,  26,  30,  34,  38,  42,  46,  50,  54,  58,  62,\n",
       "        66,  70,  74,  78,  82,  86,  90,  94,  98, 102, 106], dtype=int32)>"
      ]
     },
     "execution_count": 14,
     "metadata": {},
     "output_type": "execute_result"
    }
   ],
   "source": [
    "y = X+10\n",
    "y"
   ]
  },
  {
   "cell_type": "code",
   "execution_count": 15,
   "metadata": {},
   "outputs": [
    {
     "data": {
      "text/plain": [
       "<matplotlib.collections.PathCollection at 0x281112fa0>"
      ]
     },
     "execution_count": 15,
     "metadata": {},
     "output_type": "execute_result"
    },
    {
     "data": {
      "image/png": "[encoded data removed]",
      "text/plain": [
       "<Figure size 640x480 with 1 Axes>"
      ]
     },
     "metadata": {},
     "output_type": "display_data"
    }
   ],
   "source": [
    "# visualize data\n",
    "import matplotlib.pyplot as plt\n",
    "\n",
    "plt.scatter(X,y)"
   ]
  },
  {
   "cell_type": "code",
   "execution_count": 16,
   "metadata": {},
   "outputs": [
    {
     "data": {
      "text/plain": [
       "(40, 10, 40, 10)"
      ]
     },
     "execution_count": 16,
     "metadata": {},
     "output_type": "execute_result"
    }
   ],
   "source": [
    "X_train=X[:40] \n",
    "X_test=X[40:]\n",
    "\n",
    "y_train=y[:40]\n",
    "y_test=y[40:]\n",
    "\n",
    "len(X_train),len(X_test),len(y_train),len(y_test)\n",
    "\n"
   ]
  },
  {
   "attachments": {},
   "cell_type": "markdown",
   "metadata": {},
   "source": [
    "## Visualizing the data\n",
    "Now we have got our data in training and test sets.. let's visualize it again"
   ]
  },
  {
   "cell_type": "code",
   "execution_count": 17,
   "metadata": {},
   "outputs": [
    {
     "data": {
      "image/png": "[encoded data removed]",
      "text/plain": [
       "<Figure size 1000x700 with 1 Axes>"
      ]
     },
     "metadata": {},
     "output_type": "display_data"
    }
   ],
   "source": [
    "plt.figure(figsize=(10,7))\n",
    "plt.scatter(X_train, y_train, c='b', label=\"training data\")\n",
    "plt.scatter(X_test, y_test, c='g', label=\"test data\")\n",
    "plt.legend();"
   ]
  },
  {
   "cell_type": "code",
   "execution_count": 18,
   "metadata": {},
   "outputs": [],
   "source": [
    "# lets build a model\n",
    "model = tf.keras.Sequential([\n",
    "    tf.keras.layers.Dense(1, input_shape=[1])\n",
    "])\n",
    "\n",
    "model.compile(loss=\"mae\", optimizer='adam', metrics=['mae'])\n",
    "\n",
    "# model.fit((tf.expand_dims(X_train, axis=-1)), y_train, epochs=100)"
   ]
  },
  {
   "attachments": {},
   "cell_type": "markdown",
   "metadata": {},
   "source": [
    "Visualizing Model"
   ]
  },
  {
   "cell_type": "code",
   "execution_count": 19,
   "metadata": {},
   "outputs": [
    {
     "name": "stdout",
     "output_type": "stream",
     "text": [
      "Model: \"sequential_2\"\n",
      "_________________________________________________________________\n",
      " Layer (type)                Output Shape              Param #   \n",
      "=================================================================\n",
      " dense_3 (Dense)             (None, 1)                 2         \n",
      "                                                                 \n",
      "=================================================================\n",
      "Total params: 2\n",
      "Trainable params: 2\n",
      "Non-trainable params: 0\n",
      "_________________________________________________________________\n"
     ]
    }
   ],
   "source": [
    "model.summary()"
   ]
  },
  {
   "cell_type": "code",
   "execution_count": 20,
   "metadata": {},
   "outputs": [
    {
     "name": "stdout",
     "output_type": "stream",
     "text": [
      "Epoch 1/100\n",
      "2/2 [==============================] - 0s 2ms/step - loss: 14.2464 - mae: 14.2464\n",
      "Epoch 2/100\n",
      "2/2 [==============================] - 0s 1ms/step - loss: 14.1920 - mae: 14.1920\n",
      "Epoch 3/100\n",
      "2/2 [==============================] - 0s 1ms/step - loss: 14.1453 - mae: 14.1453\n",
      "Epoch 4/100\n",
      "2/2 [==============================] - 0s 1ms/step - loss: 14.0944 - mae: 14.0944\n",
      "Epoch 5/100\n",
      "2/2 [==============================] - 0s 1ms/step - loss: 14.0466 - mae: 14.0466\n",
      "Epoch 6/100\n",
      "2/2 [==============================] - 0s 1ms/step - loss: 13.9956 - mae: 13.9956\n",
      "Epoch 7/100\n",
      "2/2 [==============================] - 0s 2ms/step - loss: 13.9446 - mae: 13.9446\n",
      "Epoch 8/100\n",
      "2/2 [==============================] - 0s 1ms/step - loss: 13.8935 - mae: 13.8935\n",
      "Epoch 9/100\n",
      "2/2 [==============================] - 0s 1ms/step - loss: 13.8578 - mae: 13.8578\n",
      "Epoch 10/100\n",
      "2/2 [==============================] - 0s 1ms/step - loss: 13.8151 - mae: 13.8151\n",
      "Epoch 11/100\n",
      "2/2 [==============================] - 0s 1ms/step - loss: 13.7661 - mae: 13.7661\n",
      "Epoch 12/100\n",
      "2/2 [==============================] - 0s 1ms/step - loss: 13.7302 - mae: 13.7302\n",
      "Epoch 13/100\n",
      "2/2 [==============================] - 0s 1ms/step - loss: 13.6869 - mae: 13.6869\n",
      "Epoch 14/100\n",
      "2/2 [==============================] - 0s 1ms/step - loss: 13.6469 - mae: 13.6469\n",
      "Epoch 15/100\n",
      "2/2 [==============================] - 0s 1ms/step - loss: 13.6067 - mae: 13.6067\n",
      "Epoch 16/100\n",
      "2/2 [==============================] - 0s 1ms/step - loss: 13.5625 - mae: 13.5625\n",
      "Epoch 17/100\n",
      "2/2 [==============================] - 0s 1ms/step - loss: 13.5270 - mae: 13.5270\n",
      "Epoch 18/100\n",
      "2/2 [==============================] - 0s 2ms/step - loss: 13.4781 - mae: 13.4781\n",
      "Epoch 19/100\n",
      "2/2 [==============================] - 0s 2ms/step - loss: 13.4400 - mae: 13.4400\n",
      "Epoch 20/100\n",
      "2/2 [==============================] - 0s 1ms/step - loss: 13.4011 - mae: 13.4011\n",
      "Epoch 21/100\n",
      "2/2 [==============================] - 0s 1ms/step - loss: 13.3590 - mae: 13.3590\n",
      "Epoch 22/100\n",
      "2/2 [==============================] - 0s 1ms/step - loss: 13.3210 - mae: 13.3210\n",
      "Epoch 23/100\n",
      "2/2 [==============================] - 0s 1ms/step - loss: 13.2752 - mae: 13.2752\n",
      "Epoch 24/100\n",
      "2/2 [==============================] - 0s 1ms/step - loss: 13.2368 - mae: 13.2368\n",
      "Epoch 25/100\n",
      "2/2 [==============================] - 0s 2ms/step - loss: 13.1931 - mae: 13.1931\n",
      "Epoch 26/100\n",
      "2/2 [==============================] - 0s 2ms/step - loss: 13.1538 - mae: 13.1538\n",
      "Epoch 27/100\n",
      "2/2 [==============================] - 0s 1ms/step - loss: 13.1094 - mae: 13.1094\n",
      "Epoch 28/100\n",
      "2/2 [==============================] - 0s 1ms/step - loss: 13.0687 - mae: 13.0687\n",
      "Epoch 29/100\n",
      "2/2 [==============================] - 0s 2ms/step - loss: 13.0193 - mae: 13.0193\n",
      "Epoch 30/100\n",
      "2/2 [==============================] - 0s 1ms/step - loss: 12.9741 - mae: 12.9741\n",
      "Epoch 31/100\n",
      "2/2 [==============================] - 0s 1ms/step - loss: 12.9351 - mae: 12.9351\n",
      "Epoch 32/100\n",
      "2/2 [==============================] - 0s 1ms/step - loss: 12.8856 - mae: 12.8856\n",
      "Epoch 33/100\n",
      "2/2 [==============================] - 0s 6ms/step - loss: 12.8413 - mae: 12.8413\n",
      "Epoch 34/100\n",
      "2/2 [==============================] - 0s 2ms/step - loss: 12.7991 - mae: 12.7991\n",
      "Epoch 35/100\n",
      "2/2 [==============================] - 0s 1ms/step - loss: 12.7490 - mae: 12.7490\n",
      "Epoch 36/100\n",
      "2/2 [==============================] - 0s 1ms/step - loss: 12.7119 - mae: 12.7119\n",
      "Epoch 37/100\n",
      "2/2 [==============================] - 0s 2ms/step - loss: 12.6677 - mae: 12.6677\n",
      "Epoch 38/100\n",
      "2/2 [==============================] - 0s 1ms/step - loss: 12.6234 - mae: 12.6234\n",
      "Epoch 39/100\n",
      "2/2 [==============================] - 0s 1ms/step - loss: 12.5825 - mae: 12.5825\n",
      "Epoch 40/100\n",
      "2/2 [==============================] - 0s 2ms/step - loss: 12.5416 - mae: 12.5416\n",
      "Epoch 41/100\n",
      "2/2 [==============================] - 0s 1ms/step - loss: 12.5048 - mae: 12.5048\n",
      "Epoch 42/100\n",
      "2/2 [==============================] - 0s 1ms/step - loss: 12.4605 - mae: 12.4605\n",
      "Epoch 43/100\n",
      "2/2 [==============================] - 0s 1ms/step - loss: 12.4176 - mae: 12.4176\n",
      "Epoch 44/100\n",
      "2/2 [==============================] - 0s 1ms/step - loss: 12.3805 - mae: 12.3805\n",
      "Epoch 45/100\n",
      "2/2 [==============================] - 0s 1ms/step - loss: 12.3411 - mae: 12.3411\n",
      "Epoch 46/100\n",
      "2/2 [==============================] - 0s 1ms/step - loss: 12.3010 - mae: 12.3010\n",
      "Epoch 47/100\n",
      "2/2 [==============================] - 0s 1ms/step - loss: 12.2605 - mae: 12.2605\n",
      "Epoch 48/100\n",
      "2/2 [==============================] - 0s 1ms/step - loss: 12.2235 - mae: 12.2235\n",
      "Epoch 49/100\n",
      "2/2 [==============================] - 0s 1ms/step - loss: 12.1818 - mae: 12.1818\n",
      "Epoch 50/100\n",
      "2/2 [==============================] - 0s 1ms/step - loss: 12.1488 - mae: 12.1488\n",
      "Epoch 51/100\n",
      "2/2 [==============================] - 0s 1ms/step - loss: 12.1069 - mae: 12.1069\n",
      "Epoch 52/100\n",
      "2/2 [==============================] - 0s 1ms/step - loss: 12.0688 - mae: 12.0688\n",
      "Epoch 53/100\n",
      "2/2 [==============================] - 0s 2ms/step - loss: 12.0273 - mae: 12.0273\n",
      "Epoch 54/100\n",
      "2/2 [==============================] - 0s 1ms/step - loss: 11.9870 - mae: 11.9870\n",
      "Epoch 55/100\n",
      "2/2 [==============================] - 0s 1ms/step - loss: 11.9472 - mae: 11.9472\n",
      "Epoch 56/100\n",
      "2/2 [==============================] - 0s 1ms/step - loss: 11.9049 - mae: 11.9049\n",
      "Epoch 57/100\n",
      "2/2 [==============================] - 0s 1ms/step - loss: 11.8633 - mae: 11.8633\n",
      "Epoch 58/100\n",
      "2/2 [==============================] - 0s 2ms/step - loss: 11.8180 - mae: 11.8180\n",
      "Epoch 59/100\n",
      "2/2 [==============================] - 0s 1ms/step - loss: 11.7820 - mae: 11.7820\n",
      "Epoch 60/100\n",
      "2/2 [==============================] - 0s 1ms/step - loss: 11.7398 - mae: 11.7398\n",
      "Epoch 61/100\n",
      "2/2 [==============================] - 0s 2ms/step - loss: 11.7022 - mae: 11.7022\n",
      "Epoch 62/100\n",
      "2/2 [==============================] - 0s 960us/step - loss: 11.6626 - mae: 11.6626\n",
      "Epoch 63/100\n",
      "2/2 [==============================] - 0s 1ms/step - loss: 11.6204 - mae: 11.6204\n",
      "Epoch 64/100\n",
      "2/2 [==============================] - 0s 2ms/step - loss: 11.5831 - mae: 11.5831\n",
      "Epoch 65/100\n",
      "2/2 [==============================] - 0s 2ms/step - loss: 11.5396 - mae: 11.5396\n",
      "Epoch 66/100\n",
      "2/2 [==============================] - 0s 1ms/step - loss: 11.5015 - mae: 11.5015\n",
      "Epoch 67/100\n",
      "2/2 [==============================] - 0s 1ms/step - loss: 11.4581 - mae: 11.4581\n",
      "Epoch 68/100\n",
      "2/2 [==============================] - 0s 1ms/step - loss: 11.4145 - mae: 11.4145\n",
      "Epoch 69/100\n",
      "2/2 [==============================] - 0s 1ms/step - loss: 11.3762 - mae: 11.3762\n",
      "Epoch 70/100\n",
      "2/2 [==============================] - 0s 1ms/step - loss: 11.3347 - mae: 11.3347\n",
      "Epoch 71/100\n",
      "2/2 [==============================] - 0s 8ms/step - loss: 11.2937 - mae: 11.2937\n",
      "Epoch 72/100\n",
      "2/2 [==============================] - 0s 6ms/step - loss: 11.2528 - mae: 11.2528\n",
      "Epoch 73/100\n",
      "2/2 [==============================] - 0s 1ms/step - loss: 11.2142 - mae: 11.2142\n",
      "Epoch 74/100\n",
      "2/2 [==============================] - 0s 3ms/step - loss: 11.1771 - mae: 11.1771\n",
      "Epoch 75/100\n",
      "2/2 [==============================] - 0s 1ms/step - loss: 11.1386 - mae: 11.1386\n",
      "Epoch 76/100\n",
      "2/2 [==============================] - 0s 1ms/step - loss: 11.1016 - mae: 11.1016\n",
      "Epoch 77/100\n",
      "2/2 [==============================] - 0s 2ms/step - loss: 11.0642 - mae: 11.0642\n",
      "Epoch 78/100\n",
      "2/2 [==============================] - 0s 2ms/step - loss: 11.0226 - mae: 11.0226\n",
      "Epoch 79/100\n",
      "2/2 [==============================] - 0s 1ms/step - loss: 10.9850 - mae: 10.9850\n",
      "Epoch 80/100\n",
      "2/2 [==============================] - 0s 1ms/step - loss: 10.9484 - mae: 10.9484\n",
      "Epoch 81/100\n",
      "2/2 [==============================] - 0s 1ms/step - loss: 10.9088 - mae: 10.9088\n",
      "Epoch 82/100\n",
      "2/2 [==============================] - 0s 1ms/step - loss: 10.8670 - mae: 10.8670\n",
      "Epoch 83/100\n",
      "2/2 [==============================] - 0s 1ms/step - loss: 10.8281 - mae: 10.8281\n",
      "Epoch 84/100\n",
      "2/2 [==============================] - 0s 1ms/step - loss: 10.7897 - mae: 10.7897\n",
      "Epoch 85/100\n",
      "2/2 [==============================] - 0s 2ms/step - loss: 10.7521 - mae: 10.7521\n",
      "Epoch 86/100\n",
      "2/2 [==============================] - 0s 1ms/step - loss: 10.7116 - mae: 10.7116\n",
      "Epoch 87/100\n",
      "2/2 [==============================] - 0s 1ms/step - loss: 10.6738 - mae: 10.6738\n",
      "Epoch 88/100\n",
      "2/2 [==============================] - 0s 2ms/step - loss: 10.6330 - mae: 10.6330\n",
      "Epoch 89/100\n",
      "2/2 [==============================] - 0s 1ms/step - loss: 10.5900 - mae: 10.5900\n",
      "Epoch 90/100\n",
      "2/2 [==============================] - 0s 1ms/step - loss: 10.5502 - mae: 10.5502\n",
      "Epoch 91/100\n",
      "2/2 [==============================] - 0s 1ms/step - loss: 10.5087 - mae: 10.5087\n",
      "Epoch 92/100\n",
      "2/2 [==============================] - 0s 1ms/step - loss: 10.4672 - mae: 10.4672\n",
      "Epoch 93/100\n",
      "2/2 [==============================] - 0s 1ms/step - loss: 10.4248 - mae: 10.4248\n",
      "Epoch 94/100\n",
      "2/2 [==============================] - 0s 1ms/step - loss: 10.3850 - mae: 10.3850\n",
      "Epoch 95/100\n",
      "2/2 [==============================] - 0s 1ms/step - loss: 10.3447 - mae: 10.3447\n",
      "Epoch 96/100\n",
      "2/2 [==============================] - 0s 1ms/step - loss: 10.3046 - mae: 10.3046\n",
      "Epoch 97/100\n",
      "2/2 [==============================] - 0s 982us/step - loss: 10.2646 - mae: 10.2646\n",
      "Epoch 98/100\n",
      "2/2 [==============================] - 0s 1ms/step - loss: 10.2247 - mae: 10.2247\n",
      "Epoch 99/100\n",
      "2/2 [==============================] - 0s 1ms/step - loss: 10.1839 - mae: 10.1839\n",
      "Epoch 100/100\n",
      "2/2 [==============================] - 0s 1ms/step - loss: 10.1461 - mae: 10.1461\n"
     ]
    },
    {
     "data": {
      "text/plain": [
       "<keras.callbacks.History at 0x2812662e0>"
      ]
     },
     "execution_count": 20,
     "metadata": {},
     "output_type": "execute_result"
    }
   ],
   "source": [
    "model.fit((tf.expand_dims(X_train, axis=-1)), y_train, epochs=100)"
   ]
  },
  {
   "cell_type": "code",
   "execution_count": 21,
   "metadata": {},
   "outputs": [
    {
     "name": "stdout",
     "output_type": "stream",
     "text": [
      "Model: \"sequential_2\"\n",
      "_________________________________________________________________\n",
      " Layer (type)                Output Shape              Param #   \n",
      "=================================================================\n",
      " dense_3 (Dense)             (None, 1)                 2         \n",
      "                                                                 \n",
      "=================================================================\n",
      "Total params: 2\n",
      "Trainable params: 2\n",
      "Non-trainable params: 0\n",
      "_________________________________________________________________\n"
     ]
    }
   ],
   "source": [
    "model.summary()"
   ]
  },
  {
   "cell_type": "code",
   "execution_count": 23,
   "metadata": {},
   "outputs": [
    {
     "name": "stdout",
     "output_type": "stream",
     "text": [
      "You must install pydot (`pip install pydot`) and install graphviz (see instructions at https://graphviz.gitlab.io/download/) for plot_model to work.\n"
     ]
    }
   ],
   "source": [
    "from tensorflow.keras.utils import plot_model\n",
    "\n",
    "plot_model(model, show_shapes=True)"
   ]
  },
  {
   "attachments": {},
   "cell_type": "markdown",
   "metadata": {},
   "source": [
    "### Visualizing model prediction\n",
    "To visualize predictions its a good idea to plot them against the ground truth labels.\n"
   ]
  },
  {
   "cell_type": "code",
   "execution_count": 24,
   "metadata": {},
   "outputs": [
    {
     "name": "stdout",
     "output_type": "stream",
     "text": [
      "1/1 [==============================] - 0s 24ms/step\n"
     ]
    },
    {
     "data": {
      "text/plain": [
       "array([[61.05255 ],\n",
       "       [65.10928 ],\n",
       "       [69.166016],\n",
       "       [73.22275 ],\n",
       "       [77.27947 ],\n",
       "       [81.336205],\n",
       "       [85.39294 ],\n",
       "       [89.44967 ],\n",
       "       [93.5064  ],\n",
       "       [97.56313 ]], dtype=float32)"
      ]
     },
     "execution_count": 24,
     "metadata": {},
     "output_type": "execute_result"
    }
   ],
   "source": [
    "# make some prediction\n",
    "y_pred = model.predict(X_test)\n",
    "y_pred"
   ]
  },
  {
   "cell_type": "code",
   "execution_count": 25,
   "metadata": {},
   "outputs": [
    {
     "data": {
      "text/plain": [
       "<tf.Tensor: shape=(10,), dtype=int32, numpy=array([ 70,  74,  78,  82,  86,  90,  94,  98, 102, 106], dtype=int32)>"
      ]
     },
     "execution_count": 25,
     "metadata": {},
     "output_type": "execute_result"
    }
   ],
   "source": [
    "y_test"
   ]
  },
  {
   "cell_type": "code",
   "execution_count": 28,
   "metadata": {},
   "outputs": [],
   "source": [
    "def plot_prefictions(train_data=X_train, train_labels=y_train, test_data=X_test, test_labels=y_test, predictions=y_pred):\n",
    "    \"\"\"\n",
    "    Plots traing data, test data and compares predictions to ground truth albels\n",
    "    \"\"\"\n",
    "    plt.figure(figsize=(10,7))\n",
    "    plt.scatter(train_data, train_labels, c='b', label=\"Training data\")\n",
    "    plt.scatter(test_data, test_labels, c='g', label=\"Test data\")\n",
    "    plt.scatter(test_data, predictions, c='r', label=\"Prediction\")\n",
    "    plt.legend()\n",
    "    plt.show();"
   ]
  },
  {
   "cell_type": "code",
   "execution_count": 29,
   "metadata": {},
   "outputs": [
    {
     "data": {
      "image/png": "[encoded data removed]",
      "text/plain": [
       "<Figure size 1000x700 with 1 Axes>"
      ]
     },
     "metadata": {},
     "output_type": "display_data"
    }
   ],
   "source": [
    "plot_prefictions()"
   ]
  },
  {
   "cell_type": "code",
   "execution_count": 32,
   "metadata": {},
   "outputs": [],
   "source": [
    "from tensorflow.keras import Sequential\n",
    "from tensorflow.keras.layers import Dense\n",
    "from tensorflow.keras import metrics"
   ]
  },
  {
   "cell_type": "code",
   "execution_count": 41,
   "metadata": {},
   "outputs": [],
   "source": [
    "model_1 = Sequential()\n",
    "\n",
    "model_1.add(Dense(1))"
   ]
  },
  {
   "cell_type": "code",
   "execution_count": 42,
   "metadata": {},
   "outputs": [],
   "source": [
    "model_1.compile(loss='mae', optimizer='adam', metrics='mae')"
   ]
  },
  {
   "cell_type": "code",
   "execution_count": 43,
   "metadata": {},
   "outputs": [
    {
     "name": "stdout",
     "output_type": "stream",
     "text": [
      "2/2 [==============================] - 0s 2ms/step - loss: 12.2310 - mae: 12.2310\n"
     ]
    },
    {
     "data": {
      "text/plain": [
       "<keras.callbacks.History at 0x28c2a2a00>"
      ]
     },
     "execution_count": 43,
     "metadata": {},
     "output_type": "execute_result"
    }
   ],
   "source": [
    "model_1.fit(tf.expand_dims(X_train, axis=-1), y_train)"
   ]
  },
  {
   "cell_type": "code",
   "execution_count": 44,
   "metadata": {},
   "outputs": [
    {
     "name": "stdout",
     "output_type": "stream",
     "text": [
      "1/1 [==============================] - 0s 21ms/step\n"
     ]
    }
   ],
   "source": [
    "# plot_prefictions(predictions=model_1)\n",
    "y_pred_1 = model_1.predict(X_test)"
   ]
  },
  {
   "cell_type": "code",
   "execution_count": 45,
   "metadata": {},
   "outputs": [
    {
     "data": {
      "image/png": "[encoded data removed]",
      "text/plain": [
       "<Figure size 1000x700 with 1 Axes>"
      ]
     },
     "metadata": {},
     "output_type": "display_data"
    }
   ],
   "source": [
    "plot_prefictions(predictions=y_pred_1)"
   ]
  },
  {
   "cell_type": "code",
   "execution_count": 72,
   "metadata": {},
   "outputs": [],
   "source": [
    "model_2 = Sequential()"
   ]
  },
  {
   "cell_type": "code",
   "execution_count": 73,
   "metadata": {},
   "outputs": [],
   "source": [
    "\n",
    "\n",
    "model_2.add(Dense(10, activation='relu'))\n",
    "model_2.add(Dense(1,activation='linear'))\n",
    "\n",
    "model_2.compile(loss='mae', optimizer='sgd', metrics='mse')\n",
    "\n",
    "# model_2.summary()\n"
   ]
  },
  {
   "cell_type": "code",
   "execution_count": 74,
   "metadata": {},
   "outputs": [
    {
     "name": "stdout",
     "output_type": "stream",
     "text": [
      "Epoch 1/100\n",
      "2/2 [==============================] - 0s 2ms/step - loss: 43.8462 - mse: 2784.7261\n",
      "Epoch 2/100\n",
      "2/2 [==============================] - 0s 1ms/step - loss: 19.5776 - mse: 551.5117\n",
      "Epoch 3/100\n",
      "2/2 [==============================] - 0s 1ms/step - loss: 15.9332 - mse: 294.4742\n",
      "Epoch 4/100\n",
      "2/2 [==============================] - 0s 1ms/step - loss: 7.2055 - mse: 80.2486\n",
      "Epoch 5/100\n",
      "2/2 [==============================] - 0s 2ms/step - loss: 9.3004 - mse: 127.4965\n",
      "Epoch 6/100\n",
      "2/2 [==============================] - 0s 1ms/step - loss: 9.8007 - mse: 128.8840\n",
      "Epoch 7/100\n",
      "2/2 [==============================] - 0s 1ms/step - loss: 10.0327 - mse: 172.4886\n",
      "Epoch 8/100\n",
      "2/2 [==============================] - 0s 1ms/step - loss: 12.7044 - mse: 250.3418\n",
      "Epoch 9/100\n",
      "2/2 [==============================] - 0s 1ms/step - loss: 23.6928 - mse: 989.0021\n",
      "Epoch 10/100\n",
      "2/2 [==============================] - 0s 1ms/step - loss: 11.1048 - mse: 184.4819\n",
      "Epoch 11/100\n",
      "2/2 [==============================] - 0s 2ms/step - loss: 10.7288 - mse: 172.0597\n",
      "Epoch 12/100\n",
      "2/2 [==============================] - 0s 2ms/step - loss: 11.1517 - mse: 250.7096\n",
      "Epoch 13/100\n",
      "2/2 [==============================] - 0s 2ms/step - loss: 14.9381 - mse: 291.6135\n",
      "Epoch 14/100\n",
      "2/2 [==============================] - 0s 2ms/step - loss: 16.8575 - mse: 459.3430\n",
      "Epoch 15/100\n",
      "2/2 [==============================] - 0s 1ms/step - loss: 14.5649 - mse: 253.8776\n",
      "Epoch 16/100\n",
      "2/2 [==============================] - 0s 1ms/step - loss: 8.4136 - mse: 96.8203\n",
      "Epoch 17/100\n",
      "2/2 [==============================] - 0s 2ms/step - loss: 13.9093 - mse: 364.5258\n",
      "Epoch 18/100\n",
      "2/2 [==============================] - 0s 3ms/step - loss: 11.6774 - mse: 173.5665\n",
      "Epoch 19/100\n",
      "2/2 [==============================] - 0s 2ms/step - loss: 9.6460 - mse: 152.9440\n",
      "Epoch 20/100\n",
      "2/2 [==============================] - 0s 2ms/step - loss: 5.3104 - mse: 39.7908\n",
      "Epoch 21/100\n",
      "2/2 [==============================] - 0s 3ms/step - loss: 12.3165 - mse: 315.4770\n",
      "Epoch 22/100\n",
      "2/2 [==============================] - 0s 1ms/step - loss: 18.7757 - mse: 510.3841\n",
      "Epoch 23/100\n",
      "2/2 [==============================] - 0s 1ms/step - loss: 8.6618 - mse: 107.2818\n",
      "Epoch 24/100\n",
      "2/2 [==============================] - 0s 3ms/step - loss: 12.0559 - mse: 265.0089\n",
      "Epoch 25/100\n",
      "2/2 [==============================] - 0s 1ms/step - loss: 15.8751 - mse: 429.1557\n",
      "Epoch 26/100\n",
      "2/2 [==============================] - 0s 1ms/step - loss: 19.7275 - mse: 640.2565\n",
      "Epoch 27/100\n",
      "2/2 [==============================] - 0s 1ms/step - loss: 14.3796 - mse: 284.9080\n",
      "Epoch 28/100\n",
      "2/2 [==============================] - 0s 2ms/step - loss: 14.3793 - mse: 278.4274\n",
      "Epoch 29/100\n",
      "2/2 [==============================] - 0s 2ms/step - loss: 5.2039 - mse: 36.1102\n",
      "Epoch 30/100\n",
      "2/2 [==============================] - 0s 1ms/step - loss: 22.7351 - mse: 1003.0475\n",
      "Epoch 31/100\n",
      "2/2 [==============================] - 0s 1ms/step - loss: 9.4712 - mse: 133.3543\n",
      "Epoch 32/100\n",
      "2/2 [==============================] - 0s 6ms/step - loss: 11.9640 - mse: 254.7868\n",
      "Epoch 33/100\n",
      "2/2 [==============================] - 0s 5ms/step - loss: 5.0409 - mse: 36.7965\n",
      "Epoch 34/100\n",
      "2/2 [==============================] - 0s 2ms/step - loss: 17.6281 - mse: 506.2139\n",
      "Epoch 35/100\n",
      "2/2 [==============================] - 0s 4ms/step - loss: 7.1226 - mse: 67.5263\n",
      "Epoch 36/100\n",
      "2/2 [==============================] - 0s 1ms/step - loss: 18.1379 - mse: 647.2365\n",
      "Epoch 37/100\n",
      "2/2 [==============================] - 0s 2ms/step - loss: 7.7754 - mse: 96.0360\n",
      "Epoch 38/100\n",
      "2/2 [==============================] - 0s 1ms/step - loss: 9.7028 - mse: 162.1717\n",
      "Epoch 39/100\n",
      "2/2 [==============================] - 0s 1ms/step - loss: 15.0665 - mse: 459.4797\n",
      "Epoch 40/100\n",
      "2/2 [==============================] - 0s 1ms/step - loss: 13.2107 - mse: 237.9697\n",
      "Epoch 41/100\n",
      "2/2 [==============================] - 0s 1ms/step - loss: 6.8392 - mse: 90.3569\n",
      "Epoch 42/100\n",
      "2/2 [==============================] - 0s 2ms/step - loss: 11.8367 - mse: 223.5726\n",
      "Epoch 43/100\n",
      "2/2 [==============================] - 0s 1ms/step - loss: 9.4139 - mse: 178.9441\n",
      "Epoch 44/100\n",
      "2/2 [==============================] - 0s 1ms/step - loss: 23.2829 - mse: 1105.3319\n",
      "Epoch 45/100\n",
      "2/2 [==============================] - 0s 1ms/step - loss: 13.9257 - mse: 273.5125\n",
      "Epoch 46/100\n",
      "2/2 [==============================] - 0s 1ms/step - loss: 6.4735 - mse: 63.3799\n",
      "Epoch 47/100\n",
      "2/2 [==============================] - 0s 991us/step - loss: 8.5570 - mse: 118.2348\n",
      "Epoch 48/100\n",
      "2/2 [==============================] - 0s 1ms/step - loss: 10.6608 - mse: 192.4080\n",
      "Epoch 49/100\n",
      "2/2 [==============================] - 0s 1ms/step - loss: 8.9199 - mse: 117.3153\n",
      "Epoch 50/100\n",
      "2/2 [==============================] - 0s 2ms/step - loss: 12.3964 - mse: 297.5387\n",
      "Epoch 51/100\n",
      "2/2 [==============================] - 0s 1ms/step - loss: 9.0719 - mse: 130.7583\n",
      "Epoch 52/100\n",
      "2/2 [==============================] - 0s 1ms/step - loss: 18.6288 - mse: 705.4543\n",
      "Epoch 53/100\n",
      "2/2 [==============================] - 0s 1ms/step - loss: 8.3378 - mse: 135.9619\n",
      "Epoch 54/100\n",
      "2/2 [==============================] - 0s 1ms/step - loss: 14.5301 - mse: 305.9615\n",
      "Epoch 55/100\n",
      "2/2 [==============================] - 0s 1ms/step - loss: 21.6508 - mse: 848.1420\n",
      "Epoch 56/100\n",
      "2/2 [==============================] - 0s 1ms/step - loss: 13.0598 - mse: 237.9668\n",
      "Epoch 57/100\n",
      "2/2 [==============================] - 0s 1ms/step - loss: 6.8048 - mse: 69.2473\n",
      "Epoch 58/100\n",
      "2/2 [==============================] - 0s 2ms/step - loss: 6.6128 - mse: 73.5249\n",
      "Epoch 59/100\n",
      "2/2 [==============================] - 0s 1ms/step - loss: 12.7087 - mse: 317.8324\n",
      "Epoch 60/100\n",
      "2/2 [==============================] - 0s 1ms/step - loss: 11.4755 - mse: 261.3857\n",
      "Epoch 61/100\n",
      "2/2 [==============================] - 0s 1ms/step - loss: 15.0427 - mse: 340.4648\n",
      "Epoch 62/100\n",
      "2/2 [==============================] - 0s 1ms/step - loss: 7.7961 - mse: 104.4842\n",
      "Epoch 63/100\n",
      "2/2 [==============================] - 0s 3ms/step - loss: 7.1070 - mse: 73.0915\n",
      "Epoch 64/100\n",
      "2/2 [==============================] - 0s 1ms/step - loss: 16.5567 - mse: 485.4688\n",
      "Epoch 65/100\n",
      "2/2 [==============================] - 0s 1ms/step - loss: 12.5924 - mse: 201.8892\n",
      "Epoch 66/100\n",
      "2/2 [==============================] - 0s 1ms/step - loss: 10.5302 - mse: 158.8766\n",
      "Epoch 67/100\n",
      "2/2 [==============================] - 0s 1ms/step - loss: 6.2654 - mse: 61.8199\n",
      "Epoch 68/100\n",
      "2/2 [==============================] - 0s 1ms/step - loss: 11.2258 - mse: 244.1572\n",
      "Epoch 69/100\n",
      "2/2 [==============================] - 0s 1ms/step - loss: 19.9061 - mse: 706.9294\n",
      "Epoch 70/100\n",
      "2/2 [==============================] - 0s 975us/step - loss: 9.6022 - mse: 162.0041\n",
      "Epoch 71/100\n",
      "2/2 [==============================] - 0s 1ms/step - loss: 9.4269 - mse: 120.6226\n",
      "Epoch 72/100\n",
      "2/2 [==============================] - 0s 2ms/step - loss: 11.9011 - mse: 194.8936\n",
      "Epoch 73/100\n",
      "2/2 [==============================] - 0s 1ms/step - loss: 10.7990 - mse: 231.8737\n",
      "Epoch 74/100\n",
      "2/2 [==============================] - 0s 1ms/step - loss: 25.3516 - mse: 1022.4831\n",
      "Epoch 75/100\n",
      "2/2 [==============================] - 0s 1ms/step - loss: 4.8860 - mse: 31.1886\n",
      "Epoch 76/100\n",
      "2/2 [==============================] - 0s 3ms/step - loss: 13.3197 - mse: 310.6467\n",
      "Epoch 77/100\n",
      "2/2 [==============================] - 0s 3ms/step - loss: 15.4198 - mse: 391.0966\n",
      "Epoch 78/100\n",
      "2/2 [==============================] - 0s 10ms/step - loss: 11.0827 - mse: 174.0414\n",
      "Epoch 79/100\n",
      "2/2 [==============================] - 0s 2ms/step - loss: 12.0715 - mse: 211.0531\n",
      "Epoch 80/100\n",
      "2/2 [==============================] - 0s 3ms/step - loss: 18.6518 - mse: 544.9968\n",
      "Epoch 81/100\n",
      "2/2 [==============================] - 0s 4ms/step - loss: 6.3140 - mse: 58.8259\n",
      "Epoch 82/100\n",
      "2/2 [==============================] - 0s 2ms/step - loss: 7.2962 - mse: 85.4623\n",
      "Epoch 83/100\n",
      "2/2 [==============================] - 0s 2ms/step - loss: 8.3095 - mse: 102.0967\n",
      "Epoch 84/100\n",
      "2/2 [==============================] - 0s 2ms/step - loss: 5.9403 - mse: 51.4372\n",
      "Epoch 85/100\n",
      "2/2 [==============================] - 0s 1ms/step - loss: 16.2664 - mse: 461.6863\n",
      "Epoch 86/100\n",
      "2/2 [==============================] - 0s 1ms/step - loss: 14.5029 - mse: 260.7233\n",
      "Epoch 87/100\n",
      "2/2 [==============================] - 0s 2ms/step - loss: 12.2341 - mse: 221.3668\n",
      "Epoch 88/100\n",
      "2/2 [==============================] - 0s 2ms/step - loss: 10.4881 - mse: 173.5946\n",
      "Epoch 89/100\n",
      "2/2 [==============================] - 0s 1ms/step - loss: 6.8483 - mse: 67.7650\n",
      "Epoch 90/100\n",
      "2/2 [==============================] - 0s 1ms/step - loss: 15.5276 - mse: 462.8644\n",
      "Epoch 91/100\n",
      "2/2 [==============================] - 0s 1ms/step - loss: 11.8311 - mse: 199.8372\n",
      "Epoch 92/100\n",
      "2/2 [==============================] - 0s 2ms/step - loss: 9.4067 - mse: 133.1890\n",
      "Epoch 93/100\n",
      "2/2 [==============================] - 0s 1ms/step - loss: 9.0742 - mse: 117.5124\n",
      "Epoch 94/100\n",
      "2/2 [==============================] - 0s 1ms/step - loss: 12.3938 - mse: 316.8990\n",
      "Epoch 95/100\n",
      "2/2 [==============================] - 0s 1ms/step - loss: 15.5023 - mse: 336.1351\n",
      "Epoch 96/100\n",
      "2/2 [==============================] - 0s 1ms/step - loss: 8.3459 - mse: 153.1024\n",
      "Epoch 97/100\n",
      "2/2 [==============================] - 0s 1ms/step - loss: 9.1867 - mse: 114.7203\n",
      "Epoch 98/100\n",
      "2/2 [==============================] - 0s 1ms/step - loss: 7.9190 - mse: 99.5559\n",
      "Epoch 99/100\n",
      "2/2 [==============================] - 0s 1ms/step - loss: 8.7609 - mse: 151.9846\n",
      "Epoch 100/100\n",
      "2/2 [==============================] - 0s 1ms/step - loss: 17.3309 - mse: 559.0660\n"
     ]
    },
    {
     "data": {
      "text/plain": [
       "<keras.callbacks.History at 0x1580c52e0>"
      ]
     },
     "execution_count": 74,
     "metadata": {},
     "output_type": "execute_result"
    }
   ],
   "source": [
    "model_2.fit(tf.expand_dims(X_train, axis=-1), y_train, epochs=100)"
   ]
  },
  {
   "cell_type": "code",
   "execution_count": 75,
   "metadata": {},
   "outputs": [
    {
     "name": "stdout",
     "output_type": "stream",
     "text": [
      "1/1 [==============================] - 0s 25ms/step\n"
     ]
    }
   ],
   "source": [
    "y_pred_2 = model_2.predict(X_test)"
   ]
  },
  {
   "cell_type": "code",
   "execution_count": 76,
   "metadata": {},
   "outputs": [
    {
     "data": {
      "image/png": "[encoded data removed]",
      "text/plain": [
       "<Figure size 1000x700 with 1 Axes>"
      ]
     },
     "metadata": {},
     "output_type": "display_data"
    }
   ],
   "source": [
    "plot_prefictions(predictions=y_pred_2)"
   ]
  },
  {
   "cell_type": "code",
   "execution_count": 78,
   "metadata": {},
   "outputs": [
    {
     "data": {
      "text/html": [
       "<div>\n",
       "<style scoped>\n",
       "    .dataframe tbody tr th:only-of-type {\n",
       "        vertical-align: middle;\n",
       "    }\n",
       "\n",
       "    .dataframe tbody tr th {\n",
       "        vertical-align: top;\n",
       "    }\n",
       "\n",
       "    .dataframe thead th {\n",
       "        text-align: right;\n",
       "    }\n",
       "</style>\n",
       "<table border=\"1\" class=\"dataframe\">\n",
       "  <thead>\n",
       "    <tr style=\"text-align: right;\">\n",
       "      <th></th>\n",
       "      <th>age</th>\n",
       "      <th>sex</th>\n",
       "      <th>bmi</th>\n",
       "      <th>children</th>\n",
       "      <th>smoker</th>\n",
       "      <th>region</th>\n",
       "      <th>charges</th>\n",
       "    </tr>\n",
       "  </thead>\n",
       "  <tbody>\n",
       "    <tr>\n",
       "      <th>0</th>\n",
       "      <td>19</td>\n",
       "      <td>female</td>\n",
       "      <td>27.900</td>\n",
       "      <td>0</td>\n",
       "      <td>yes</td>\n",
       "      <td>southwest</td>\n",
       "      <td>16884.92400</td>\n",
       "    </tr>\n",
       "    <tr>\n",
       "      <th>1</th>\n",
       "      <td>18</td>\n",
       "      <td>male</td>\n",
       "      <td>33.770</td>\n",
       "      <td>1</td>\n",
       "      <td>no</td>\n",
       "      <td>southeast</td>\n",
       "      <td>1725.55230</td>\n",
       "    </tr>\n",
       "    <tr>\n",
       "      <th>2</th>\n",
       "      <td>28</td>\n",
       "      <td>male</td>\n",
       "      <td>33.000</td>\n",
       "      <td>3</td>\n",
       "      <td>no</td>\n",
       "      <td>southeast</td>\n",
       "      <td>4449.46200</td>\n",
       "    </tr>\n",
       "    <tr>\n",
       "      <th>3</th>\n",
       "      <td>33</td>\n",
       "      <td>male</td>\n",
       "      <td>22.705</td>\n",
       "      <td>0</td>\n",
       "      <td>no</td>\n",
       "      <td>northwest</td>\n",
       "      <td>21984.47061</td>\n",
       "    </tr>\n",
       "    <tr>\n",
       "      <th>4</th>\n",
       "      <td>32</td>\n",
       "      <td>male</td>\n",
       "      <td>28.880</td>\n",
       "      <td>0</td>\n",
       "      <td>no</td>\n",
       "      <td>northwest</td>\n",
       "      <td>3866.85520</td>\n",
       "    </tr>\n",
       "  </tbody>\n",
       "</table>\n",
       "</div>"
      ],
      "text/plain": [
       "   age     sex     bmi  children smoker     region      charges\n",
       "0   19  female  27.900         0    yes  southwest  16884.92400\n",
       "1   18    male  33.770         1     no  southeast   1725.55230\n",
       "2   28    male  33.000         3     no  southeast   4449.46200\n",
       "3   33    male  22.705         0     no  northwest  21984.47061\n",
       "4   32    male  28.880         0     no  northwest   3866.85520"
      ]
     },
     "execution_count": 78,
     "metadata": {},
     "output_type": "execute_result"
    }
   ],
   "source": [
    "import pandas as pd\n",
    "df = pd.read_csv(\"https://raw.githubusercontent.com/stedy/Machine-Learning-with-R-datasets/master/insurance.csv\")\n",
    "df.head()"
   ]
  },
  {
   "cell_type": "code",
   "execution_count": 79,
   "metadata": {},
   "outputs": [
    {
     "data": {
      "text/html": [
       "<div>\n",
       "<style scoped>\n",
       "    .dataframe tbody tr th:only-of-type {\n",
       "        vertical-align: middle;\n",
       "    }\n",
       "\n",
       "    .dataframe tbody tr th {\n",
       "        vertical-align: top;\n",
       "    }\n",
       "\n",
       "    .dataframe thead th {\n",
       "        text-align: right;\n",
       "    }\n",
       "</style>\n",
       "<table border=\"1\" class=\"dataframe\">\n",
       "  <thead>\n",
       "    <tr style=\"text-align: right;\">\n",
       "      <th></th>\n",
       "      <th>age</th>\n",
       "      <th>bmi</th>\n",
       "      <th>children</th>\n",
       "      <th>charges</th>\n",
       "      <th>sex_female</th>\n",
       "      <th>sex_male</th>\n",
       "      <th>smoker_no</th>\n",
       "      <th>smoker_yes</th>\n",
       "      <th>region_northeast</th>\n",
       "      <th>region_northwest</th>\n",
       "      <th>region_southeast</th>\n",
       "      <th>region_southwest</th>\n",
       "    </tr>\n",
       "  </thead>\n",
       "  <tbody>\n",
       "    <tr>\n",
       "      <th>0</th>\n",
       "      <td>19</td>\n",
       "      <td>27.900</td>\n",
       "      <td>0</td>\n",
       "      <td>16884.92400</td>\n",
       "      <td>1</td>\n",
       "      <td>0</td>\n",
       "      <td>0</td>\n",
       "      <td>1</td>\n",
       "      <td>0</td>\n",
       "      <td>0</td>\n",
       "      <td>0</td>\n",
       "      <td>1</td>\n",
       "    </tr>\n",
       "    <tr>\n",
       "      <th>1</th>\n",
       "      <td>18</td>\n",
       "      <td>33.770</td>\n",
       "      <td>1</td>\n",
       "      <td>1725.55230</td>\n",
       "      <td>0</td>\n",
       "      <td>1</td>\n",
       "      <td>1</td>\n",
       "      <td>0</td>\n",
       "      <td>0</td>\n",
       "      <td>0</td>\n",
       "      <td>1</td>\n",
       "      <td>0</td>\n",
       "    </tr>\n",
       "    <tr>\n",
       "      <th>2</th>\n",
       "      <td>28</td>\n",
       "      <td>33.000</td>\n",
       "      <td>3</td>\n",
       "      <td>4449.46200</td>\n",
       "      <td>0</td>\n",
       "      <td>1</td>\n",
       "      <td>1</td>\n",
       "      <td>0</td>\n",
       "      <td>0</td>\n",
       "      <td>0</td>\n",
       "      <td>1</td>\n",
       "      <td>0</td>\n",
       "    </tr>\n",
       "    <tr>\n",
       "      <th>3</th>\n",
       "      <td>33</td>\n",
       "      <td>22.705</td>\n",
       "      <td>0</td>\n",
       "      <td>21984.47061</td>\n",
       "      <td>0</td>\n",
       "      <td>1</td>\n",
       "      <td>1</td>\n",
       "      <td>0</td>\n",
       "      <td>0</td>\n",
       "      <td>1</td>\n",
       "      <td>0</td>\n",
       "      <td>0</td>\n",
       "    </tr>\n",
       "    <tr>\n",
       "      <th>4</th>\n",
       "      <td>32</td>\n",
       "      <td>28.880</td>\n",
       "      <td>0</td>\n",
       "      <td>3866.85520</td>\n",
       "      <td>0</td>\n",
       "      <td>1</td>\n",
       "      <td>1</td>\n",
       "      <td>0</td>\n",
       "      <td>0</td>\n",
       "      <td>1</td>\n",
       "      <td>0</td>\n",
       "      <td>0</td>\n",
       "    </tr>\n",
       "  </tbody>\n",
       "</table>\n",
       "</div>"
      ],
      "text/plain": [
       "   age     bmi  children      charges  sex_female  sex_male  smoker_no  \\\n",
       "0   19  27.900         0  16884.92400           1         0          0   \n",
       "1   18  33.770         1   1725.55230           0         1          1   \n",
       "2   28  33.000         3   4449.46200           0         1          1   \n",
       "3   33  22.705         0  21984.47061           0         1          1   \n",
       "4   32  28.880         0   3866.85520           0         1          1   \n",
       "\n",
       "   smoker_yes  region_northeast  region_northwest  region_southeast  \\\n",
       "0           1                 0                 0                 0   \n",
       "1           0                 0                 0                 1   \n",
       "2           0                 0                 0                 1   \n",
       "3           0                 0                 1                 0   \n",
       "4           0                 0                 1                 0   \n",
       "\n",
       "   region_southwest  \n",
       "0                 1  \n",
       "1                 0  \n",
       "2                 0  \n",
       "3                 0  \n",
       "4                 0  "
      ]
     },
     "execution_count": 79,
     "metadata": {},
     "output_type": "execute_result"
    }
   ],
   "source": [
    "ohe = pd.get_dummies(df)\n",
    "ohe.head()"
   ]
  },
  {
   "cell_type": "code",
   "execution_count": 80,
   "metadata": {},
   "outputs": [],
   "source": [
    "# split data into x and y\n",
    "X = ohe.drop(columns='charges')\n",
    "y = ohe['charges']"
   ]
  },
  {
   "cell_type": "code",
   "execution_count": 81,
   "metadata": {},
   "outputs": [
    {
     "data": {
      "text/html": [
       "<div>\n",
       "<style scoped>\n",
       "    .dataframe tbody tr th:only-of-type {\n",
       "        vertical-align: middle;\n",
       "    }\n",
       "\n",
       "    .dataframe tbody tr th {\n",
       "        vertical-align: top;\n",
       "    }\n",
       "\n",
       "    .dataframe thead th {\n",
       "        text-align: right;\n",
       "    }\n",
       "</style>\n",
       "<table border=\"1\" class=\"dataframe\">\n",
       "  <thead>\n",
       "    <tr style=\"text-align: right;\">\n",
       "      <th></th>\n",
       "      <th>age</th>\n",
       "      <th>bmi</th>\n",
       "      <th>children</th>\n",
       "      <th>sex_female</th>\n",
       "      <th>sex_male</th>\n",
       "      <th>smoker_no</th>\n",
       "      <th>smoker_yes</th>\n",
       "      <th>region_northeast</th>\n",
       "      <th>region_northwest</th>\n",
       "      <th>region_southeast</th>\n",
       "      <th>region_southwest</th>\n",
       "    </tr>\n",
       "  </thead>\n",
       "  <tbody>\n",
       "    <tr>\n",
       "      <th>0</th>\n",
       "      <td>19</td>\n",
       "      <td>27.900</td>\n",
       "      <td>0</td>\n",
       "      <td>1</td>\n",
       "      <td>0</td>\n",
       "      <td>0</td>\n",
       "      <td>1</td>\n",
       "      <td>0</td>\n",
       "      <td>0</td>\n",
       "      <td>0</td>\n",
       "      <td>1</td>\n",
       "    </tr>\n",
       "    <tr>\n",
       "      <th>1</th>\n",
       "      <td>18</td>\n",
       "      <td>33.770</td>\n",
       "      <td>1</td>\n",
       "      <td>0</td>\n",
       "      <td>1</td>\n",
       "      <td>1</td>\n",
       "      <td>0</td>\n",
       "      <td>0</td>\n",
       "      <td>0</td>\n",
       "      <td>1</td>\n",
       "      <td>0</td>\n",
       "    </tr>\n",
       "    <tr>\n",
       "      <th>2</th>\n",
       "      <td>28</td>\n",
       "      <td>33.000</td>\n",
       "      <td>3</td>\n",
       "      <td>0</td>\n",
       "      <td>1</td>\n",
       "      <td>1</td>\n",
       "      <td>0</td>\n",
       "      <td>0</td>\n",
       "      <td>0</td>\n",
       "      <td>1</td>\n",
       "      <td>0</td>\n",
       "    </tr>\n",
       "    <tr>\n",
       "      <th>3</th>\n",
       "      <td>33</td>\n",
       "      <td>22.705</td>\n",
       "      <td>0</td>\n",
       "      <td>0</td>\n",
       "      <td>1</td>\n",
       "      <td>1</td>\n",
       "      <td>0</td>\n",
       "      <td>0</td>\n",
       "      <td>1</td>\n",
       "      <td>0</td>\n",
       "      <td>0</td>\n",
       "    </tr>\n",
       "    <tr>\n",
       "      <th>4</th>\n",
       "      <td>32</td>\n",
       "      <td>28.880</td>\n",
       "      <td>0</td>\n",
       "      <td>0</td>\n",
       "      <td>1</td>\n",
       "      <td>1</td>\n",
       "      <td>0</td>\n",
       "      <td>0</td>\n",
       "      <td>1</td>\n",
       "      <td>0</td>\n",
       "      <td>0</td>\n",
       "    </tr>\n",
       "  </tbody>\n",
       "</table>\n",
       "</div>"
      ],
      "text/plain": [
       "   age     bmi  children  sex_female  sex_male  smoker_no  smoker_yes  \\\n",
       "0   19  27.900         0           1         0          0           1   \n",
       "1   18  33.770         1           0         1          1           0   \n",
       "2   28  33.000         3           0         1          1           0   \n",
       "3   33  22.705         0           0         1          1           0   \n",
       "4   32  28.880         0           0         1          1           0   \n",
       "\n",
       "   region_northeast  region_northwest  region_southeast  region_southwest  \n",
       "0                 0                 0                 0                 1  \n",
       "1                 0                 0                 1                 0  \n",
       "2                 0                 0                 1                 0  \n",
       "3                 0                 1                 0                 0  \n",
       "4                 0                 1                 0                 0  "
      ]
     },
     "execution_count": 81,
     "metadata": {},
     "output_type": "execute_result"
    }
   ],
   "source": [
    "X.head()"
   ]
  },
  {
   "cell_type": "code",
   "execution_count": 82,
   "metadata": {},
   "outputs": [
    {
     "data": {
      "text/plain": [
       "0    16884.92400\n",
       "1     1725.55230\n",
       "2     4449.46200\n",
       "3    21984.47061\n",
       "4     3866.85520\n",
       "Name: charges, dtype: float64"
      ]
     },
     "execution_count": 82,
     "metadata": {},
     "output_type": "execute_result"
    }
   ],
   "source": [
    "y.head()"
   ]
  },
  {
   "cell_type": "code",
   "execution_count": 83,
   "metadata": {},
   "outputs": [],
   "source": [
    "from sklearn.model_selection import train_test_split\n",
    "\n",
    "X_train, X_test, y_train, y_test = train_test_split(X,y, random_state=42)"
   ]
  },
  {
   "cell_type": "code",
   "execution_count": 87,
   "metadata": {},
   "outputs": [],
   "source": [
    "model_3 = Sequential()\n",
    "\n",
    "model_3.add(Dense(10, activation='relu'))\n",
    "model_3.add(Dense(1, activation='linear'))\n",
    "\n",
    "model_3.compile(loss='mae', optimizer='adam', metrics='mse')"
   ]
  },
  {
   "cell_type": "code",
   "execution_count": 88,
   "metadata": {},
   "outputs": [
    {
     "name": "stdout",
     "output_type": "stream",
     "text": [
      "Epoch 1/100\n",
      "32/32 [==============================] - 1s 404us/step - loss: 13264.9717 - mse: 321042752.0000\n",
      "Epoch 2/100\n",
      "32/32 [==============================] - 0s 463us/step - loss: 13260.2529 - mse: 320912800.0000\n",
      "Epoch 3/100\n",
      "32/32 [==============================] - 0s 489us/step - loss: 13254.5693 - mse: 320758048.0000\n",
      "Epoch 4/100\n",
      "32/32 [==============================] - 0s 453us/step - loss: 13247.0664 - mse: 320548256.0000\n",
      "Epoch 5/100\n",
      "32/32 [==============================] - 0s 432us/step - loss: 13238.2881 - mse: 320298016.0000\n",
      "Epoch 6/100\n",
      "32/32 [==============================] - 0s 439us/step - loss: 13228.8428 - mse: 320036832.0000\n",
      "Epoch 7/100\n",
      "32/32 [==============================] - 0s 1ms/step - loss: 13218.6318 - mse: 319747136.0000\n",
      "Epoch 8/100\n",
      "32/32 [==============================] - 0s 561us/step - loss: 13207.5967 - mse: 319438880.0000\n",
      "Epoch 9/100\n",
      "32/32 [==============================] - 0s 449us/step - loss: 13195.6484 - mse: 319104960.0000\n",
      "Epoch 10/100\n",
      "32/32 [==============================] - 0s 460us/step - loss: 13182.7920 - mse: 318738400.0000\n",
      "Epoch 11/100\n",
      "32/32 [==============================] - 0s 459us/step - loss: 13168.9170 - mse: 318351296.0000\n",
      "Epoch 12/100\n",
      "32/32 [==============================] - 0s 438us/step - loss: 13154.0527 - mse: 317936896.0000\n",
      "Epoch 13/100\n",
      "32/32 [==============================] - 0s 461us/step - loss: 13138.1982 - mse: 317494112.0000\n",
      "Epoch 14/100\n",
      "32/32 [==============================] - 0s 447us/step - loss: 13121.3008 - mse: 317018880.0000\n",
      "Epoch 15/100\n",
      "32/32 [==============================] - 0s 515us/step - loss: 13103.4160 - mse: 316524928.0000\n",
      "Epoch 16/100\n",
      "32/32 [==============================] - 0s 415us/step - loss: 13084.4482 - mse: 315988800.0000\n",
      "Epoch 17/100\n",
      "32/32 [==============================] - 0s 462us/step - loss: 13064.4395 - mse: 315427008.0000\n",
      "Epoch 18/100\n",
      "32/32 [==============================] - 0s 563us/step - loss: 13043.3623 - mse: 314849920.0000\n",
      "Epoch 19/100\n",
      "32/32 [==============================] - 0s 481us/step - loss: 13021.2588 - mse: 314238240.0000\n",
      "Epoch 20/100\n",
      "32/32 [==============================] - 0s 438us/step - loss: 12998.1641 - mse: 313604672.0000\n",
      "Epoch 21/100\n",
      "32/32 [==============================] - 0s 428us/step - loss: 12974.0537 - mse: 312933472.0000\n",
      "Epoch 22/100\n",
      "32/32 [==============================] - 0s 414us/step - loss: 12948.8857 - mse: 312235744.0000\n",
      "Epoch 23/100\n",
      "32/32 [==============================] - 0s 417us/step - loss: 12922.6729 - mse: 311506912.0000\n",
      "Epoch 24/100\n",
      "32/32 [==============================] - 0s 428us/step - loss: 12895.5059 - mse: 310754464.0000\n",
      "Epoch 25/100\n",
      "32/32 [==============================] - 0s 437us/step - loss: 12867.2812 - mse: 310000864.0000\n",
      "Epoch 26/100\n",
      "32/32 [==============================] - 0s 439us/step - loss: 12838.1143 - mse: 309181696.0000\n",
      "Epoch 27/100\n",
      "32/32 [==============================] - 0s 427us/step - loss: 12807.9746 - mse: 308382784.0000\n",
      "Epoch 28/100\n",
      "32/32 [==============================] - 0s 463us/step - loss: 12776.8359 - mse: 307510880.0000\n",
      "Epoch 29/100\n",
      "32/32 [==============================] - 0s 473us/step - loss: 12744.7529 - mse: 306650560.0000\n",
      "Epoch 30/100\n",
      "32/32 [==============================] - 0s 647us/step - loss: 12711.6924 - mse: 305748480.0000\n",
      "Epoch 31/100\n",
      "32/32 [==============================] - 0s 483us/step - loss: 12677.6201 - mse: 304822368.0000\n",
      "Epoch 32/100\n",
      "32/32 [==============================] - 0s 476us/step - loss: 12642.6074 - mse: 303860832.0000\n",
      "Epoch 33/100\n",
      "32/32 [==============================] - 0s 468us/step - loss: 12606.6826 - mse: 302911168.0000\n",
      "Epoch 34/100\n",
      "32/32 [==============================] - 0s 448us/step - loss: 12569.8545 - mse: 301922944.0000\n",
      "Epoch 35/100\n",
      "32/32 [==============================] - 0s 435us/step - loss: 12532.0361 - mse: 300916960.0000\n",
      "Epoch 36/100\n",
      "32/32 [==============================] - 0s 429us/step - loss: 12493.4316 - mse: 299888352.0000\n",
      "Epoch 37/100\n",
      "32/32 [==============================] - 0s 1ms/step - loss: 12453.7754 - mse: 298825664.0000\n",
      "Epoch 38/100\n",
      "32/32 [==============================] - 0s 475us/step - loss: 12413.3320 - mse: 297753600.0000\n",
      "Epoch 39/100\n",
      "32/32 [==============================] - 0s 560us/step - loss: 12371.9277 - mse: 296663488.0000\n",
      "Epoch 40/100\n",
      "32/32 [==============================] - 0s 418us/step - loss: 12329.3994 - mse: 295544608.0000\n",
      "Epoch 41/100\n",
      "32/32 [==============================] - 0s 416us/step - loss: 12285.9941 - mse: 294391360.0000\n",
      "Epoch 42/100\n",
      "32/32 [==============================] - 0s 456us/step - loss: 12241.1816 - mse: 293209376.0000\n",
      "Epoch 43/100\n",
      "32/32 [==============================] - 0s 426us/step - loss: 12194.7627 - mse: 292031232.0000\n",
      "Epoch 44/100\n",
      "32/32 [==============================] - 0s 429us/step - loss: 12146.2217 - mse: 290758112.0000\n",
      "Epoch 45/100\n",
      "32/32 [==============================] - 0s 436us/step - loss: 12095.4834 - mse: 289436672.0000\n",
      "Epoch 46/100\n",
      "32/32 [==============================] - 0s 430us/step - loss: 12042.1943 - mse: 288046592.0000\n",
      "Epoch 47/100\n",
      "32/32 [==============================] - 0s 433us/step - loss: 11986.5811 - mse: 286656192.0000\n",
      "Epoch 48/100\n",
      "32/32 [==============================] - 0s 445us/step - loss: 11928.9932 - mse: 285178400.0000\n",
      "Epoch 49/100\n",
      "32/32 [==============================] - 0s 437us/step - loss: 11869.5898 - mse: 283654976.0000\n",
      "Epoch 50/100\n",
      "32/32 [==============================] - 0s 461us/step - loss: 11808.3643 - mse: 282102304.0000\n",
      "Epoch 51/100\n",
      "32/32 [==============================] - 0s 516us/step - loss: 11746.1631 - mse: 280511872.0000\n",
      "Epoch 52/100\n",
      "32/32 [==============================] - 0s 486us/step - loss: 11682.7227 - mse: 278931264.0000\n",
      "Epoch 53/100\n",
      "32/32 [==============================] - 0s 474us/step - loss: 11618.2754 - mse: 277283264.0000\n",
      "Epoch 54/100\n",
      "32/32 [==============================] - 0s 452us/step - loss: 11553.0879 - mse: 275679776.0000\n",
      "Epoch 55/100\n",
      "32/32 [==============================] - 0s 485us/step - loss: 11486.4814 - mse: 273972704.0000\n",
      "Epoch 56/100\n",
      "32/32 [==============================] - 0s 463us/step - loss: 11419.0635 - mse: 272312704.0000\n",
      "Epoch 57/100\n",
      "32/32 [==============================] - 0s 451us/step - loss: 11350.7812 - mse: 270588448.0000\n",
      "Epoch 58/100\n",
      "32/32 [==============================] - 0s 454us/step - loss: 11282.4238 - mse: 268915456.0000\n",
      "Epoch 59/100\n",
      "32/32 [==============================] - 0s 472us/step - loss: 11213.1934 - mse: 267177232.0000\n",
      "Epoch 60/100\n",
      "32/32 [==============================] - 0s 470us/step - loss: 11143.8574 - mse: 265462336.0000\n",
      "Epoch 61/100\n",
      "32/32 [==============================] - 0s 525us/step - loss: 11073.7100 - mse: 263748736.0000\n",
      "Epoch 62/100\n",
      "32/32 [==============================] - 0s 435us/step - loss: 11003.6514 - mse: 262004336.0000\n",
      "Epoch 63/100\n",
      "32/32 [==============================] - 0s 438us/step - loss: 10933.9492 - mse: 260264992.0000\n",
      "Epoch 64/100\n",
      "32/32 [==============================] - 0s 1ms/step - loss: 10863.9590 - mse: 258574768.0000\n",
      "Epoch 65/100\n",
      "32/32 [==============================] - 0s 465us/step - loss: 10794.0283 - mse: 256795920.0000\n",
      "Epoch 66/100\n",
      "32/32 [==============================] - 0s 428us/step - loss: 10724.1592 - mse: 255074464.0000\n",
      "Epoch 67/100\n",
      "32/32 [==============================] - 0s 432us/step - loss: 10654.5195 - mse: 253347936.0000\n",
      "Epoch 68/100\n",
      "32/32 [==============================] - 0s 447us/step - loss: 10585.4453 - mse: 251617616.0000\n",
      "Epoch 69/100\n",
      "32/32 [==============================] - 0s 437us/step - loss: 10516.8242 - mse: 249891312.0000\n",
      "Epoch 70/100\n",
      "32/32 [==============================] - 0s 445us/step - loss: 10448.8447 - mse: 248181680.0000\n",
      "Epoch 71/100\n",
      "32/32 [==============================] - 0s 445us/step - loss: 10381.2012 - mse: 246472096.0000\n",
      "Epoch 72/100\n",
      "32/32 [==============================] - 0s 489us/step - loss: 10314.5469 - mse: 244762704.0000\n",
      "Epoch 73/100\n",
      "32/32 [==============================] - 0s 450us/step - loss: 10247.6924 - mse: 243103184.0000\n",
      "Epoch 74/100\n",
      "32/32 [==============================] - 0s 467us/step - loss: 10180.8086 - mse: 241371792.0000\n",
      "Epoch 75/100\n",
      "32/32 [==============================] - 0s 444us/step - loss: 10114.0635 - mse: 239677504.0000\n",
      "Epoch 76/100\n",
      "32/32 [==============================] - 0s 454us/step - loss: 10046.0088 - mse: 237955744.0000\n",
      "Epoch 77/100\n",
      "32/32 [==============================] - 0s 498us/step - loss: 9979.8369 - mse: 236290016.0000\n",
      "Epoch 78/100\n",
      "32/32 [==============================] - 0s 442us/step - loss: 9914.1768 - mse: 234580352.0000\n",
      "Epoch 79/100\n",
      "32/32 [==============================] - 0s 427us/step - loss: 9848.9717 - mse: 232921280.0000\n",
      "Epoch 80/100\n",
      "32/32 [==============================] - 0s 499us/step - loss: 9784.8750 - mse: 231251584.0000\n",
      "Epoch 81/100\n",
      "32/32 [==============================] - 0s 442us/step - loss: 9721.5322 - mse: 229630784.0000\n",
      "Epoch 82/100\n",
      "32/32 [==============================] - 0s 439us/step - loss: 9658.0156 - mse: 227942560.0000\n",
      "Epoch 83/100\n",
      "32/32 [==============================] - 0s 413us/step - loss: 9594.2578 - mse: 226326416.0000\n",
      "Epoch 84/100\n",
      "32/32 [==============================] - 0s 427us/step - loss: 9530.7988 - mse: 224684112.0000\n",
      "Epoch 85/100\n",
      "32/32 [==============================] - 0s 429us/step - loss: 9467.3789 - mse: 223077664.0000\n",
      "Epoch 86/100\n",
      "32/32 [==============================] - 0s 430us/step - loss: 9404.7783 - mse: 221478608.0000\n",
      "Epoch 87/100\n",
      "32/32 [==============================] - 0s 425us/step - loss: 9343.8037 - mse: 219863312.0000\n",
      "Epoch 88/100\n",
      "32/32 [==============================] - 0s 435us/step - loss: 9281.8486 - mse: 218265312.0000\n",
      "Epoch 89/100\n",
      "32/32 [==============================] - 0s 429us/step - loss: 9219.5762 - mse: 216630752.0000\n",
      "Epoch 90/100\n",
      "32/32 [==============================] - 0s 433us/step - loss: 9157.3213 - mse: 215041248.0000\n",
      "Epoch 91/100\n",
      "32/32 [==============================] - 0s 1ms/step - loss: 9096.7393 - mse: 213462016.0000\n",
      "Epoch 92/100\n",
      "32/32 [==============================] - 0s 428us/step - loss: 9038.1846 - mse: 211924944.0000\n",
      "Epoch 93/100\n",
      "32/32 [==============================] - 0s 435us/step - loss: 8981.6729 - mse: 210444880.0000\n",
      "Epoch 94/100\n",
      "32/32 [==============================] - 0s 435us/step - loss: 8925.9336 - mse: 208938224.0000\n",
      "Epoch 95/100\n",
      "32/32 [==============================] - 0s 452us/step - loss: 8870.7510 - mse: 207431696.0000\n",
      "Epoch 96/100\n",
      "32/32 [==============================] - 0s 432us/step - loss: 8816.4668 - mse: 205992048.0000\n",
      "Epoch 97/100\n",
      "32/32 [==============================] - 0s 439us/step - loss: 8763.6191 - mse: 204578576.0000\n",
      "Epoch 98/100\n",
      "32/32 [==============================] - 0s 447us/step - loss: 8711.7129 - mse: 203111712.0000\n",
      "Epoch 99/100\n",
      "32/32 [==============================] - 0s 446us/step - loss: 8660.2510 - mse: 201677664.0000\n",
      "Epoch 100/100\n",
      "32/32 [==============================] - 0s 540us/step - loss: 8609.1455 - mse: 200241280.0000\n"
     ]
    },
    {
     "data": {
      "text/plain": [
       "<keras.callbacks.History at 0x1599e6280>"
      ]
     },
     "execution_count": 88,
     "metadata": {},
     "output_type": "execute_result"
    }
   ],
   "source": [
    "model_3.fit(X_train, y_train, epochs=100)"
   ]
  },
  {
   "cell_type": "code",
   "execution_count": 89,
   "metadata": {},
   "outputs": [
    {
     "name": "stdout",
     "output_type": "stream",
     "text": [
      "11/11 [==============================] - 0s 464us/step - loss: 8615.0371 - mse: 204180464.0000\n"
     ]
    },
    {
     "data": {
      "text/plain": [
       "[8615.037109375, 204180464.0]"
      ]
     },
     "execution_count": 89,
     "metadata": {},
     "output_type": "execute_result"
    }
   ],
   "source": [
    "model_3.evaluate(X_test, y_test)"
   ]
  },
  {
   "cell_type": "code",
   "execution_count": 90,
   "metadata": {},
   "outputs": [
    {
     "data": {
      "text/plain": [
       "(13267.935817337988, 9447.3824)"
      ]
     },
     "execution_count": 90,
     "metadata": {},
     "output_type": "execute_result"
    }
   ],
   "source": [
    "y_train.mean(), y_train.median()"
   ]
  },
  {
   "cell_type": "code",
   "execution_count": 91,
   "metadata": {},
   "outputs": [
    {
     "data": {
      "text/plain": [
       "11"
      ]
     },
     "execution_count": 91,
     "metadata": {},
     "output_type": "execute_result"
    }
   ],
   "source": [
    "shape_input = X_train.shape[1]\n",
    "shape_input"
   ]
  },
  {
   "cell_type": "code",
   "execution_count": 97,
   "metadata": {},
   "outputs": [],
   "source": [
    "model_4 = Sequential()\n",
    "\n",
    "model_4.add(Dense(11, input_dim=11, activation = 'relu'))\n",
    "model_4.add(Dense(5, activation = 'relu'))"
   ]
  },
  {
   "cell_type": "code",
   "execution_count": 100,
   "metadata": {},
   "outputs": [
    {
     "name": "stdout",
     "output_type": "stream",
     "text": [
      "Model: \"sequential_19\"\n",
      "_________________________________________________________________\n",
      " Layer (type)                Output Shape              Param #   \n",
      "=================================================================\n",
      " dense_34 (Dense)            (None, 11)                132       \n",
      "                                                                 \n",
      " dense_35 (Dense)            (None, 5)                 60        \n",
      "                                                                 \n",
      " dense_36 (Dense)            (None, 1)                 6         \n",
      "                                                                 \n",
      "=================================================================\n",
      "Total params: 198\n",
      "Trainable params: 198\n",
      "Non-trainable params: 0\n",
      "_________________________________________________________________\n"
     ]
    }
   ],
   "source": [
    "model_4.add(Dense(1, activation='linear'))\n",
    "model_4.summary()"
   ]
  },
  {
   "cell_type": "code",
   "execution_count": 104,
   "metadata": {},
   "outputs": [],
   "source": [
    "model_4.compile(loss='mae', optimizer='adam', metrics='mae')"
   ]
  },
  {
   "cell_type": "code",
   "execution_count": 105,
   "metadata": {},
   "outputs": [],
   "source": [
    "# Learning history plotting function\n",
    "def plot_history(history):\n",
    "  \"\"\"Takes a keras model learning history and plots each metric\"\"\"\n",
    "  \n",
    "  metrics = history.history.keys()\n",
    "  \n",
    "  for metric in metrics:\n",
    "      if not 'val' in metric:\n",
    "        plt.plot(history.history[f'{metric}'], label=f'{metric}')\n",
    "        if f'val_{metric}' in metrics:\n",
    "          plt.plot(history.history[f'val_{metric}'], label=f'val_{metric}')\n",
    "        plt.legend()\n",
    "        plt.title(f'{metric}')\n",
    "        plt.show()"
   ]
  },
  {
   "cell_type": "code",
   "execution_count": 110,
   "metadata": {},
   "outputs": [
    {
     "name": "stdout",
     "output_type": "stream",
     "text": [
      "Epoch 1/100\n",
      "32/32 [==============================] - 0s 3ms/step - loss: 7275.0508 - mae: 7275.0508 - val_loss: 7429.5356 - val_mae: 7429.5356\n",
      "Epoch 2/100\n",
      "32/32 [==============================] - 0s 878us/step - loss: 7271.0923 - mae: 7271.0923 - val_loss: 7425.2778 - val_mae: 7425.2778\n",
      "Epoch 3/100\n",
      "32/32 [==============================] - 0s 872us/step - loss: 7267.1567 - mae: 7267.1567 - val_loss: 7420.8979 - val_mae: 7420.8979\n",
      "Epoch 4/100\n",
      "32/32 [==============================] - 0s 857us/step - loss: 7263.6694 - mae: 7263.6694 - val_loss: 7416.9067 - val_mae: 7416.9067\n",
      "Epoch 5/100\n",
      "32/32 [==============================] - 0s 872us/step - loss: 7259.5059 - mae: 7259.5059 - val_loss: 7412.7715 - val_mae: 7412.7715\n",
      "Epoch 6/100\n",
      "32/32 [==============================] - 0s 955us/step - loss: 7255.2192 - mae: 7255.2192 - val_loss: 7407.8447 - val_mae: 7407.8447\n",
      "Epoch 7/100\n",
      "32/32 [==============================] - 0s 1ms/step - loss: 7251.3071 - mae: 7251.3071 - val_loss: 7403.8657 - val_mae: 7403.8657\n",
      "Epoch 8/100\n",
      "32/32 [==============================] - 0s 896us/step - loss: 7247.1924 - mae: 7247.1924 - val_loss: 7398.7754 - val_mae: 7398.7754\n",
      "Epoch 9/100\n",
      "32/32 [==============================] - 0s 776us/step - loss: 7243.2466 - mae: 7243.2466 - val_loss: 7393.8232 - val_mae: 7393.8232\n",
      "Epoch 10/100\n",
      "32/32 [==============================] - 0s 839us/step - loss: 7239.4590 - mae: 7239.4590 - val_loss: 7389.4917 - val_mae: 7389.4917\n",
      "Epoch 11/100\n",
      "32/32 [==============================] - 0s 867us/step - loss: 7234.7520 - mae: 7234.7520 - val_loss: 7384.2017 - val_mae: 7384.2017\n",
      "Epoch 12/100\n",
      "32/32 [==============================] - 0s 1ms/step - loss: 7230.9897 - mae: 7230.9897 - val_loss: 7379.6953 - val_mae: 7379.6953\n",
      "Epoch 13/100\n",
      "32/32 [==============================] - 0s 1ms/step - loss: 7226.9375 - mae: 7226.9375 - val_loss: 7375.5947 - val_mae: 7375.5947\n",
      "Epoch 14/100\n",
      "32/32 [==============================] - 0s 893us/step - loss: 7222.4829 - mae: 7222.4829 - val_loss: 7371.7417 - val_mae: 7371.7417\n",
      "Epoch 15/100\n",
      "32/32 [==============================] - 0s 880us/step - loss: 7218.5991 - mae: 7218.5991 - val_loss: 7367.8940 - val_mae: 7367.8940\n",
      "Epoch 16/100\n",
      "32/32 [==============================] - 0s 859us/step - loss: 7214.2754 - mae: 7214.2754 - val_loss: 7362.3403 - val_mae: 7362.3403\n",
      "Epoch 17/100\n",
      "32/32 [==============================] - 0s 860us/step - loss: 7210.8618 - mae: 7210.8618 - val_loss: 7356.8154 - val_mae: 7356.8154\n",
      "Epoch 18/100\n",
      "32/32 [==============================] - 0s 902us/step - loss: 7206.3311 - mae: 7206.3311 - val_loss: 7351.9805 - val_mae: 7351.9805\n",
      "Epoch 19/100\n",
      "32/32 [==============================] - 0s 894us/step - loss: 7202.4639 - mae: 7202.4639 - val_loss: 7347.1084 - val_mae: 7347.1084\n",
      "Epoch 20/100\n",
      "32/32 [==============================] - 0s 877us/step - loss: 7197.8315 - mae: 7197.8315 - val_loss: 7342.7334 - val_mae: 7342.7334\n",
      "Epoch 21/100\n",
      "32/32 [==============================] - 0s 843us/step - loss: 7193.4917 - mae: 7193.4917 - val_loss: 7339.0654 - val_mae: 7339.0654\n",
      "Epoch 22/100\n",
      "32/32 [==============================] - 0s 852us/step - loss: 7189.6055 - mae: 7189.6055 - val_loss: 7334.1665 - val_mae: 7334.1665\n",
      "Epoch 23/100\n",
      "32/32 [==============================] - 0s 860us/step - loss: 7184.9595 - mae: 7184.9595 - val_loss: 7329.7163 - val_mae: 7329.7163\n",
      "Epoch 24/100\n",
      "32/32 [==============================] - 0s 863us/step - loss: 7181.4380 - mae: 7181.4380 - val_loss: 7325.6411 - val_mae: 7325.6411\n",
      "Epoch 25/100\n",
      "32/32 [==============================] - 0s 850us/step - loss: 7177.0718 - mae: 7177.0718 - val_loss: 7320.3013 - val_mae: 7320.3013\n",
      "Epoch 26/100\n",
      "32/32 [==============================] - 0s 866us/step - loss: 7172.3438 - mae: 7172.3438 - val_loss: 7316.7080 - val_mae: 7316.7080\n",
      "Epoch 27/100\n",
      "32/32 [==============================] - 0s 850us/step - loss: 7168.0000 - mae: 7168.0000 - val_loss: 7311.2300 - val_mae: 7311.2300\n",
      "Epoch 28/100\n",
      "32/32 [==============================] - 0s 836us/step - loss: 7163.8682 - mae: 7163.8682 - val_loss: 7306.8447 - val_mae: 7306.8447\n",
      "Epoch 29/100\n",
      "32/32 [==============================] - 0s 908us/step - loss: 7159.2808 - mae: 7159.2808 - val_loss: 7301.3174 - val_mae: 7301.3174\n",
      "Epoch 30/100\n",
      "32/32 [==============================] - 0s 859us/step - loss: 7155.1348 - mae: 7155.1348 - val_loss: 7295.0493 - val_mae: 7295.0493\n",
      "Epoch 31/100\n",
      "32/32 [==============================] - 0s 843us/step - loss: 7150.5693 - mae: 7150.5693 - val_loss: 7291.4424 - val_mae: 7291.4424\n",
      "Epoch 32/100\n",
      "32/32 [==============================] - 0s 851us/step - loss: 7146.1377 - mae: 7146.1377 - val_loss: 7285.5791 - val_mae: 7285.5791\n",
      "Epoch 33/100\n",
      "32/32 [==============================] - 0s 864us/step - loss: 7141.8647 - mae: 7141.8647 - val_loss: 7282.2202 - val_mae: 7282.2202\n",
      "Epoch 34/100\n",
      "32/32 [==============================] - 0s 880us/step - loss: 7137.4922 - mae: 7137.4922 - val_loss: 7275.7910 - val_mae: 7275.7910\n",
      "Epoch 35/100\n",
      "32/32 [==============================] - 0s 834us/step - loss: 7132.5435 - mae: 7132.5435 - val_loss: 7270.1733 - val_mae: 7270.1733\n",
      "Epoch 36/100\n",
      "32/32 [==============================] - 0s 855us/step - loss: 7128.0200 - mae: 7128.0200 - val_loss: 7265.0806 - val_mae: 7265.0806\n",
      "Epoch 37/100\n",
      "32/32 [==============================] - 0s 904us/step - loss: 7123.8047 - mae: 7123.8047 - val_loss: 7260.1836 - val_mae: 7260.1836\n",
      "Epoch 38/100\n",
      "32/32 [==============================] - 0s 840us/step - loss: 7119.4658 - mae: 7119.4658 - val_loss: 7255.6953 - val_mae: 7255.6953\n",
      "Epoch 39/100\n",
      "32/32 [==============================] - 0s 857us/step - loss: 7114.7344 - mae: 7114.7344 - val_loss: 7250.4888 - val_mae: 7250.4888\n",
      "Epoch 40/100\n",
      "32/32 [==============================] - 0s 864us/step - loss: 7110.6562 - mae: 7110.6562 - val_loss: 7245.6343 - val_mae: 7245.6343\n",
      "Epoch 41/100\n",
      "32/32 [==============================] - 0s 849us/step - loss: 7105.7778 - mae: 7105.7778 - val_loss: 7240.3740 - val_mae: 7240.3740\n",
      "Epoch 42/100\n",
      "32/32 [==============================] - 0s 845us/step - loss: 7101.6709 - mae: 7101.6709 - val_loss: 7235.2349 - val_mae: 7235.2349\n",
      "Epoch 43/100\n",
      "32/32 [==============================] - 0s 854us/step - loss: 7096.3501 - mae: 7096.3501 - val_loss: 7229.5791 - val_mae: 7229.5791\n",
      "Epoch 44/100\n",
      "32/32 [==============================] - 0s 2ms/step - loss: 7092.5386 - mae: 7092.5386 - val_loss: 7224.7207 - val_mae: 7224.7207\n",
      "Epoch 45/100\n",
      "32/32 [==============================] - 0s 2ms/step - loss: 7087.8711 - mae: 7087.8711 - val_loss: 7219.8442 - val_mae: 7219.8442\n",
      "Epoch 46/100\n",
      "32/32 [==============================] - 0s 1ms/step - loss: 7082.9111 - mae: 7082.9111 - val_loss: 7214.7964 - val_mae: 7214.7964\n",
      "Epoch 47/100\n",
      "32/32 [==============================] - 0s 970us/step - loss: 7077.8613 - mae: 7077.8613 - val_loss: 7208.9365 - val_mae: 7208.9365\n",
      "Epoch 48/100\n",
      "32/32 [==============================] - 0s 949us/step - loss: 7073.6240 - mae: 7073.6240 - val_loss: 7203.3560 - val_mae: 7203.3560\n",
      "Epoch 49/100\n",
      "32/32 [==============================] - 0s 939us/step - loss: 7069.1631 - mae: 7069.1631 - val_loss: 7198.7598 - val_mae: 7198.7598\n",
      "Epoch 50/100\n",
      "32/32 [==============================] - 0s 944us/step - loss: 7063.6704 - mae: 7063.6704 - val_loss: 7194.0903 - val_mae: 7194.0903\n",
      "Epoch 51/100\n",
      "32/32 [==============================] - 0s 1ms/step - loss: 7059.1475 - mae: 7059.1475 - val_loss: 7188.5791 - val_mae: 7188.5791\n",
      "Epoch 52/100\n",
      "32/32 [==============================] - 0s 1ms/step - loss: 7054.9346 - mae: 7054.9346 - val_loss: 7182.8267 - val_mae: 7182.8267\n",
      "Epoch 53/100\n",
      "32/32 [==============================] - 0s 993us/step - loss: 7050.0981 - mae: 7050.0981 - val_loss: 7178.7627 - val_mae: 7178.7627\n",
      "Epoch 54/100\n",
      "32/32 [==============================] - 0s 940us/step - loss: 7046.0923 - mae: 7046.0923 - val_loss: 7172.7964 - val_mae: 7172.7964\n",
      "Epoch 55/100\n",
      "32/32 [==============================] - 0s 929us/step - loss: 7040.5850 - mae: 7040.5850 - val_loss: 7169.0874 - val_mae: 7169.0874\n",
      "Epoch 56/100\n",
      "32/32 [==============================] - 0s 890us/step - loss: 7035.7446 - mae: 7035.7446 - val_loss: 7162.7510 - val_mae: 7162.7510\n",
      "Epoch 57/100\n",
      "32/32 [==============================] - 0s 908us/step - loss: 7030.8262 - mae: 7030.8262 - val_loss: 7157.5254 - val_mae: 7157.5254\n",
      "Epoch 58/100\n",
      "32/32 [==============================] - 0s 923us/step - loss: 7026.2017 - mae: 7026.2017 - val_loss: 7152.5112 - val_mae: 7152.5112\n",
      "Epoch 59/100\n",
      "32/32 [==============================] - 0s 920us/step - loss: 7021.9834 - mae: 7021.9834 - val_loss: 7147.3491 - val_mae: 7147.3491\n",
      "Epoch 60/100\n",
      "32/32 [==============================] - 0s 913us/step - loss: 7016.8042 - mae: 7016.8042 - val_loss: 7141.3120 - val_mae: 7141.3120\n",
      "Epoch 61/100\n",
      "32/32 [==============================] - 0s 881us/step - loss: 7012.0000 - mae: 7012.0000 - val_loss: 7136.2954 - val_mae: 7136.2954\n",
      "Epoch 62/100\n",
      "32/32 [==============================] - 0s 1ms/step - loss: 7007.1060 - mae: 7007.1060 - val_loss: 7131.4531 - val_mae: 7131.4531\n",
      "Epoch 63/100\n",
      "32/32 [==============================] - 0s 898us/step - loss: 7002.4521 - mae: 7002.4521 - val_loss: 7126.0171 - val_mae: 7126.0171\n",
      "Epoch 64/100\n",
      "32/32 [==============================] - 0s 887us/step - loss: 6997.7700 - mae: 6997.7700 - val_loss: 7120.8052 - val_mae: 7120.8052\n",
      "Epoch 65/100\n",
      "32/32 [==============================] - 0s 902us/step - loss: 6992.7183 - mae: 6992.7183 - val_loss: 7115.6016 - val_mae: 7115.6016\n",
      "Epoch 66/100\n",
      "32/32 [==============================] - 0s 938us/step - loss: 6987.7578 - mae: 6987.7578 - val_loss: 7110.2896 - val_mae: 7110.2896\n",
      "Epoch 67/100\n",
      "32/32 [==============================] - 0s 887us/step - loss: 6983.2637 - mae: 6983.2637 - val_loss: 7104.7305 - val_mae: 7104.7305\n",
      "Epoch 68/100\n",
      "32/32 [==============================] - 0s 876us/step - loss: 6978.0444 - mae: 6978.0444 - val_loss: 7099.2246 - val_mae: 7099.2246\n",
      "Epoch 69/100\n",
      "32/32 [==============================] - 0s 920us/step - loss: 6973.6328 - mae: 6973.6328 - val_loss: 7093.7446 - val_mae: 7093.7446\n",
      "Epoch 70/100\n",
      "32/32 [==============================] - 0s 954us/step - loss: 6968.2217 - mae: 6968.2217 - val_loss: 7088.5117 - val_mae: 7088.5117\n",
      "Epoch 71/100\n",
      "32/32 [==============================] - 0s 1ms/step - loss: 6963.3608 - mae: 6963.3608 - val_loss: 7083.3882 - val_mae: 7083.3882\n",
      "Epoch 72/100\n",
      "32/32 [==============================] - 0s 2ms/step - loss: 6957.9443 - mae: 6957.9443 - val_loss: 7077.6763 - val_mae: 7077.6763\n",
      "Epoch 73/100\n",
      "32/32 [==============================] - 0s 922us/step - loss: 6953.1802 - mae: 6953.1802 - val_loss: 7071.7329 - val_mae: 7071.7329\n",
      "Epoch 74/100\n",
      "32/32 [==============================] - 0s 890us/step - loss: 6948.3369 - mae: 6948.3369 - val_loss: 7066.0308 - val_mae: 7066.0308\n",
      "Epoch 75/100\n",
      "32/32 [==============================] - 0s 871us/step - loss: 6943.1660 - mae: 6943.1660 - val_loss: 7060.8477 - val_mae: 7060.8477\n",
      "Epoch 76/100\n",
      "32/32 [==============================] - 0s 857us/step - loss: 6938.3740 - mae: 6938.3740 - val_loss: 7056.0044 - val_mae: 7056.0044\n",
      "Epoch 77/100\n",
      "32/32 [==============================] - 0s 889us/step - loss: 6932.4277 - mae: 6932.4277 - val_loss: 7050.1523 - val_mae: 7050.1523\n",
      "Epoch 78/100\n",
      "32/32 [==============================] - 0s 947us/step - loss: 6926.9292 - mae: 6926.9292 - val_loss: 7043.9746 - val_mae: 7043.9746\n",
      "Epoch 79/100\n",
      "32/32 [==============================] - 0s 899us/step - loss: 6922.0215 - mae: 6922.0215 - val_loss: 7038.1016 - val_mae: 7038.1016\n",
      "Epoch 80/100\n",
      "32/32 [==============================] - 0s 992us/step - loss: 6916.7720 - mae: 6916.7720 - val_loss: 7032.3931 - val_mae: 7032.3931\n",
      "Epoch 81/100\n",
      "32/32 [==============================] - 0s 891us/step - loss: 6911.4976 - mae: 6911.4976 - val_loss: 7026.6909 - val_mae: 7026.6909\n",
      "Epoch 82/100\n",
      "32/32 [==============================] - 0s 871us/step - loss: 6907.3438 - mae: 6907.3438 - val_loss: 7021.3052 - val_mae: 7021.3052\n",
      "Epoch 83/100\n",
      "32/32 [==============================] - 0s 887us/step - loss: 6901.3232 - mae: 6901.3232 - val_loss: 7015.4785 - val_mae: 7015.4785\n",
      "Epoch 84/100\n",
      "32/32 [==============================] - 0s 918us/step - loss: 6896.4263 - mae: 6896.4263 - val_loss: 7010.2114 - val_mae: 7010.2114\n",
      "Epoch 85/100\n",
      "32/32 [==============================] - 0s 903us/step - loss: 6890.3711 - mae: 6890.3711 - val_loss: 7004.4805 - val_mae: 7004.4805\n",
      "Epoch 86/100\n",
      "32/32 [==============================] - 0s 859us/step - loss: 6884.7031 - mae: 6884.7031 - val_loss: 6999.1572 - val_mae: 6999.1572\n",
      "Epoch 87/100\n",
      "32/32 [==============================] - 0s 924us/step - loss: 6879.6177 - mae: 6879.6177 - val_loss: 6993.3345 - val_mae: 6993.3345\n",
      "Epoch 88/100\n",
      "32/32 [==============================] - 0s 912us/step - loss: 6874.5444 - mae: 6874.5444 - val_loss: 6987.4067 - val_mae: 6987.4067\n",
      "Epoch 89/100\n",
      "32/32 [==============================] - 0s 890us/step - loss: 6869.3921 - mae: 6869.3921 - val_loss: 6982.1289 - val_mae: 6982.1289\n",
      "Epoch 90/100\n",
      "32/32 [==============================] - 0s 895us/step - loss: 6863.2671 - mae: 6863.2671 - val_loss: 6976.0293 - val_mae: 6976.0293\n",
      "Epoch 91/100\n",
      "32/32 [==============================] - 0s 893us/step - loss: 6858.2085 - mae: 6858.2085 - val_loss: 6970.3589 - val_mae: 6970.3589\n",
      "Epoch 92/100\n",
      "32/32 [==============================] - 0s 923us/step - loss: 6852.6206 - mae: 6852.6206 - val_loss: 6964.5972 - val_mae: 6964.5972\n",
      "Epoch 93/100\n",
      "32/32 [==============================] - 0s 976us/step - loss: 6847.2905 - mae: 6847.2905 - val_loss: 6958.5396 - val_mae: 6958.5396\n",
      "Epoch 94/100\n",
      "32/32 [==============================] - 0s 920us/step - loss: 6841.8164 - mae: 6841.8164 - val_loss: 6952.7207 - val_mae: 6952.7207\n",
      "Epoch 95/100\n",
      "32/32 [==============================] - 0s 917us/step - loss: 6836.5981 - mae: 6836.5981 - val_loss: 6946.8442 - val_mae: 6946.8442\n",
      "Epoch 96/100\n",
      "32/32 [==============================] - 0s 910us/step - loss: 6830.8618 - mae: 6830.8618 - val_loss: 6940.9014 - val_mae: 6940.9014\n",
      "Epoch 97/100\n",
      "32/32 [==============================] - 0s 979us/step - loss: 6825.8296 - mae: 6825.8296 - val_loss: 6934.8770 - val_mae: 6934.8770\n",
      "Epoch 98/100\n",
      "32/32 [==============================] - 0s 894us/step - loss: 6819.6733 - mae: 6819.6733 - val_loss: 6929.1665 - val_mae: 6929.1665\n",
      "Epoch 99/100\n",
      "32/32 [==============================] - 0s 912us/step - loss: 6814.2539 - mae: 6814.2539 - val_loss: 6923.2651 - val_mae: 6923.2651\n",
      "Epoch 100/100\n",
      "32/32 [==============================] - 0s 922us/step - loss: 6808.7681 - mae: 6808.7681 - val_loss: 6917.0420 - val_mae: 6917.0420\n"
     ]
    }
   ],
   "source": [
    "history = model_4.fit(X_train, y_train,\n",
    "                      validation_data = (X_test, y_test),\n",
    "                        epochs=100,\n",
    "                        )"
   ]
  },
  {
   "cell_type": "code",
   "execution_count": 111,
   "metadata": {},
   "outputs": [
    {
     "data": {
      "image/png": "[encoded data removed]",
      "text/plain": [
       "<Figure size 640x480 with 1 Axes>"
      ]
     },
     "metadata": {},
     "output_type": "display_data"
    },
    {
     "data": {
      "image/png": "[encoded data removed]",
      "text/plain": [
       "<Figure size 640x480 with 1 Axes>"
      ]
     },
     "metadata": {},
     "output_type": "display_data"
    }
   ],
   "source": [
    "plot_history(history)"
   ]
  },
  {
   "cell_type": "code",
   "execution_count": 135,
   "metadata": {},
   "outputs": [
    {
     "name": "stdout",
     "output_type": "stream",
     "text": [
      "Model: \"sequential_27\"\n",
      "_________________________________________________________________\n",
      " Layer (type)                Output Shape              Param #   \n",
      "=================================================================\n",
      " dense_60 (Dense)            (None, 100)               1200      \n",
      "                                                                 \n",
      " dense_61 (Dense)            (None, 10)                1010      \n",
      "                                                                 \n",
      " dense_62 (Dense)            (None, 1)                 11        \n",
      "                                                                 \n",
      "=================================================================\n",
      "Total params: 2,221\n",
      "Trainable params: 2,221\n",
      "Non-trainable params: 0\n",
      "_________________________________________________________________\n"
     ]
    }
   ],
   "source": [
    "model_5 = Sequential()\n",
    "\n",
    "model_5.add(Dense(100, input_dim=11, activation = 'relu'))\n",
    "model_5.add(Dense(10, activation = 'relu'))\n",
    "\n",
    "\n",
    "model_5.add(Dense(1, activation='linear'))\n",
    "model_5.summary()"
   ]
  },
  {
   "cell_type": "code",
   "execution_count": 136,
   "metadata": {},
   "outputs": [],
   "source": [
    "model_5.compile(loss='mae', optimizer='adam', metrics='mae')"
   ]
  },
  {
   "cell_type": "code",
   "execution_count": 137,
   "metadata": {},
   "outputs": [
    {
     "name": "stdout",
     "output_type": "stream",
     "text": [
      "Epoch 1/200\n",
      "32/32 [==============================] - 0s 3ms/step - loss: 13262.2246 - mae: 13262.2246 - val_loss: 13264.5029 - val_mae: 13264.5029\n",
      "Epoch 2/200\n",
      "32/32 [==============================] - 0s 890us/step - loss: 13242.9365 - mae: 13242.9365 - val_loss: 13234.3447 - val_mae: 13234.3447\n",
      "Epoch 3/200\n",
      "32/32 [==============================] - 0s 886us/step - loss: 13194.0938 - mae: 13194.0938 - val_loss: 13157.6123 - val_mae: 13157.6123\n",
      "Epoch 4/200\n",
      "32/32 [==============================] - 0s 845us/step - loss: 13080.2207 - mae: 13080.2207 - val_loss: 12993.0898 - val_mae: 12993.0898\n",
      "Epoch 5/200\n",
      "32/32 [==============================] - 0s 895us/step - loss: 12857.8008 - mae: 12857.8008 - val_loss: 12696.1670 - val_mae: 12696.1670\n",
      "Epoch 6/200\n",
      "32/32 [==============================] - 0s 872us/step - loss: 12482.3740 - mae: 12482.3740 - val_loss: 12219.7217 - val_mae: 12219.7217\n",
      "Epoch 7/200\n",
      "32/32 [==============================] - 0s 843us/step - loss: 11907.5049 - mae: 11907.5049 - val_loss: 11523.6133 - val_mae: 11523.6133\n",
      "Epoch 8/200\n",
      "32/32 [==============================] - 0s 861us/step - loss: 11113.7158 - mae: 11113.7158 - val_loss: 10623.5645 - val_mae: 10623.5645\n",
      "Epoch 9/200\n",
      "32/32 [==============================] - 0s 860us/step - loss: 10167.2773 - mae: 10167.2773 - val_loss: 9645.2266 - val_mae: 9645.2266\n",
      "Epoch 10/200\n",
      "32/32 [==============================] - 0s 851us/step - loss: 9187.7617 - mae: 9187.7617 - val_loss: 8724.2305 - val_mae: 8724.2305\n",
      "Epoch 11/200\n",
      "32/32 [==============================] - 0s 841us/step - loss: 8323.1025 - mae: 8323.1025 - val_loss: 8093.6523 - val_mae: 8093.6523\n",
      "Epoch 12/200\n",
      "32/32 [==============================] - 0s 904us/step - loss: 7763.4590 - mae: 7763.4590 - val_loss: 7767.7739 - val_mae: 7767.7739\n",
      "Epoch 13/200\n",
      "32/32 [==============================] - 0s 849us/step - loss: 7523.0933 - mae: 7523.0933 - val_loss: 7657.4150 - val_mae: 7657.4150\n",
      "Epoch 14/200\n",
      "32/32 [==============================] - 0s 842us/step - loss: 7461.7490 - mae: 7461.7490 - val_loss: 7621.0254 - val_mae: 7621.0254\n",
      "Epoch 15/200\n",
      "32/32 [==============================] - 0s 853us/step - loss: 7438.3052 - mae: 7438.3052 - val_loss: 7602.8784 - val_mae: 7602.8784\n",
      "Epoch 16/200\n",
      "32/32 [==============================] - 0s 858us/step - loss: 7424.1104 - mae: 7424.1104 - val_loss: 7586.9731 - val_mae: 7586.9731\n",
      "Epoch 17/200\n",
      "32/32 [==============================] - 0s 853us/step - loss: 7412.7158 - mae: 7412.7158 - val_loss: 7570.4673 - val_mae: 7570.4673\n",
      "Epoch 18/200\n",
      "32/32 [==============================] - 0s 1ms/step - loss: 7399.5977 - mae: 7399.5977 - val_loss: 7556.8506 - val_mae: 7556.8506\n",
      "Epoch 19/200\n",
      "32/32 [==============================] - 0s 1ms/step - loss: 7384.6782 - mae: 7384.6782 - val_loss: 7543.8203 - val_mae: 7543.8203\n",
      "Epoch 20/200\n",
      "32/32 [==============================] - 0s 866us/step - loss: 7370.6338 - mae: 7370.6338 - val_loss: 7528.4380 - val_mae: 7528.4380\n",
      "Epoch 21/200\n",
      "32/32 [==============================] - 0s 848us/step - loss: 7356.2271 - mae: 7356.2271 - val_loss: 7512.2007 - val_mae: 7512.2007\n",
      "Epoch 22/200\n",
      "32/32 [==============================] - 0s 958us/step - loss: 7343.3218 - mae: 7343.3218 - val_loss: 7495.1499 - val_mae: 7495.1499\n",
      "Epoch 23/200\n",
      "32/32 [==============================] - 0s 1ms/step - loss: 7327.7642 - mae: 7327.7642 - val_loss: 7480.3618 - val_mae: 7480.3618\n",
      "Epoch 24/200\n",
      "32/32 [==============================] - 0s 907us/step - loss: 7314.6636 - mae: 7314.6636 - val_loss: 7463.5640 - val_mae: 7463.5640\n",
      "Epoch 25/200\n",
      "32/32 [==============================] - 0s 867us/step - loss: 7299.9712 - mae: 7299.9712 - val_loss: 7448.4277 - val_mae: 7448.4277\n",
      "Epoch 26/200\n",
      "32/32 [==============================] - 0s 836us/step - loss: 7283.3350 - mae: 7283.3350 - val_loss: 7432.1509 - val_mae: 7432.1509\n",
      "Epoch 27/200\n",
      "32/32 [==============================] - 0s 864us/step - loss: 7268.4478 - mae: 7268.4478 - val_loss: 7414.6538 - val_mae: 7414.6538\n",
      "Epoch 28/200\n",
      "32/32 [==============================] - 0s 863us/step - loss: 7252.9521 - mae: 7252.9521 - val_loss: 7396.0396 - val_mae: 7396.0396\n",
      "Epoch 29/200\n",
      "32/32 [==============================] - 0s 877us/step - loss: 7238.0952 - mae: 7238.0952 - val_loss: 7379.3066 - val_mae: 7379.3066\n",
      "Epoch 30/200\n",
      "32/32 [==============================] - 0s 852us/step - loss: 7222.3828 - mae: 7222.3828 - val_loss: 7361.5635 - val_mae: 7361.5635\n",
      "Epoch 31/200\n",
      "32/32 [==============================] - 0s 945us/step - loss: 7206.8013 - mae: 7206.8013 - val_loss: 7346.9702 - val_mae: 7346.9702\n",
      "Epoch 32/200\n",
      "32/32 [==============================] - 0s 1ms/step - loss: 7189.6792 - mae: 7189.6792 - val_loss: 7324.8066 - val_mae: 7324.8066\n",
      "Epoch 33/200\n",
      "32/32 [==============================] - 0s 873us/step - loss: 7173.5317 - mae: 7173.5317 - val_loss: 7310.3926 - val_mae: 7310.3926\n",
      "Epoch 34/200\n",
      "32/32 [==============================] - 0s 848us/step - loss: 7157.7515 - mae: 7157.7515 - val_loss: 7288.6270 - val_mae: 7288.6270\n",
      "Epoch 35/200\n",
      "32/32 [==============================] - 0s 825us/step - loss: 7139.2041 - mae: 7139.2041 - val_loss: 7268.6851 - val_mae: 7268.6851\n",
      "Epoch 36/200\n",
      "32/32 [==============================] - 0s 840us/step - loss: 7121.4790 - mae: 7121.4790 - val_loss: 7250.3770 - val_mae: 7250.3770\n",
      "Epoch 37/200\n",
      "32/32 [==============================] - 0s 818us/step - loss: 7104.9707 - mae: 7104.9707 - val_loss: 7231.2856 - val_mae: 7231.2856\n",
      "Epoch 38/200\n",
      "32/32 [==============================] - 0s 820us/step - loss: 7087.6021 - mae: 7087.6021 - val_loss: 7211.8345 - val_mae: 7211.8345\n",
      "Epoch 39/200\n",
      "32/32 [==============================] - 0s 893us/step - loss: 7069.0171 - mae: 7069.0171 - val_loss: 7191.3374 - val_mae: 7191.3374\n",
      "Epoch 40/200\n",
      "32/32 [==============================] - 0s 2ms/step - loss: 7052.4087 - mae: 7052.4087 - val_loss: 7170.6543 - val_mae: 7170.6543\n",
      "Epoch 41/200\n",
      "32/32 [==============================] - 0s 875us/step - loss: 7032.2808 - mae: 7032.2808 - val_loss: 7149.7583 - val_mae: 7149.7583\n",
      "Epoch 42/200\n",
      "32/32 [==============================] - 0s 925us/step - loss: 7014.6519 - mae: 7014.6519 - val_loss: 7128.8403 - val_mae: 7128.8403\n",
      "Epoch 43/200\n",
      "32/32 [==============================] - 0s 852us/step - loss: 6992.3618 - mae: 6992.3618 - val_loss: 7106.8359 - val_mae: 7106.8359\n",
      "Epoch 44/200\n",
      "32/32 [==============================] - 0s 846us/step - loss: 6976.5298 - mae: 6976.5298 - val_loss: 7084.9224 - val_mae: 7084.9224\n",
      "Epoch 45/200\n",
      "32/32 [==============================] - 0s 873us/step - loss: 6955.7349 - mae: 6955.7349 - val_loss: 7063.7217 - val_mae: 7063.7217\n",
      "Epoch 46/200\n",
      "32/32 [==============================] - 0s 865us/step - loss: 6934.0625 - mae: 6934.0625 - val_loss: 7041.0342 - val_mae: 7041.0342\n",
      "Epoch 47/200\n",
      "32/32 [==============================] - 0s 829us/step - loss: 6912.6230 - mae: 6912.6230 - val_loss: 7018.1987 - val_mae: 7018.1987\n",
      "Epoch 48/200\n",
      "32/32 [==============================] - 0s 854us/step - loss: 6892.5474 - mae: 6892.5474 - val_loss: 6995.6826 - val_mae: 6995.6826\n",
      "Epoch 49/200\n",
      "32/32 [==============================] - 0s 852us/step - loss: 6873.4448 - mae: 6873.4448 - val_loss: 6973.8350 - val_mae: 6973.8350\n",
      "Epoch 50/200\n",
      "32/32 [==============================] - 0s 846us/step - loss: 6849.5039 - mae: 6849.5039 - val_loss: 6951.4990 - val_mae: 6951.4990\n",
      "Epoch 51/200\n",
      "32/32 [==============================] - 0s 858us/step - loss: 6828.4248 - mae: 6828.4248 - val_loss: 6928.4521 - val_mae: 6928.4521\n",
      "Epoch 52/200\n",
      "32/32 [==============================] - 0s 866us/step - loss: 6808.6616 - mae: 6808.6616 - val_loss: 6904.5894 - val_mae: 6904.5894\n",
      "Epoch 53/200\n",
      "32/32 [==============================] - 0s 880us/step - loss: 6785.2993 - mae: 6785.2993 - val_loss: 6881.4883 - val_mae: 6881.4883\n",
      "Epoch 54/200\n",
      "32/32 [==============================] - 0s 889us/step - loss: 6765.1919 - mae: 6765.1919 - val_loss: 6857.0137 - val_mae: 6857.0137\n",
      "Epoch 55/200\n",
      "32/32 [==============================] - 0s 860us/step - loss: 6741.0767 - mae: 6741.0767 - val_loss: 6835.1357 - val_mae: 6835.1357\n",
      "Epoch 56/200\n",
      "32/32 [==============================] - 0s 870us/step - loss: 6717.0698 - mae: 6717.0698 - val_loss: 6806.0239 - val_mae: 6806.0239\n",
      "Epoch 57/200\n",
      "32/32 [==============================] - 0s 856us/step - loss: 6692.8281 - mae: 6692.8281 - val_loss: 6781.0654 - val_mae: 6781.0654\n",
      "Epoch 58/200\n",
      "32/32 [==============================] - 0s 845us/step - loss: 6670.9453 - mae: 6670.9453 - val_loss: 6754.1924 - val_mae: 6754.1924\n",
      "Epoch 59/200\n",
      "32/32 [==============================] - 0s 862us/step - loss: 6647.9204 - mae: 6647.9204 - val_loss: 6727.6230 - val_mae: 6727.6230\n",
      "Epoch 60/200\n",
      "32/32 [==============================] - 0s 857us/step - loss: 6625.1489 - mae: 6625.1489 - val_loss: 6702.2754 - val_mae: 6702.2754\n",
      "Epoch 61/200\n",
      "32/32 [==============================] - 0s 837us/step - loss: 6602.3750 - mae: 6602.3750 - val_loss: 6677.1465 - val_mae: 6677.1465\n",
      "Epoch 62/200\n",
      "32/32 [==============================] - 0s 874us/step - loss: 6580.4048 - mae: 6580.4048 - val_loss: 6650.7158 - val_mae: 6650.7158\n",
      "Epoch 63/200\n",
      "32/32 [==============================] - 0s 868us/step - loss: 6558.2881 - mae: 6558.2881 - val_loss: 6627.1992 - val_mae: 6627.1992\n",
      "Epoch 64/200\n",
      "32/32 [==============================] - 0s 865us/step - loss: 6540.2827 - mae: 6540.2827 - val_loss: 6602.7798 - val_mae: 6602.7798\n",
      "Epoch 65/200\n",
      "32/32 [==============================] - 0s 858us/step - loss: 6520.5830 - mae: 6520.5830 - val_loss: 6580.6387 - val_mae: 6580.6387\n",
      "Epoch 66/200\n",
      "32/32 [==============================] - 0s 847us/step - loss: 6501.9004 - mae: 6501.9004 - val_loss: 6562.6782 - val_mae: 6562.6782\n",
      "Epoch 67/200\n",
      "32/32 [==============================] - 0s 856us/step - loss: 6485.2856 - mae: 6485.2856 - val_loss: 6544.1470 - val_mae: 6544.1470\n",
      "Epoch 68/200\n",
      "32/32 [==============================] - 0s 1ms/step - loss: 6469.7202 - mae: 6469.7202 - val_loss: 6527.8730 - val_mae: 6527.8730\n",
      "Epoch 69/200\n",
      "32/32 [==============================] - 0s 1ms/step - loss: 6457.8950 - mae: 6457.8950 - val_loss: 6513.4829 - val_mae: 6513.4829\n",
      "Epoch 70/200\n",
      "32/32 [==============================] - 0s 839us/step - loss: 6447.4258 - mae: 6447.4258 - val_loss: 6501.8345 - val_mae: 6501.8345\n",
      "Epoch 71/200\n",
      "32/32 [==============================] - 0s 825us/step - loss: 6435.8540 - mae: 6435.8540 - val_loss: 6490.1567 - val_mae: 6490.1567\n",
      "Epoch 72/200\n",
      "32/32 [==============================] - 0s 944us/step - loss: 6426.9844 - mae: 6426.9844 - val_loss: 6479.6934 - val_mae: 6479.6934\n",
      "Epoch 73/200\n",
      "32/32 [==============================] - 0s 853us/step - loss: 6416.8892 - mae: 6416.8892 - val_loss: 6469.4312 - val_mae: 6469.4312\n",
      "Epoch 74/200\n",
      "32/32 [==============================] - 0s 857us/step - loss: 6409.0630 - mae: 6409.0630 - val_loss: 6461.5010 - val_mae: 6461.5010\n",
      "Epoch 75/200\n",
      "32/32 [==============================] - 0s 831us/step - loss: 6399.5259 - mae: 6399.5259 - val_loss: 6450.6074 - val_mae: 6450.6074\n",
      "Epoch 76/200\n",
      "32/32 [==============================] - 0s 831us/step - loss: 6394.2432 - mae: 6394.2432 - val_loss: 6442.4463 - val_mae: 6442.4463\n",
      "Epoch 77/200\n",
      "32/32 [==============================] - 0s 829us/step - loss: 6385.1567 - mae: 6385.1567 - val_loss: 6433.5068 - val_mae: 6433.5068\n",
      "Epoch 78/200\n",
      "32/32 [==============================] - 0s 830us/step - loss: 6375.6572 - mae: 6375.6572 - val_loss: 6425.0806 - val_mae: 6425.0806\n",
      "Epoch 79/200\n",
      "32/32 [==============================] - 0s 853us/step - loss: 6366.4028 - mae: 6366.4028 - val_loss: 6416.0874 - val_mae: 6416.0874\n",
      "Epoch 80/200\n",
      "32/32 [==============================] - 0s 844us/step - loss: 6359.0713 - mae: 6359.0713 - val_loss: 6407.6553 - val_mae: 6407.6553\n",
      "Epoch 81/200\n",
      "32/32 [==============================] - 0s 833us/step - loss: 6351.1367 - mae: 6351.1367 - val_loss: 6399.7134 - val_mae: 6399.7134\n",
      "Epoch 82/200\n",
      "32/32 [==============================] - 0s 844us/step - loss: 6344.9731 - mae: 6344.9731 - val_loss: 6399.1733 - val_mae: 6399.1733\n",
      "Epoch 83/200\n",
      "32/32 [==============================] - 0s 843us/step - loss: 6335.9336 - mae: 6335.9336 - val_loss: 6383.6060 - val_mae: 6383.6060\n",
      "Epoch 84/200\n",
      "32/32 [==============================] - 0s 831us/step - loss: 6331.0732 - mae: 6331.0732 - val_loss: 6376.7129 - val_mae: 6376.7129\n",
      "Epoch 85/200\n",
      "32/32 [==============================] - 0s 823us/step - loss: 6318.8311 - mae: 6318.8311 - val_loss: 6367.0801 - val_mae: 6367.0801\n",
      "Epoch 86/200\n",
      "32/32 [==============================] - 0s 837us/step - loss: 6309.5718 - mae: 6309.5718 - val_loss: 6359.3535 - val_mae: 6359.3535\n",
      "Epoch 87/200\n",
      "32/32 [==============================] - 0s 826us/step - loss: 6301.2852 - mae: 6301.2852 - val_loss: 6352.3574 - val_mae: 6352.3574\n",
      "Epoch 88/200\n",
      "32/32 [==============================] - 0s 836us/step - loss: 6293.1782 - mae: 6293.1782 - val_loss: 6342.5337 - val_mae: 6342.5337\n",
      "Epoch 89/200\n",
      "32/32 [==============================] - 0s 841us/step - loss: 6285.8228 - mae: 6285.8228 - val_loss: 6338.9614 - val_mae: 6338.9614\n",
      "Epoch 90/200\n",
      "32/32 [==============================] - 0s 847us/step - loss: 6283.5620 - mae: 6283.5620 - val_loss: 6326.1523 - val_mae: 6326.1523\n",
      "Epoch 91/200\n",
      "32/32 [==============================] - 0s 877us/step - loss: 6267.0962 - mae: 6267.0962 - val_loss: 6316.7388 - val_mae: 6316.7388\n",
      "Epoch 92/200\n",
      "32/32 [==============================] - 0s 865us/step - loss: 6258.8970 - mae: 6258.8970 - val_loss: 6307.9141 - val_mae: 6307.9141\n",
      "Epoch 93/200\n",
      "32/32 [==============================] - 0s 842us/step - loss: 6249.1665 - mae: 6249.1665 - val_loss: 6298.9253 - val_mae: 6298.9253\n",
      "Epoch 94/200\n",
      "32/32 [==============================] - 0s 845us/step - loss: 6242.7690 - mae: 6242.7690 - val_loss: 6290.0859 - val_mae: 6290.0859\n",
      "Epoch 95/200\n",
      "32/32 [==============================] - 0s 865us/step - loss: 6233.3882 - mae: 6233.3882 - val_loss: 6284.7002 - val_mae: 6284.7002\n",
      "Epoch 96/200\n",
      "32/32 [==============================] - 0s 850us/step - loss: 6223.0732 - mae: 6223.0732 - val_loss: 6271.8037 - val_mae: 6271.8037\n",
      "Epoch 97/200\n",
      "32/32 [==============================] - 0s 833us/step - loss: 6210.9697 - mae: 6210.9697 - val_loss: 6262.7476 - val_mae: 6262.7476\n",
      "Epoch 98/200\n",
      "32/32 [==============================] - 0s 872us/step - loss: 6200.2627 - mae: 6200.2627 - val_loss: 6252.9043 - val_mae: 6252.9043\n",
      "Epoch 99/200\n",
      "32/32 [==============================] - 0s 855us/step - loss: 6195.4487 - mae: 6195.4487 - val_loss: 6244.5405 - val_mae: 6244.5405\n",
      "Epoch 100/200\n",
      "32/32 [==============================] - 0s 2ms/step - loss: 6185.2134 - mae: 6185.2134 - val_loss: 6236.2744 - val_mae: 6236.2744\n",
      "Epoch 101/200\n",
      "32/32 [==============================] - 0s 883us/step - loss: 6171.0068 - mae: 6171.0068 - val_loss: 6224.4517 - val_mae: 6224.4517\n",
      "Epoch 102/200\n",
      "32/32 [==============================] - 0s 845us/step - loss: 6162.2056 - mae: 6162.2056 - val_loss: 6215.5859 - val_mae: 6215.5859\n",
      "Epoch 103/200\n",
      "32/32 [==============================] - 0s 844us/step - loss: 6151.7749 - mae: 6151.7749 - val_loss: 6204.4087 - val_mae: 6204.4087\n",
      "Epoch 104/200\n",
      "32/32 [==============================] - 0s 873us/step - loss: 6140.3521 - mae: 6140.3521 - val_loss: 6193.9043 - val_mae: 6193.9043\n",
      "Epoch 105/200\n",
      "32/32 [==============================] - 0s 855us/step - loss: 6129.0732 - mae: 6129.0732 - val_loss: 6182.7778 - val_mae: 6182.7778\n",
      "Epoch 106/200\n",
      "32/32 [==============================] - 0s 843us/step - loss: 6118.6064 - mae: 6118.6064 - val_loss: 6175.6016 - val_mae: 6175.6016\n",
      "Epoch 107/200\n",
      "32/32 [==============================] - 0s 866us/step - loss: 6108.4097 - mae: 6108.4097 - val_loss: 6163.2373 - val_mae: 6163.2373\n",
      "Epoch 108/200\n",
      "32/32 [==============================] - 0s 860us/step - loss: 6098.0884 - mae: 6098.0884 - val_loss: 6149.9829 - val_mae: 6149.9829\n",
      "Epoch 109/200\n",
      "32/32 [==============================] - 0s 849us/step - loss: 6082.1440 - mae: 6082.1440 - val_loss: 6139.1406 - val_mae: 6139.1406\n",
      "Epoch 110/200\n",
      "32/32 [==============================] - 0s 863us/step - loss: 6074.4702 - mae: 6074.4702 - val_loss: 6129.1543 - val_mae: 6129.1543\n",
      "Epoch 111/200\n",
      "32/32 [==============================] - 0s 1ms/step - loss: 6061.6484 - mae: 6061.6484 - val_loss: 6116.2471 - val_mae: 6116.2471\n",
      "Epoch 112/200\n",
      "32/32 [==============================] - 0s 878us/step - loss: 6062.3237 - mae: 6062.3237 - val_loss: 6107.2827 - val_mae: 6107.2827\n",
      "Epoch 113/200\n",
      "32/32 [==============================] - 0s 854us/step - loss: 6034.1743 - mae: 6034.1743 - val_loss: 6097.0156 - val_mae: 6097.0156\n",
      "Epoch 114/200\n",
      "32/32 [==============================] - 0s 846us/step - loss: 6025.1328 - mae: 6025.1328 - val_loss: 6080.0576 - val_mae: 6080.0576\n",
      "Epoch 115/200\n",
      "32/32 [==============================] - 0s 856us/step - loss: 6011.8794 - mae: 6011.8794 - val_loss: 6069.9756 - val_mae: 6069.9756\n",
      "Epoch 116/200\n",
      "32/32 [==============================] - 0s 858us/step - loss: 5997.0200 - mae: 5997.0200 - val_loss: 6054.7158 - val_mae: 6054.7158\n",
      "Epoch 117/200\n",
      "32/32 [==============================] - 0s 843us/step - loss: 5982.7227 - mae: 5982.7227 - val_loss: 6041.6084 - val_mae: 6041.6084\n",
      "Epoch 118/200\n",
      "32/32 [==============================] - 0s 846us/step - loss: 5969.2456 - mae: 5969.2456 - val_loss: 6028.2065 - val_mae: 6028.2065\n",
      "Epoch 119/200\n",
      "32/32 [==============================] - 0s 846us/step - loss: 5955.5811 - mae: 5955.5811 - val_loss: 6017.9521 - val_mae: 6017.9521\n",
      "Epoch 120/200\n",
      "32/32 [==============================] - 0s 839us/step - loss: 5943.4658 - mae: 5943.4658 - val_loss: 5999.6919 - val_mae: 5999.6919\n",
      "Epoch 121/200\n",
      "32/32 [==============================] - 0s 838us/step - loss: 5924.1235 - mae: 5924.1235 - val_loss: 5984.3511 - val_mae: 5984.3511\n",
      "Epoch 122/200\n",
      "32/32 [==============================] - 0s 851us/step - loss: 5909.8438 - mae: 5909.8438 - val_loss: 5973.3125 - val_mae: 5973.3125\n",
      "Epoch 123/200\n",
      "32/32 [==============================] - 0s 904us/step - loss: 5894.6060 - mae: 5894.6060 - val_loss: 5953.8999 - val_mae: 5953.8999\n",
      "Epoch 124/200\n",
      "32/32 [==============================] - 0s 913us/step - loss: 5876.5186 - mae: 5876.5186 - val_loss: 5938.7446 - val_mae: 5938.7446\n",
      "Epoch 125/200\n",
      "32/32 [==============================] - 0s 1ms/step - loss: 5861.1431 - mae: 5861.1431 - val_loss: 5922.9058 - val_mae: 5922.9058\n",
      "Epoch 126/200\n",
      "32/32 [==============================] - 0s 1ms/step - loss: 5844.2969 - mae: 5844.2969 - val_loss: 5907.4346 - val_mae: 5907.4346\n",
      "Epoch 127/200\n",
      "32/32 [==============================] - 0s 859us/step - loss: 5826.3281 - mae: 5826.3281 - val_loss: 5893.7588 - val_mae: 5893.7588\n",
      "Epoch 128/200\n",
      "32/32 [==============================] - 0s 837us/step - loss: 5807.5640 - mae: 5807.5640 - val_loss: 5872.8257 - val_mae: 5872.8257\n",
      "Epoch 129/200\n",
      "32/32 [==============================] - 0s 834us/step - loss: 5790.4824 - mae: 5790.4824 - val_loss: 5854.7715 - val_mae: 5854.7715\n",
      "Epoch 130/200\n",
      "32/32 [==============================] - 0s 843us/step - loss: 5771.0869 - mae: 5771.0869 - val_loss: 5836.5229 - val_mae: 5836.5229\n",
      "Epoch 131/200\n",
      "32/32 [==============================] - 0s 826us/step - loss: 5755.4980 - mae: 5755.4980 - val_loss: 5824.3872 - val_mae: 5824.3872\n",
      "Epoch 132/200\n",
      "32/32 [==============================] - 0s 843us/step - loss: 5736.4590 - mae: 5736.4590 - val_loss: 5800.0957 - val_mae: 5800.0957\n",
      "Epoch 133/200\n",
      "32/32 [==============================] - 0s 843us/step - loss: 5713.2456 - mae: 5713.2456 - val_loss: 5780.4912 - val_mae: 5780.4912\n",
      "Epoch 134/200\n",
      "32/32 [==============================] - 0s 831us/step - loss: 5693.1763 - mae: 5693.1763 - val_loss: 5762.3784 - val_mae: 5762.3784\n",
      "Epoch 135/200\n",
      "32/32 [==============================] - 0s 835us/step - loss: 5673.5654 - mae: 5673.5654 - val_loss: 5743.9248 - val_mae: 5743.9248\n",
      "Epoch 136/200\n",
      "32/32 [==============================] - 0s 846us/step - loss: 5653.7329 - mae: 5653.7329 - val_loss: 5720.1499 - val_mae: 5720.1499\n",
      "Epoch 137/200\n",
      "32/32 [==============================] - 0s 831us/step - loss: 5626.5674 - mae: 5626.5674 - val_loss: 5702.1260 - val_mae: 5702.1265\n",
      "Epoch 138/200\n",
      "32/32 [==============================] - 0s 820us/step - loss: 5604.4365 - mae: 5604.4365 - val_loss: 5685.9922 - val_mae: 5685.9922\n",
      "Epoch 139/200\n",
      "32/32 [==============================] - 0s 835us/step - loss: 5595.5889 - mae: 5595.5889 - val_loss: 5659.1133 - val_mae: 5659.1133\n",
      "Epoch 140/200\n",
      "32/32 [==============================] - 0s 819us/step - loss: 5567.8276 - mae: 5567.8276 - val_loss: 5632.8076 - val_mae: 5632.8076\n",
      "Epoch 141/200\n",
      "32/32 [==============================] - 0s 840us/step - loss: 5534.7534 - mae: 5534.7534 - val_loss: 5610.9756 - val_mae: 5610.9756\n",
      "Epoch 142/200\n",
      "32/32 [==============================] - 0s 837us/step - loss: 5511.6865 - mae: 5511.6865 - val_loss: 5591.7788 - val_mae: 5591.7788\n",
      "Epoch 143/200\n",
      "32/32 [==============================] - 0s 818us/step - loss: 5488.9570 - mae: 5488.9570 - val_loss: 5561.5640 - val_mae: 5561.5640\n",
      "Epoch 144/200\n",
      "32/32 [==============================] - 0s 840us/step - loss: 5456.6138 - mae: 5456.6138 - val_loss: 5533.2114 - val_mae: 5533.2114\n",
      "Epoch 145/200\n",
      "32/32 [==============================] - 0s 825us/step - loss: 5430.2227 - mae: 5430.2227 - val_loss: 5507.0493 - val_mae: 5507.0493\n",
      "Epoch 146/200\n",
      "32/32 [==============================] - 0s 833us/step - loss: 5402.2158 - mae: 5402.2158 - val_loss: 5485.0552 - val_mae: 5485.0552\n",
      "Epoch 147/200\n",
      "32/32 [==============================] - 0s 840us/step - loss: 5380.0317 - mae: 5380.0317 - val_loss: 5451.1929 - val_mae: 5451.1929\n",
      "Epoch 148/200\n",
      "32/32 [==============================] - 0s 838us/step - loss: 5344.8813 - mae: 5344.8813 - val_loss: 5422.7637 - val_mae: 5422.7637\n",
      "Epoch 149/200\n",
      "32/32 [==============================] - 0s 830us/step - loss: 5319.0522 - mae: 5319.0522 - val_loss: 5415.6421 - val_mae: 5415.6421\n",
      "Epoch 150/200\n",
      "32/32 [==============================] - 0s 847us/step - loss: 5291.2671 - mae: 5291.2671 - val_loss: 5365.8789 - val_mae: 5365.8789\n",
      "Epoch 151/200\n",
      "32/32 [==============================] - 0s 845us/step - loss: 5254.7520 - mae: 5254.7520 - val_loss: 5335.5210 - val_mae: 5335.5210\n",
      "Epoch 152/200\n",
      "32/32 [==============================] - 0s 2ms/step - loss: 5222.3755 - mae: 5222.3755 - val_loss: 5301.7446 - val_mae: 5301.7446\n",
      "Epoch 153/200\n",
      "32/32 [==============================] - 0s 1ms/step - loss: 5188.7773 - mae: 5188.7773 - val_loss: 5272.6934 - val_mae: 5272.6934\n",
      "Epoch 154/200\n",
      "32/32 [==============================] - 0s 944us/step - loss: 5156.2417 - mae: 5156.2417 - val_loss: 5239.1177 - val_mae: 5239.1177\n",
      "Epoch 155/200\n",
      "32/32 [==============================] - 0s 971us/step - loss: 5118.2573 - mae: 5118.2573 - val_loss: 5203.7617 - val_mae: 5203.7617\n",
      "Epoch 156/200\n",
      "32/32 [==============================] - 0s 964us/step - loss: 5078.6685 - mae: 5078.6685 - val_loss: 5165.4375 - val_mae: 5165.4375\n",
      "Epoch 157/200\n",
      "32/32 [==============================] - 0s 985us/step - loss: 5042.4219 - mae: 5042.4219 - val_loss: 5132.5205 - val_mae: 5132.5205\n",
      "Epoch 158/200\n",
      "32/32 [==============================] - 0s 938us/step - loss: 5005.0874 - mae: 5005.0874 - val_loss: 5089.9839 - val_mae: 5089.9839\n",
      "Epoch 159/200\n",
      "32/32 [==============================] - 0s 922us/step - loss: 4962.2461 - mae: 4962.2461 - val_loss: 5050.1235 - val_mae: 5050.1235\n",
      "Epoch 160/200\n",
      "32/32 [==============================] - 0s 917us/step - loss: 4921.5083 - mae: 4921.5083 - val_loss: 5015.4707 - val_mae: 5015.4707\n",
      "Epoch 161/200\n",
      "32/32 [==============================] - 0s 951us/step - loss: 4881.1714 - mae: 4881.1714 - val_loss: 4972.1694 - val_mae: 4972.1694\n",
      "Epoch 162/200\n",
      "32/32 [==============================] - 0s 927us/step - loss: 4830.2129 - mae: 4830.2129 - val_loss: 4926.5181 - val_mae: 4926.5181\n",
      "Epoch 163/200\n",
      "32/32 [==============================] - 0s 958us/step - loss: 4793.0312 - mae: 4793.0312 - val_loss: 4885.2979 - val_mae: 4885.2979\n",
      "Epoch 164/200\n",
      "32/32 [==============================] - 0s 915us/step - loss: 4740.7847 - mae: 4740.7852 - val_loss: 4837.0195 - val_mae: 4837.0195\n",
      "Epoch 165/200\n",
      "32/32 [==============================] - 0s 832us/step - loss: 4692.1025 - mae: 4692.1025 - val_loss: 4791.9951 - val_mae: 4791.9951\n",
      "Epoch 166/200\n",
      "32/32 [==============================] - 0s 839us/step - loss: 4642.5376 - mae: 4642.5376 - val_loss: 4739.3706 - val_mae: 4739.3706\n",
      "Epoch 167/200\n",
      "32/32 [==============================] - 0s 845us/step - loss: 4590.4390 - mae: 4590.4390 - val_loss: 4687.6304 - val_mae: 4687.6304\n",
      "Epoch 168/200\n",
      "32/32 [==============================] - 0s 863us/step - loss: 4537.8906 - mae: 4537.8906 - val_loss: 4637.5220 - val_mae: 4637.5220\n",
      "Epoch 169/200\n",
      "32/32 [==============================] - 0s 906us/step - loss: 4483.8384 - mae: 4483.8384 - val_loss: 4581.5103 - val_mae: 4581.5103\n",
      "Epoch 170/200\n",
      "32/32 [==============================] - 0s 1ms/step - loss: 4422.2354 - mae: 4422.2354 - val_loss: 4523.2651 - val_mae: 4523.2651\n",
      "Epoch 171/200\n",
      "32/32 [==============================] - 0s 966us/step - loss: 4365.9551 - mae: 4365.9551 - val_loss: 4467.7285 - val_mae: 4467.7285\n",
      "Epoch 172/200\n",
      "32/32 [==============================] - 0s 2ms/step - loss: 4319.1777 - mae: 4319.1777 - val_loss: 4414.6611 - val_mae: 4414.6611\n",
      "Epoch 173/200\n",
      "32/32 [==============================] - 0s 948us/step - loss: 4259.2900 - mae: 4259.2900 - val_loss: 4355.9082 - val_mae: 4355.9082\n",
      "Epoch 174/200\n",
      "32/32 [==============================] - 0s 909us/step - loss: 4201.6665 - mae: 4201.6665 - val_loss: 4299.8457 - val_mae: 4299.8457\n",
      "Epoch 175/200\n",
      "32/32 [==============================] - 0s 878us/step - loss: 4147.6948 - mae: 4147.6948 - val_loss: 4246.1885 - val_mae: 4246.1885\n",
      "Epoch 176/200\n",
      "32/32 [==============================] - 0s 898us/step - loss: 4090.5261 - mae: 4090.5261 - val_loss: 4185.0698 - val_mae: 4185.0698\n",
      "Epoch 177/200\n",
      "32/32 [==============================] - 0s 919us/step - loss: 4033.9077 - mae: 4033.9077 - val_loss: 4161.0000 - val_mae: 4161.0000\n",
      "Epoch 178/200\n",
      "32/32 [==============================] - 0s 883us/step - loss: 3988.8364 - mae: 3988.8364 - val_loss: 4074.6541 - val_mae: 4074.6541\n",
      "Epoch 179/200\n",
      "32/32 [==============================] - 0s 846us/step - loss: 3935.2883 - mae: 3935.2883 - val_loss: 4030.1404 - val_mae: 4030.1404\n",
      "Epoch 180/200\n",
      "32/32 [==============================] - 0s 836us/step - loss: 3891.7512 - mae: 3891.7512 - val_loss: 3977.8538 - val_mae: 3977.8538\n",
      "Epoch 181/200\n",
      "32/32 [==============================] - 0s 840us/step - loss: 3852.4011 - mae: 3852.4011 - val_loss: 3928.4280 - val_mae: 3928.4280\n",
      "Epoch 182/200\n",
      "32/32 [==============================] - 0s 843us/step - loss: 3815.7480 - mae: 3815.7480 - val_loss: 3887.0171 - val_mae: 3887.0171\n",
      "Epoch 183/200\n",
      "32/32 [==============================] - 0s 842us/step - loss: 3776.0906 - mae: 3776.0906 - val_loss: 3865.5881 - val_mae: 3865.5881\n",
      "Epoch 184/200\n",
      "32/32 [==============================] - 0s 854us/step - loss: 3746.1531 - mae: 3746.1531 - val_loss: 3818.1731 - val_mae: 3818.1731\n",
      "Epoch 185/200\n",
      "32/32 [==============================] - 0s 834us/step - loss: 3722.4065 - mae: 3722.4065 - val_loss: 3791.5105 - val_mae: 3791.5105\n",
      "Epoch 186/200\n",
      "32/32 [==============================] - 0s 837us/step - loss: 3696.1707 - mae: 3696.1707 - val_loss: 3770.2056 - val_mae: 3770.2056\n",
      "Epoch 187/200\n",
      "32/32 [==============================] - 0s 841us/step - loss: 3677.0483 - mae: 3677.0483 - val_loss: 3752.6941 - val_mae: 3752.6941\n",
      "Epoch 188/200\n",
      "32/32 [==============================] - 0s 843us/step - loss: 3666.3413 - mae: 3666.3413 - val_loss: 3726.8557 - val_mae: 3726.8557\n",
      "Epoch 189/200\n",
      "32/32 [==============================] - 0s 845us/step - loss: 3646.4255 - mae: 3646.4255 - val_loss: 3712.4133 - val_mae: 3712.4133\n",
      "Epoch 190/200\n",
      "32/32 [==============================] - 0s 840us/step - loss: 3628.6514 - mae: 3628.6514 - val_loss: 3701.2568 - val_mae: 3701.2568\n",
      "Epoch 191/200\n",
      "32/32 [==============================] - 0s 846us/step - loss: 3626.3611 - mae: 3626.3611 - val_loss: 3687.9553 - val_mae: 3687.9553\n",
      "Epoch 192/200\n",
      "32/32 [==============================] - 0s 838us/step - loss: 3603.9541 - mae: 3603.9541 - val_loss: 3672.5332 - val_mae: 3672.5332\n",
      "Epoch 193/200\n",
      "32/32 [==============================] - 0s 842us/step - loss: 3596.1821 - mae: 3596.1821 - val_loss: 3659.1702 - val_mae: 3659.1702\n",
      "Epoch 194/200\n",
      "32/32 [==============================] - 0s 840us/step - loss: 3594.5317 - mae: 3594.5317 - val_loss: 3652.1228 - val_mae: 3652.1228\n",
      "Epoch 195/200\n",
      "32/32 [==============================] - 0s 833us/step - loss: 3584.5317 - mae: 3584.5317 - val_loss: 3636.7703 - val_mae: 3636.7703\n",
      "Epoch 196/200\n",
      "32/32 [==============================] - 0s 830us/step - loss: 3566.7754 - mae: 3566.7754 - val_loss: 3629.3630 - val_mae: 3629.3630\n",
      "Epoch 197/200\n",
      "32/32 [==============================] - 0s 835us/step - loss: 3562.3577 - mae: 3562.3577 - val_loss: 3618.9314 - val_mae: 3618.9314\n",
      "Epoch 198/200\n",
      "32/32 [==============================] - 0s 2ms/step - loss: 3549.6787 - mae: 3549.6787 - val_loss: 3603.8494 - val_mae: 3603.8494\n",
      "Epoch 199/200\n",
      "32/32 [==============================] - 0s 856us/step - loss: 3541.8040 - mae: 3541.8040 - val_loss: 3588.9104 - val_mae: 3588.9104\n",
      "Epoch 200/200\n",
      "32/32 [==============================] - 0s 826us/step - loss: 3525.8345 - mae: 3525.8345 - val_loss: 3578.8657 - val_mae: 3578.8657\n"
     ]
    }
   ],
   "source": [
    "history2 = model_5.fit(X_train, y_train,\n",
    "                      validation_data = (X_test, y_test),\n",
    "                        epochs=200,\n",
    "                        )"
   ]
  },
  {
   "cell_type": "code",
   "execution_count": 138,
   "metadata": {},
   "outputs": [
    {
     "data": {
      "image/png": "[encoded data removed]",
      "text/plain": [
       "<Figure size 640x480 with 1 Axes>"
      ]
     },
     "metadata": {},
     "output_type": "display_data"
    },
    {
     "data": {
      "image/png": "[encoded data removed]",
      "text/plain": [
       "<Figure size 640x480 with 1 Axes>"
      ]
     },
     "metadata": {},
     "output_type": "display_data"
    }
   ],
   "source": [
    "plot_history(history2)"
   ]
  },
  {
   "cell_type": "code",
   "execution_count": 139,
   "metadata": {},
   "outputs": [
    {
     "name": "stdout",
     "output_type": "stream",
     "text": [
      "11/11 [==============================] - 0s 454us/step - loss: 3578.8657 - mae: 3578.8657\n"
     ]
    },
    {
     "data": {
      "text/plain": [
       "[3578.86572265625, 3578.86572265625]"
      ]
     },
     "execution_count": 139,
     "metadata": {},
     "output_type": "execute_result"
    }
   ],
   "source": [
    "model_5.evaluate(X_test, y_test)"
   ]
  },
  {
   "cell_type": "code",
   "execution_count": 140,
   "metadata": {},
   "outputs": [
    {
     "name": "stdout",
     "output_type": "stream",
     "text": [
      "11/11 [==============================] - 0s 818us/step - loss: 6917.0420 - mae: 6917.0420\n"
     ]
    },
    {
     "data": {
      "text/plain": [
       "[6917.0419921875, 6917.0419921875]"
      ]
     },
     "execution_count": 140,
     "metadata": {},
     "output_type": "execute_result"
    }
   ],
   "source": [
    "model_4.evaluate(X_test, y_test)"
   ]
  },
  {
   "cell_type": "code",
   "execution_count": 143,
   "metadata": {},
   "outputs": [
    {
     "data": {
      "text/html": [
       "<div>\n",
       "<style scoped>\n",
       "    .dataframe tbody tr th:only-of-type {\n",
       "        vertical-align: middle;\n",
       "    }\n",
       "\n",
       "    .dataframe tbody tr th {\n",
       "        vertical-align: top;\n",
       "    }\n",
       "\n",
       "    .dataframe thead th {\n",
       "        text-align: right;\n",
       "    }\n",
       "</style>\n",
       "<table border=\"1\" class=\"dataframe\">\n",
       "  <thead>\n",
       "    <tr style=\"text-align: right;\">\n",
       "      <th></th>\n",
       "      <th>age</th>\n",
       "      <th>sex</th>\n",
       "      <th>bmi</th>\n",
       "      <th>children</th>\n",
       "      <th>smoker</th>\n",
       "      <th>region</th>\n",
       "      <th>charges</th>\n",
       "    </tr>\n",
       "  </thead>\n",
       "  <tbody>\n",
       "    <tr>\n",
       "      <th>0</th>\n",
       "      <td>19</td>\n",
       "      <td>female</td>\n",
       "      <td>27.900</td>\n",
       "      <td>0</td>\n",
       "      <td>yes</td>\n",
       "      <td>southwest</td>\n",
       "      <td>16884.92400</td>\n",
       "    </tr>\n",
       "    <tr>\n",
       "      <th>1</th>\n",
       "      <td>18</td>\n",
       "      <td>male</td>\n",
       "      <td>33.770</td>\n",
       "      <td>1</td>\n",
       "      <td>no</td>\n",
       "      <td>southeast</td>\n",
       "      <td>1725.55230</td>\n",
       "    </tr>\n",
       "    <tr>\n",
       "      <th>2</th>\n",
       "      <td>28</td>\n",
       "      <td>male</td>\n",
       "      <td>33.000</td>\n",
       "      <td>3</td>\n",
       "      <td>no</td>\n",
       "      <td>southeast</td>\n",
       "      <td>4449.46200</td>\n",
       "    </tr>\n",
       "    <tr>\n",
       "      <th>3</th>\n",
       "      <td>33</td>\n",
       "      <td>male</td>\n",
       "      <td>22.705</td>\n",
       "      <td>0</td>\n",
       "      <td>no</td>\n",
       "      <td>northwest</td>\n",
       "      <td>21984.47061</td>\n",
       "    </tr>\n",
       "    <tr>\n",
       "      <th>4</th>\n",
       "      <td>32</td>\n",
       "      <td>male</td>\n",
       "      <td>28.880</td>\n",
       "      <td>0</td>\n",
       "      <td>no</td>\n",
       "      <td>northwest</td>\n",
       "      <td>3866.85520</td>\n",
       "    </tr>\n",
       "  </tbody>\n",
       "</table>\n",
       "</div>"
      ],
      "text/plain": [
       "   age     sex     bmi  children smoker     region      charges\n",
       "0   19  female  27.900         0    yes  southwest  16884.92400\n",
       "1   18    male  33.770         1     no  southeast   1725.55230\n",
       "2   28    male  33.000         3     no  southeast   4449.46200\n",
       "3   33    male  22.705         0     no  northwest  21984.47061\n",
       "4   32    male  28.880         0     no  northwest   3866.85520"
      ]
     },
     "execution_count": 143,
     "metadata": {},
     "output_type": "execute_result"
    }
   ],
   "source": [
    "df2 = pd.read_csv(\"https://raw.githubusercontent.com/stedy/Machine-Learning-with-R-datasets/master/insurance.csv\")\n",
    "df2.head()"
   ]
  },
  {
   "cell_type": "code",
   "execution_count": 144,
   "metadata": {},
   "outputs": [],
   "source": [
    "from sklearn.compose import make_column_transformer\n",
    "from sklearn.preprocessing import MinMaxScaler, OneHotEncoder\n",
    "from sklearn.model_selection import train_test_split"
   ]
  },
  {
   "cell_type": "code",
   "execution_count": 145,
   "metadata": {},
   "outputs": [],
   "source": [
    "ct = make_column_transformer(\n",
    "    (MinMaxScaler(), ['age','bmi','children']),\n",
    "    (OneHotEncoder(handle_unknown='ignore'), ['sex', 'smoker', 'region'])\n",
    ")\n",
    "\n",
    "X = df2.drop(columns='charges')\n",
    "y = df2['charges']\n",
    "\n",
    "X_train, X_test, y_train, y_test = train_test_split(X,y, random_state=42, test_size=0.2)\n",
    "\n",
    "ct.fit(X_train)\n",
    "\n",
    "X_train_normal = ct.transform(X_train)\n",
    "X_test_normal = ct.transform(X_test)"
   ]
  },
  {
   "cell_type": "code",
   "execution_count": 146,
   "metadata": {},
   "outputs": [
    {
     "data": {
      "text/plain": [
       "age                19\n",
       "sex            female\n",
       "bmi              27.9\n",
       "children            0\n",
       "smoker            yes\n",
       "region      southwest\n",
       "Name: 0, dtype: object"
      ]
     },
     "execution_count": 146,
     "metadata": {},
     "output_type": "execute_result"
    }
   ],
   "source": [
    "X_train.loc[0]"
   ]
  },
  {
   "cell_type": "code",
   "execution_count": 152,
   "metadata": {},
   "outputs": [
    {
     "data": {
      "text/plain": [
       "((1070, 11), (1070, 6))"
      ]
     },
     "execution_count": 152,
     "metadata": {},
     "output_type": "execute_result"
    }
   ],
   "source": [
    "X_train_normal.shape,X_train.shape "
   ]
  },
  {
   "cell_type": "code",
   "execution_count": 151,
   "metadata": {},
   "outputs": [
    {
     "data": {
      "text/html": [
       "<div>\n",
       "<style scoped>\n",
       "    .dataframe tbody tr th:only-of-type {\n",
       "        vertical-align: middle;\n",
       "    }\n",
       "\n",
       "    .dataframe tbody tr th {\n",
       "        vertical-align: top;\n",
       "    }\n",
       "\n",
       "    .dataframe thead th {\n",
       "        text-align: right;\n",
       "    }\n",
       "</style>\n",
       "<table border=\"1\" class=\"dataframe\">\n",
       "  <thead>\n",
       "    <tr style=\"text-align: right;\">\n",
       "      <th></th>\n",
       "      <th>age</th>\n",
       "      <th>sex</th>\n",
       "      <th>bmi</th>\n",
       "      <th>children</th>\n",
       "      <th>smoker</th>\n",
       "      <th>region</th>\n",
       "    </tr>\n",
       "  </thead>\n",
       "  <tbody>\n",
       "    <tr>\n",
       "      <th>560</th>\n",
       "      <td>46</td>\n",
       "      <td>female</td>\n",
       "      <td>19.950</td>\n",
       "      <td>2</td>\n",
       "      <td>no</td>\n",
       "      <td>northwest</td>\n",
       "    </tr>\n",
       "    <tr>\n",
       "      <th>1285</th>\n",
       "      <td>47</td>\n",
       "      <td>female</td>\n",
       "      <td>24.320</td>\n",
       "      <td>0</td>\n",
       "      <td>no</td>\n",
       "      <td>northeast</td>\n",
       "    </tr>\n",
       "    <tr>\n",
       "      <th>1142</th>\n",
       "      <td>52</td>\n",
       "      <td>female</td>\n",
       "      <td>24.860</td>\n",
       "      <td>0</td>\n",
       "      <td>no</td>\n",
       "      <td>southeast</td>\n",
       "    </tr>\n",
       "    <tr>\n",
       "      <th>969</th>\n",
       "      <td>39</td>\n",
       "      <td>female</td>\n",
       "      <td>34.320</td>\n",
       "      <td>5</td>\n",
       "      <td>no</td>\n",
       "      <td>southeast</td>\n",
       "    </tr>\n",
       "    <tr>\n",
       "      <th>486</th>\n",
       "      <td>54</td>\n",
       "      <td>female</td>\n",
       "      <td>21.470</td>\n",
       "      <td>3</td>\n",
       "      <td>no</td>\n",
       "      <td>northwest</td>\n",
       "    </tr>\n",
       "    <tr>\n",
       "      <th>...</th>\n",
       "      <td>...</td>\n",
       "      <td>...</td>\n",
       "      <td>...</td>\n",
       "      <td>...</td>\n",
       "      <td>...</td>\n",
       "      <td>...</td>\n",
       "    </tr>\n",
       "    <tr>\n",
       "      <th>1095</th>\n",
       "      <td>18</td>\n",
       "      <td>female</td>\n",
       "      <td>31.350</td>\n",
       "      <td>4</td>\n",
       "      <td>no</td>\n",
       "      <td>northeast</td>\n",
       "    </tr>\n",
       "    <tr>\n",
       "      <th>1130</th>\n",
       "      <td>39</td>\n",
       "      <td>female</td>\n",
       "      <td>23.870</td>\n",
       "      <td>5</td>\n",
       "      <td>no</td>\n",
       "      <td>southeast</td>\n",
       "    </tr>\n",
       "    <tr>\n",
       "      <th>1294</th>\n",
       "      <td>58</td>\n",
       "      <td>male</td>\n",
       "      <td>25.175</td>\n",
       "      <td>0</td>\n",
       "      <td>no</td>\n",
       "      <td>northeast</td>\n",
       "    </tr>\n",
       "    <tr>\n",
       "      <th>860</th>\n",
       "      <td>37</td>\n",
       "      <td>female</td>\n",
       "      <td>47.600</td>\n",
       "      <td>2</td>\n",
       "      <td>yes</td>\n",
       "      <td>southwest</td>\n",
       "    </tr>\n",
       "    <tr>\n",
       "      <th>1126</th>\n",
       "      <td>55</td>\n",
       "      <td>male</td>\n",
       "      <td>29.900</td>\n",
       "      <td>0</td>\n",
       "      <td>no</td>\n",
       "      <td>southwest</td>\n",
       "    </tr>\n",
       "  </tbody>\n",
       "</table>\n",
       "<p>1070 rows × 6 columns</p>\n",
       "</div>"
      ],
      "text/plain": [
       "      age     sex     bmi  children smoker     region\n",
       "560    46  female  19.950         2     no  northwest\n",
       "1285   47  female  24.320         0     no  northeast\n",
       "1142   52  female  24.860         0     no  southeast\n",
       "969    39  female  34.320         5     no  southeast\n",
       "486    54  female  21.470         3     no  northwest\n",
       "...   ...     ...     ...       ...    ...        ...\n",
       "1095   18  female  31.350         4     no  northeast\n",
       "1130   39  female  23.870         5     no  southeast\n",
       "1294   58    male  25.175         0     no  northeast\n",
       "860    37  female  47.600         2    yes  southwest\n",
       "1126   55    male  29.900         0     no  southwest\n",
       "\n",
       "[1070 rows x 6 columns]"
      ]
     },
     "execution_count": 151,
     "metadata": {},
     "output_type": "execute_result"
    }
   ],
   "source": []
  },
  {
   "cell_type": "code",
   "execution_count": 153,
   "metadata": {},
   "outputs": [
    {
     "name": "stdout",
     "output_type": "stream",
     "text": [
      "Epoch 1/200\n",
      "34/34 [==============================] - 0s 3ms/step - loss: 11771.4580 - mae: 11771.4580 - val_loss: 11369.4492 - val_mae: 11369.4492\n",
      "Epoch 2/200\n",
      "34/34 [==============================] - 0s 920us/step - loss: 11612.2148 - mae: 11612.2148 - val_loss: 11171.7021 - val_mae: 11171.7021\n",
      "Epoch 3/200\n",
      "34/34 [==============================] - 0s 870us/step - loss: 11390.6426 - mae: 11390.6426 - val_loss: 10826.2451 - val_mae: 10826.2451\n",
      "Epoch 4/200\n",
      "34/34 [==============================] - 0s 868us/step - loss: 10790.5215 - mae: 10790.5215 - val_loss: 10052.7363 - val_mae: 10052.7363\n",
      "Epoch 5/200\n",
      "34/34 [==============================] - 0s 2ms/step - loss: 9982.5361 - mae: 9982.5361 - val_loss: 9220.7129 - val_mae: 9220.7129\n",
      "Epoch 6/200\n",
      "34/34 [==============================] - 0s 1ms/step - loss: 9143.9385 - mae: 9143.9385 - val_loss: 8408.7705 - val_mae: 8408.7705\n",
      "Epoch 7/200\n",
      "34/34 [==============================] - 0s 848us/step - loss: 8358.8574 - mae: 8358.8574 - val_loss: 7683.8833 - val_mae: 7683.8833\n",
      "Epoch 8/200\n",
      "34/34 [==============================] - 0s 859us/step - loss: 7668.6938 - mae: 7668.6938 - val_loss: 7051.0850 - val_mae: 7051.0850\n",
      "Epoch 9/200\n",
      "34/34 [==============================] - 0s 881us/step - loss: 7059.2520 - mae: 7059.2520 - val_loss: 6494.9224 - val_mae: 6494.9229\n",
      "Epoch 10/200\n",
      "34/34 [==============================] - 0s 888us/step - loss: 6542.2197 - mae: 6542.2197 - val_loss: 6106.2148 - val_mae: 6106.2148\n",
      "Epoch 11/200\n",
      "34/34 [==============================] - 0s 868us/step - loss: 6164.4648 - mae: 6164.4648 - val_loss: 5840.9341 - val_mae: 5840.9341\n",
      "Epoch 12/200\n",
      "34/34 [==============================] - 0s 884us/step - loss: 5908.5244 - mae: 5908.5244 - val_loss: 5675.1592 - val_mae: 5675.1592\n",
      "Epoch 13/200\n",
      "34/34 [==============================] - 0s 1ms/step - loss: 5742.5571 - mae: 5742.5571 - val_loss: 5544.4980 - val_mae: 5544.4980\n",
      "Epoch 14/200\n",
      "34/34 [==============================] - 0s 926us/step - loss: 5619.4053 - mae: 5619.4053 - val_loss: 5466.2881 - val_mae: 5466.2881\n",
      "Epoch 15/200\n",
      "34/34 [==============================] - 0s 939us/step - loss: 5542.4180 - mae: 5542.4180 - val_loss: 5419.8350 - val_mae: 5419.8350\n",
      "Epoch 16/200\n",
      "34/34 [==============================] - 0s 898us/step - loss: 5484.5303 - mae: 5484.5303 - val_loss: 5393.0713 - val_mae: 5393.0713\n",
      "Epoch 17/200\n",
      "34/34 [==============================] - 0s 928us/step - loss: 5446.9468 - mae: 5446.9468 - val_loss: 5370.4517 - val_mae: 5370.4517\n",
      "Epoch 18/200\n",
      "34/34 [==============================] - 0s 865us/step - loss: 5414.4468 - mae: 5414.4468 - val_loss: 5348.2158 - val_mae: 5348.2158\n",
      "Epoch 19/200\n",
      "34/34 [==============================] - 0s 896us/step - loss: 5390.3789 - mae: 5390.3789 - val_loss: 5330.4468 - val_mae: 5330.4468\n",
      "Epoch 20/200\n",
      "34/34 [==============================] - 0s 869us/step - loss: 5368.7422 - mae: 5368.7422 - val_loss: 5309.0015 - val_mae: 5309.0015\n",
      "Epoch 21/200\n",
      "34/34 [==============================] - 0s 894us/step - loss: 5347.9463 - mae: 5347.9463 - val_loss: 5287.0234 - val_mae: 5287.0234\n",
      "Epoch 22/200\n",
      "34/34 [==============================] - 0s 905us/step - loss: 5328.3374 - mae: 5328.3374 - val_loss: 5266.2212 - val_mae: 5266.2212\n",
      "Epoch 23/200\n",
      "34/34 [==============================] - 0s 881us/step - loss: 5310.5322 - mae: 5310.5322 - val_loss: 5244.0942 - val_mae: 5244.0942\n",
      "Epoch 24/200\n",
      "34/34 [==============================] - 0s 883us/step - loss: 5289.9839 - mae: 5289.9839 - val_loss: 5220.5952 - val_mae: 5220.5952\n",
      "Epoch 25/200\n",
      "34/34 [==============================] - 0s 881us/step - loss: 5273.9629 - mae: 5273.9629 - val_loss: 5201.5752 - val_mae: 5201.5752\n",
      "Epoch 26/200\n",
      "34/34 [==============================] - 0s 880us/step - loss: 5253.5342 - mae: 5253.5342 - val_loss: 5179.4497 - val_mae: 5179.4497\n",
      "Epoch 27/200\n",
      "34/34 [==============================] - 0s 874us/step - loss: 5236.1255 - mae: 5236.1255 - val_loss: 5158.3174 - val_mae: 5158.3174\n",
      "Epoch 28/200\n",
      "34/34 [==============================] - 0s 872us/step - loss: 5220.0977 - mae: 5220.0977 - val_loss: 5137.3232 - val_mae: 5137.3232\n",
      "Epoch 29/200\n",
      "34/34 [==============================] - 0s 870us/step - loss: 5203.8184 - mae: 5203.8184 - val_loss: 5120.2349 - val_mae: 5120.2349\n",
      "Epoch 30/200\n",
      "34/34 [==============================] - 0s 1ms/step - loss: 5187.0259 - mae: 5187.0259 - val_loss: 5104.2026 - val_mae: 5104.2026\n",
      "Epoch 31/200\n",
      "34/34 [==============================] - 0s 873us/step - loss: 5173.8398 - mae: 5173.8398 - val_loss: 5083.0439 - val_mae: 5083.0439\n",
      "Epoch 32/200\n",
      "34/34 [==============================] - 0s 873us/step - loss: 5157.1436 - mae: 5157.1436 - val_loss: 5068.5659 - val_mae: 5068.5659\n",
      "Epoch 33/200\n",
      "34/34 [==============================] - 0s 883us/step - loss: 5144.4116 - mae: 5144.4116 - val_loss: 5047.5303 - val_mae: 5047.5303\n",
      "Epoch 34/200\n",
      "34/34 [==============================] - 0s 933us/step - loss: 5127.9863 - mae: 5127.9863 - val_loss: 5033.3892 - val_mae: 5033.3892\n",
      "Epoch 35/200\n",
      "34/34 [==============================] - 0s 2ms/step - loss: 5114.2236 - mae: 5114.2236 - val_loss: 5017.2798 - val_mae: 5017.2798\n",
      "Epoch 36/200\n",
      "34/34 [==============================] - 0s 912us/step - loss: 5099.0225 - mae: 5099.0225 - val_loss: 4998.4937 - val_mae: 4998.4937\n",
      "Epoch 37/200\n",
      "34/34 [==============================] - 0s 864us/step - loss: 5085.4702 - mae: 5085.4702 - val_loss: 4981.4609 - val_mae: 4981.4609\n",
      "Epoch 38/200\n",
      "34/34 [==============================] - 0s 855us/step - loss: 5071.1992 - mae: 5071.1992 - val_loss: 4967.8257 - val_mae: 4967.8257\n",
      "Epoch 39/200\n",
      "34/34 [==============================] - 0s 860us/step - loss: 5057.3252 - mae: 5057.3252 - val_loss: 4950.5073 - val_mae: 4950.5073\n",
      "Epoch 40/200\n",
      "34/34 [==============================] - 0s 878us/step - loss: 5043.3467 - mae: 5043.3467 - val_loss: 4935.7163 - val_mae: 4935.7163\n",
      "Epoch 41/200\n",
      "34/34 [==============================] - 0s 866us/step - loss: 5029.6289 - mae: 5029.6289 - val_loss: 4918.2432 - val_mae: 4918.2432\n",
      "Epoch 42/200\n",
      "34/34 [==============================] - 0s 1ms/step - loss: 5015.8530 - mae: 5015.8530 - val_loss: 4903.4565 - val_mae: 4903.4565\n",
      "Epoch 43/200\n",
      "34/34 [==============================] - 0s 948us/step - loss: 5002.6074 - mae: 5002.6074 - val_loss: 4891.7617 - val_mae: 4891.7617\n",
      "Epoch 44/200\n",
      "34/34 [==============================] - 0s 876us/step - loss: 4985.3662 - mae: 4985.3662 - val_loss: 4872.3311 - val_mae: 4872.3311\n",
      "Epoch 45/200\n",
      "34/34 [==============================] - 0s 825us/step - loss: 4970.2231 - mae: 4970.2231 - val_loss: 4858.8818 - val_mae: 4858.8818\n",
      "Epoch 46/200\n",
      "34/34 [==============================] - 0s 855us/step - loss: 4957.2012 - mae: 4957.2012 - val_loss: 4840.6421 - val_mae: 4840.6421\n",
      "Epoch 47/200\n",
      "34/34 [==============================] - 0s 957us/step - loss: 4943.0884 - mae: 4943.0884 - val_loss: 4827.3394 - val_mae: 4827.3394\n",
      "Epoch 48/200\n",
      "34/34 [==============================] - 0s 878us/step - loss: 4925.0591 - mae: 4925.0591 - val_loss: 4808.5015 - val_mae: 4808.5015\n",
      "Epoch 49/200\n",
      "34/34 [==============================] - 0s 905us/step - loss: 4910.3521 - mae: 4910.3521 - val_loss: 4794.3130 - val_mae: 4794.3130\n",
      "Epoch 50/200\n",
      "34/34 [==============================] - 0s 879us/step - loss: 4893.9175 - mae: 4893.9175 - val_loss: 4774.3174 - val_mae: 4774.3174\n",
      "Epoch 51/200\n",
      "34/34 [==============================] - 0s 876us/step - loss: 4879.3105 - mae: 4879.3105 - val_loss: 4760.5112 - val_mae: 4760.5112\n",
      "Epoch 52/200\n",
      "34/34 [==============================] - 0s 864us/step - loss: 4860.8960 - mae: 4860.8960 - val_loss: 4739.3999 - val_mae: 4739.3999\n",
      "Epoch 53/200\n",
      "34/34 [==============================] - 0s 868us/step - loss: 4844.8716 - mae: 4844.8716 - val_loss: 4724.7417 - val_mae: 4724.7417\n",
      "Epoch 54/200\n",
      "34/34 [==============================] - 0s 849us/step - loss: 4828.3662 - mae: 4828.3662 - val_loss: 4706.0444 - val_mae: 4706.0444\n",
      "Epoch 55/200\n",
      "34/34 [==============================] - 0s 875us/step - loss: 4816.0044 - mae: 4816.0044 - val_loss: 4689.6519 - val_mae: 4689.6519\n",
      "Epoch 56/200\n",
      "34/34 [==============================] - 0s 875us/step - loss: 4795.2959 - mae: 4795.2959 - val_loss: 4673.6362 - val_mae: 4673.6362\n",
      "Epoch 57/200\n",
      "34/34 [==============================] - 0s 845us/step - loss: 4779.5049 - mae: 4779.5049 - val_loss: 4654.9814 - val_mae: 4654.9814\n",
      "Epoch 58/200\n",
      "34/34 [==============================] - 0s 852us/step - loss: 4762.5977 - mae: 4762.5977 - val_loss: 4636.9233 - val_mae: 4636.9233\n",
      "Epoch 59/200\n",
      "34/34 [==============================] - 0s 877us/step - loss: 4746.5488 - mae: 4746.5488 - val_loss: 4614.4414 - val_mae: 4614.4414\n",
      "Epoch 60/200\n",
      "34/34 [==============================] - 0s 842us/step - loss: 4726.9810 - mae: 4726.9810 - val_loss: 4598.3301 - val_mae: 4598.3301\n",
      "Epoch 61/200\n",
      "34/34 [==============================] - 0s 882us/step - loss: 4711.3623 - mae: 4711.3623 - val_loss: 4577.9492 - val_mae: 4577.9492\n",
      "Epoch 62/200\n",
      "34/34 [==============================] - 0s 877us/step - loss: 4691.9712 - mae: 4691.9712 - val_loss: 4559.1138 - val_mae: 4559.1138\n",
      "Epoch 63/200\n",
      "34/34 [==============================] - 0s 857us/step - loss: 4675.9512 - mae: 4675.9512 - val_loss: 4539.7905 - val_mae: 4539.7905\n",
      "Epoch 64/200\n",
      "34/34 [==============================] - 0s 866us/step - loss: 4658.1909 - mae: 4658.1909 - val_loss: 4522.7007 - val_mae: 4522.7007\n",
      "Epoch 65/200\n",
      "34/34 [==============================] - 0s 865us/step - loss: 4642.2271 - mae: 4642.2271 - val_loss: 4501.0400 - val_mae: 4501.0400\n",
      "Epoch 66/200\n",
      "34/34 [==============================] - 0s 854us/step - loss: 4626.1118 - mae: 4626.1118 - val_loss: 4485.3018 - val_mae: 4485.3018\n",
      "Epoch 67/200\n",
      "34/34 [==============================] - 0s 869us/step - loss: 4608.6992 - mae: 4608.6992 - val_loss: 4464.3745 - val_mae: 4464.3745\n",
      "Epoch 68/200\n",
      "34/34 [==============================] - 0s 1ms/step - loss: 4591.9946 - mae: 4591.9946 - val_loss: 4445.6074 - val_mae: 4445.6074\n",
      "Epoch 69/200\n",
      "34/34 [==============================] - 0s 1ms/step - loss: 4575.5264 - mae: 4575.5264 - val_loss: 4425.1548 - val_mae: 4425.1548\n",
      "Epoch 70/200\n",
      "34/34 [==============================] - 0s 1ms/step - loss: 4559.4634 - mae: 4559.4634 - val_loss: 4406.6816 - val_mae: 4406.6816\n",
      "Epoch 71/200\n",
      "34/34 [==============================] - 0s 870us/step - loss: 4541.6470 - mae: 4541.6470 - val_loss: 4389.6709 - val_mae: 4389.6709\n",
      "Epoch 72/200\n",
      "34/34 [==============================] - 0s 851us/step - loss: 4523.7271 - mae: 4523.7271 - val_loss: 4370.9590 - val_mae: 4370.9590\n",
      "Epoch 73/200\n",
      "34/34 [==============================] - 0s 870us/step - loss: 4507.0483 - mae: 4507.0483 - val_loss: 4351.5728 - val_mae: 4351.5728\n",
      "Epoch 74/200\n",
      "34/34 [==============================] - 0s 876us/step - loss: 4491.2871 - mae: 4491.2871 - val_loss: 4331.3037 - val_mae: 4331.3037\n",
      "Epoch 75/200\n",
      "34/34 [==============================] - 0s 860us/step - loss: 4476.7173 - mae: 4476.7173 - val_loss: 4314.7686 - val_mae: 4314.7686\n",
      "Epoch 76/200\n",
      "34/34 [==============================] - 0s 855us/step - loss: 4461.1523 - mae: 4461.1523 - val_loss: 4296.7871 - val_mae: 4296.7871\n",
      "Epoch 77/200\n",
      "34/34 [==============================] - 0s 833us/step - loss: 4444.9985 - mae: 4444.9985 - val_loss: 4280.2935 - val_mae: 4280.2935\n",
      "Epoch 78/200\n",
      "34/34 [==============================] - 0s 867us/step - loss: 4430.5591 - mae: 4430.5591 - val_loss: 4265.3628 - val_mae: 4265.3628\n",
      "Epoch 79/200\n",
      "34/34 [==============================] - 0s 851us/step - loss: 4415.3823 - mae: 4415.3823 - val_loss: 4248.8135 - val_mae: 4248.8135\n",
      "Epoch 80/200\n",
      "34/34 [==============================] - 0s 862us/step - loss: 4398.8843 - mae: 4398.8843 - val_loss: 4231.3662 - val_mae: 4231.3662\n",
      "Epoch 81/200\n",
      "34/34 [==============================] - 0s 849us/step - loss: 4383.5664 - mae: 4383.5664 - val_loss: 4214.5508 - val_mae: 4214.5508\n",
      "Epoch 82/200\n",
      "34/34 [==============================] - 0s 843us/step - loss: 4370.2686 - mae: 4370.2686 - val_loss: 4200.4678 - val_mae: 4200.4678\n",
      "Epoch 83/200\n",
      "34/34 [==============================] - 0s 860us/step - loss: 4350.9116 - mae: 4350.9116 - val_loss: 4179.2983 - val_mae: 4179.2983\n",
      "Epoch 84/200\n",
      "34/34 [==============================] - 0s 895us/step - loss: 4334.5269 - mae: 4334.5269 - val_loss: 4163.7363 - val_mae: 4163.7363\n",
      "Epoch 85/200\n",
      "34/34 [==============================] - 0s 854us/step - loss: 4319.2744 - mae: 4319.2744 - val_loss: 4145.2305 - val_mae: 4145.2305\n",
      "Epoch 86/200\n",
      "34/34 [==============================] - 0s 846us/step - loss: 4301.5942 - mae: 4301.5942 - val_loss: 4129.9146 - val_mae: 4129.9146\n",
      "Epoch 87/200\n",
      "34/34 [==============================] - 0s 833us/step - loss: 4284.7144 - mae: 4284.7144 - val_loss: 4112.2603 - val_mae: 4112.2603\n",
      "Epoch 88/200\n",
      "34/34 [==============================] - 0s 859us/step - loss: 4266.9937 - mae: 4266.9937 - val_loss: 4094.3079 - val_mae: 4094.3079\n",
      "Epoch 89/200\n",
      "34/34 [==============================] - 0s 872us/step - loss: 4249.6040 - mae: 4249.6040 - val_loss: 4074.0605 - val_mae: 4074.0605\n",
      "Epoch 90/200\n",
      "34/34 [==============================] - 0s 867us/step - loss: 4233.9956 - mae: 4233.9956 - val_loss: 4059.6748 - val_mae: 4059.6748\n",
      "Epoch 91/200\n",
      "34/34 [==============================] - 0s 856us/step - loss: 4214.5371 - mae: 4214.5371 - val_loss: 4037.6689 - val_mae: 4037.6689\n",
      "Epoch 92/200\n",
      "34/34 [==============================] - 0s 955us/step - loss: 4198.1411 - mae: 4198.1411 - val_loss: 4021.1096 - val_mae: 4021.1096\n",
      "Epoch 93/200\n",
      "34/34 [==============================] - 0s 865us/step - loss: 4177.8657 - mae: 4177.8657 - val_loss: 4002.7019 - val_mae: 4002.7019\n",
      "Epoch 94/200\n",
      "34/34 [==============================] - 0s 848us/step - loss: 4159.8911 - mae: 4159.8911 - val_loss: 3981.3320 - val_mae: 3981.3320\n",
      "Epoch 95/200\n",
      "34/34 [==============================] - 0s 861us/step - loss: 4141.3149 - mae: 4141.3149 - val_loss: 3962.9006 - val_mae: 3962.9006\n",
      "Epoch 96/200\n",
      "34/34 [==============================] - 0s 869us/step - loss: 4121.4126 - mae: 4121.4126 - val_loss: 3940.9072 - val_mae: 3940.9072\n",
      "Epoch 97/200\n",
      "34/34 [==============================] - 0s 869us/step - loss: 4102.3369 - mae: 4102.3369 - val_loss: 3919.9626 - val_mae: 3919.9626\n",
      "Epoch 98/200\n",
      "34/34 [==============================] - 0s 1ms/step - loss: 4082.5132 - mae: 4082.5132 - val_loss: 3899.8823 - val_mae: 3899.8823\n",
      "Epoch 99/200\n",
      "34/34 [==============================] - 0s 1ms/step - loss: 4061.9907 - mae: 4061.9907 - val_loss: 3878.0005 - val_mae: 3878.0005\n",
      "Epoch 100/200\n",
      "34/34 [==============================] - 0s 849us/step - loss: 4041.7893 - mae: 4041.7893 - val_loss: 3856.0483 - val_mae: 3856.0483\n",
      "Epoch 101/200\n",
      "34/34 [==============================] - 0s 863us/step - loss: 4021.6809 - mae: 4021.6809 - val_loss: 3837.8462 - val_mae: 3837.8462\n",
      "Epoch 102/200\n",
      "34/34 [==============================] - 0s 839us/step - loss: 3999.7080 - mae: 3999.7080 - val_loss: 3814.9292 - val_mae: 3814.9292\n",
      "Epoch 103/200\n",
      "34/34 [==============================] - 0s 837us/step - loss: 3978.8645 - mae: 3978.8645 - val_loss: 3790.3408 - val_mae: 3790.3408\n",
      "Epoch 104/200\n",
      "34/34 [==============================] - 0s 848us/step - loss: 3957.1440 - mae: 3957.1440 - val_loss: 3772.5688 - val_mae: 3772.5688\n",
      "Epoch 105/200\n",
      "34/34 [==============================] - 0s 876us/step - loss: 3936.6494 - mae: 3936.6494 - val_loss: 3748.3992 - val_mae: 3748.3992\n",
      "Epoch 106/200\n",
      "34/34 [==============================] - 0s 861us/step - loss: 3913.3833 - mae: 3913.3833 - val_loss: 3725.1797 - val_mae: 3725.1797\n",
      "Epoch 107/200\n",
      "34/34 [==============================] - 0s 852us/step - loss: 3892.0835 - mae: 3892.0835 - val_loss: 3703.7434 - val_mae: 3703.7434\n",
      "Epoch 108/200\n",
      "34/34 [==============================] - 0s 836us/step - loss: 3870.2622 - mae: 3870.2622 - val_loss: 3678.9961 - val_mae: 3678.9961\n",
      "Epoch 109/200\n",
      "34/34 [==============================] - 0s 841us/step - loss: 3847.0374 - mae: 3847.0374 - val_loss: 3658.5637 - val_mae: 3658.5637\n",
      "Epoch 110/200\n",
      "34/34 [==============================] - 0s 875us/step - loss: 3823.0576 - mae: 3823.0576 - val_loss: 3631.0493 - val_mae: 3631.0493\n",
      "Epoch 111/200\n",
      "34/34 [==============================] - 0s 874us/step - loss: 3801.2734 - mae: 3801.2734 - val_loss: 3607.6553 - val_mae: 3607.6553\n",
      "Epoch 112/200\n",
      "34/34 [==============================] - 0s 868us/step - loss: 3776.0471 - mae: 3776.0471 - val_loss: 3584.8064 - val_mae: 3584.8062\n",
      "Epoch 113/200\n",
      "34/34 [==============================] - 0s 966us/step - loss: 3752.2458 - mae: 3752.2458 - val_loss: 3557.4094 - val_mae: 3557.4094\n",
      "Epoch 114/200\n",
      "34/34 [==============================] - 0s 879us/step - loss: 3728.1367 - mae: 3728.1367 - val_loss: 3531.3064 - val_mae: 3531.3064\n",
      "Epoch 115/200\n",
      "34/34 [==============================] - 0s 853us/step - loss: 3703.9946 - mae: 3703.9946 - val_loss: 3510.1860 - val_mae: 3510.1860\n",
      "Epoch 116/200\n",
      "34/34 [==============================] - 0s 853us/step - loss: 3680.9158 - mae: 3680.9158 - val_loss: 3487.2314 - val_mae: 3487.2314\n",
      "Epoch 117/200\n",
      "34/34 [==============================] - 0s 871us/step - loss: 3656.2183 - mae: 3656.2183 - val_loss: 3461.7935 - val_mae: 3461.7935\n",
      "Epoch 118/200\n",
      "34/34 [==============================] - 0s 867us/step - loss: 3631.9814 - mae: 3631.9814 - val_loss: 3438.0461 - val_mae: 3438.0461\n",
      "Epoch 119/200\n",
      "34/34 [==============================] - 0s 861us/step - loss: 3609.3147 - mae: 3609.3147 - val_loss: 3412.8030 - val_mae: 3412.8030\n",
      "Epoch 120/200\n",
      "34/34 [==============================] - 0s 858us/step - loss: 3580.6343 - mae: 3580.6343 - val_loss: 3385.6206 - val_mae: 3385.6206\n",
      "Epoch 121/200\n",
      "34/34 [==============================] - 0s 844us/step - loss: 3556.3789 - mae: 3556.3789 - val_loss: 3365.7847 - val_mae: 3365.7847\n",
      "Epoch 122/200\n",
      "34/34 [==============================] - 0s 853us/step - loss: 3537.1887 - mae: 3537.1887 - val_loss: 3348.5486 - val_mae: 3348.5486\n",
      "Epoch 123/200\n",
      "34/34 [==============================] - 0s 874us/step - loss: 3518.3369 - mae: 3518.3369 - val_loss: 3330.2571 - val_mae: 3330.2571\n",
      "Epoch 124/200\n",
      "34/34 [==============================] - 0s 870us/step - loss: 3500.7527 - mae: 3500.7527 - val_loss: 3311.8489 - val_mae: 3311.8489\n",
      "Epoch 125/200\n",
      "34/34 [==============================] - 0s 847us/step - loss: 3484.4192 - mae: 3484.4192 - val_loss: 3295.1665 - val_mae: 3295.1665\n",
      "Epoch 126/200\n",
      "34/34 [==============================] - 0s 870us/step - loss: 3467.3074 - mae: 3467.3074 - val_loss: 3280.4143 - val_mae: 3280.4143\n",
      "Epoch 127/200\n",
      "34/34 [==============================] - 0s 858us/step - loss: 3452.6506 - mae: 3452.6506 - val_loss: 3267.6431 - val_mae: 3267.6431\n",
      "Epoch 128/200\n",
      "34/34 [==============================] - 0s 1ms/step - loss: 3438.2881 - mae: 3438.2881 - val_loss: 3252.2605 - val_mae: 3252.2605\n",
      "Epoch 129/200\n",
      "34/34 [==============================] - 0s 1ms/step - loss: 3425.1470 - mae: 3425.1470 - val_loss: 3242.8210 - val_mae: 3242.8210\n",
      "Epoch 130/200\n",
      "34/34 [==============================] - 0s 842us/step - loss: 3411.2942 - mae: 3411.2942 - val_loss: 3232.1382 - val_mae: 3232.1382\n",
      "Epoch 131/200\n",
      "34/34 [==============================] - 0s 855us/step - loss: 3400.1016 - mae: 3400.1016 - val_loss: 3221.2859 - val_mae: 3221.2859\n",
      "Epoch 132/200\n",
      "34/34 [==============================] - 0s 860us/step - loss: 3390.4187 - mae: 3390.4187 - val_loss: 3213.6697 - val_mae: 3213.6697\n",
      "Epoch 133/200\n",
      "34/34 [==============================] - 0s 852us/step - loss: 3381.1982 - mae: 3381.1982 - val_loss: 3206.5232 - val_mae: 3206.5232\n",
      "Epoch 134/200\n",
      "34/34 [==============================] - 0s 958us/step - loss: 3373.0151 - mae: 3373.0151 - val_loss: 3200.6145 - val_mae: 3200.6145\n",
      "Epoch 135/200\n",
      "34/34 [==============================] - 0s 856us/step - loss: 3365.2402 - mae: 3365.2402 - val_loss: 3195.5754 - val_mae: 3195.5754\n",
      "Epoch 136/200\n",
      "34/34 [==============================] - 0s 860us/step - loss: 3357.1687 - mae: 3357.1687 - val_loss: 3188.9673 - val_mae: 3188.9673\n",
      "Epoch 137/200\n",
      "34/34 [==============================] - 0s 861us/step - loss: 3351.3091 - mae: 3351.3091 - val_loss: 3184.2766 - val_mae: 3184.2766\n",
      "Epoch 138/200\n",
      "34/34 [==============================] - 0s 870us/step - loss: 3345.1284 - mae: 3345.1284 - val_loss: 3183.1509 - val_mae: 3183.1509\n",
      "Epoch 139/200\n",
      "34/34 [==============================] - 0s 865us/step - loss: 3339.0537 - mae: 3339.0537 - val_loss: 3178.9924 - val_mae: 3178.9924\n",
      "Epoch 140/200\n",
      "34/34 [==============================] - 0s 862us/step - loss: 3333.7456 - mae: 3333.7456 - val_loss: 3176.6167 - val_mae: 3176.6167\n",
      "Epoch 141/200\n",
      "34/34 [==============================] - 0s 816us/step - loss: 3328.4116 - mae: 3328.4116 - val_loss: 3173.4524 - val_mae: 3173.4524\n",
      "Epoch 142/200\n",
      "34/34 [==============================] - 0s 851us/step - loss: 3322.6968 - mae: 3322.6968 - val_loss: 3171.5808 - val_mae: 3171.5808\n",
      "Epoch 143/200\n",
      "34/34 [==============================] - 0s 863us/step - loss: 3317.9102 - mae: 3317.9102 - val_loss: 3168.7056 - val_mae: 3168.7056\n",
      "Epoch 144/200\n",
      "34/34 [==============================] - 0s 894us/step - loss: 3312.8013 - mae: 3312.8013 - val_loss: 3166.1606 - val_mae: 3166.1606\n",
      "Epoch 145/200\n",
      "34/34 [==============================] - 0s 867us/step - loss: 3308.8513 - mae: 3308.8513 - val_loss: 3164.3635 - val_mae: 3164.3635\n",
      "Epoch 146/200\n",
      "34/34 [==============================] - 0s 841us/step - loss: 3305.4043 - mae: 3305.4043 - val_loss: 3162.2832 - val_mae: 3162.2832\n",
      "Epoch 147/200\n",
      "34/34 [==============================] - 0s 856us/step - loss: 3300.8440 - mae: 3300.8440 - val_loss: 3161.3672 - val_mae: 3161.3672\n",
      "Epoch 148/200\n",
      "34/34 [==============================] - 0s 862us/step - loss: 3297.9685 - mae: 3297.9685 - val_loss: 3159.3591 - val_mae: 3159.3591\n",
      "Epoch 149/200\n",
      "34/34 [==============================] - 0s 862us/step - loss: 3292.9421 - mae: 3292.9421 - val_loss: 3157.5850 - val_mae: 3157.5850\n",
      "Epoch 150/200\n",
      "34/34 [==============================] - 0s 846us/step - loss: 3289.5823 - mae: 3289.5823 - val_loss: 3155.4968 - val_mae: 3155.4968\n",
      "Epoch 151/200\n",
      "34/34 [==============================] - 0s 842us/step - loss: 3286.8699 - mae: 3286.8699 - val_loss: 3154.3411 - val_mae: 3154.3411\n",
      "Epoch 152/200\n",
      "34/34 [==============================] - 0s 857us/step - loss: 3283.8440 - mae: 3283.8440 - val_loss: 3152.3208 - val_mae: 3152.3208\n",
      "Epoch 153/200\n",
      "34/34 [==============================] - 0s 862us/step - loss: 3281.2261 - mae: 3281.2261 - val_loss: 3151.8098 - val_mae: 3151.8098\n",
      "Epoch 154/200\n",
      "34/34 [==============================] - 0s 873us/step - loss: 3278.8804 - mae: 3278.8804 - val_loss: 3149.8362 - val_mae: 3149.8362\n",
      "Epoch 155/200\n",
      "34/34 [==============================] - 0s 866us/step - loss: 3276.4146 - mae: 3276.4146 - val_loss: 3150.3862 - val_mae: 3150.3862\n",
      "Epoch 156/200\n",
      "34/34 [==============================] - 0s 943us/step - loss: 3272.3035 - mae: 3272.3035 - val_loss: 3149.3936 - val_mae: 3149.3936\n",
      "Epoch 157/200\n",
      "34/34 [==============================] - 0s 1ms/step - loss: 3269.9478 - mae: 3269.9478 - val_loss: 3147.4578 - val_mae: 3147.4578\n",
      "Epoch 158/200\n",
      "34/34 [==============================] - 0s 1ms/step - loss: 3267.4246 - mae: 3267.4246 - val_loss: 3147.9585 - val_mae: 3147.9585\n",
      "Epoch 159/200\n",
      "34/34 [==============================] - 0s 863us/step - loss: 3264.5847 - mae: 3264.5847 - val_loss: 3145.2656 - val_mae: 3145.2656\n",
      "Epoch 160/200\n",
      "34/34 [==============================] - 0s 865us/step - loss: 3263.4104 - mae: 3263.4104 - val_loss: 3145.0017 - val_mae: 3145.0017\n",
      "Epoch 161/200\n",
      "34/34 [==============================] - 0s 868us/step - loss: 3259.7886 - mae: 3259.7886 - val_loss: 3144.6648 - val_mae: 3144.6648\n",
      "Epoch 162/200\n",
      "34/34 [==============================] - 0s 854us/step - loss: 3257.6174 - mae: 3257.6174 - val_loss: 3144.3003 - val_mae: 3144.3003\n",
      "Epoch 163/200\n",
      "34/34 [==============================] - 0s 840us/step - loss: 3256.5435 - mae: 3256.5435 - val_loss: 3143.3032 - val_mae: 3143.3032\n",
      "Epoch 164/200\n",
      "34/34 [==============================] - 0s 866us/step - loss: 3253.3481 - mae: 3253.3481 - val_loss: 3143.8247 - val_mae: 3143.8247\n",
      "Epoch 165/200\n",
      "34/34 [==============================] - 0s 873us/step - loss: 3250.1853 - mae: 3250.1853 - val_loss: 3141.7568 - val_mae: 3141.7568\n",
      "Epoch 166/200\n",
      "34/34 [==============================] - 0s 868us/step - loss: 3248.3706 - mae: 3248.3706 - val_loss: 3141.8887 - val_mae: 3141.8887\n",
      "Epoch 167/200\n",
      "34/34 [==============================] - 0s 849us/step - loss: 3246.4539 - mae: 3246.4539 - val_loss: 3140.6255 - val_mae: 3140.6255\n",
      "Epoch 168/200\n",
      "34/34 [==============================] - 0s 851us/step - loss: 3244.9744 - mae: 3244.9744 - val_loss: 3141.1338 - val_mae: 3141.1338\n",
      "Epoch 169/200\n",
      "34/34 [==============================] - 0s 863us/step - loss: 3241.9966 - mae: 3241.9966 - val_loss: 3140.5459 - val_mae: 3140.5459\n",
      "Epoch 170/200\n",
      "34/34 [==============================] - 0s 859us/step - loss: 3240.1008 - mae: 3240.1008 - val_loss: 3139.9045 - val_mae: 3139.9045\n",
      "Epoch 171/200\n",
      "34/34 [==============================] - 0s 884us/step - loss: 3238.4971 - mae: 3238.4971 - val_loss: 3138.9131 - val_mae: 3138.9131\n",
      "Epoch 172/200\n",
      "34/34 [==============================] - 0s 867us/step - loss: 3236.5098 - mae: 3236.5098 - val_loss: 3138.0320 - val_mae: 3138.0320\n",
      "Epoch 173/200\n",
      "34/34 [==============================] - 0s 850us/step - loss: 3235.1592 - mae: 3235.1592 - val_loss: 3136.0410 - val_mae: 3136.0410\n",
      "Epoch 174/200\n",
      "34/34 [==============================] - 0s 829us/step - loss: 3232.5095 - mae: 3232.5095 - val_loss: 3137.7827 - val_mae: 3137.7827\n",
      "Epoch 175/200\n",
      "34/34 [==============================] - 0s 859us/step - loss: 3230.2119 - mae: 3230.2119 - val_loss: 3136.7852 - val_mae: 3136.7852\n",
      "Epoch 176/200\n",
      "34/34 [==============================] - 0s 874us/step - loss: 3229.8052 - mae: 3229.8052 - val_loss: 3135.5066 - val_mae: 3135.5066\n",
      "Epoch 177/200\n",
      "34/34 [==============================] - 0s 860us/step - loss: 3229.0603 - mae: 3229.0603 - val_loss: 3135.1484 - val_mae: 3135.1484\n",
      "Epoch 178/200\n",
      "34/34 [==============================] - 0s 985us/step - loss: 3227.2834 - mae: 3227.2834 - val_loss: 3135.8479 - val_mae: 3135.8479\n",
      "Epoch 179/200\n",
      "34/34 [==============================] - 0s 881us/step - loss: 3225.5522 - mae: 3225.5522 - val_loss: 3135.1926 - val_mae: 3135.1926\n",
      "Epoch 180/200\n",
      "34/34 [==============================] - 0s 862us/step - loss: 3220.8337 - mae: 3220.8337 - val_loss: 3134.1248 - val_mae: 3134.1248\n",
      "Epoch 181/200\n",
      "34/34 [==============================] - 0s 838us/step - loss: 3219.8220 - mae: 3219.8220 - val_loss: 3135.4187 - val_mae: 3135.4187\n",
      "Epoch 182/200\n",
      "34/34 [==============================] - 0s 1ms/step - loss: 3217.2927 - mae: 3217.2927 - val_loss: 3132.8745 - val_mae: 3132.8745\n",
      "Epoch 183/200\n",
      "34/34 [==============================] - 0s 1ms/step - loss: 3214.6614 - mae: 3214.6614 - val_loss: 3133.1575 - val_mae: 3133.1575\n",
      "Epoch 184/200\n",
      "34/34 [==============================] - 0s 821us/step - loss: 3213.9780 - mae: 3213.9780 - val_loss: 3132.8713 - val_mae: 3132.8713\n",
      "Epoch 185/200\n",
      "34/34 [==============================] - 0s 853us/step - loss: 3211.2388 - mae: 3211.2388 - val_loss: 3132.0369 - val_mae: 3132.0369\n",
      "Epoch 186/200\n",
      "34/34 [==============================] - 0s 860us/step - loss: 3209.3193 - mae: 3209.3193 - val_loss: 3131.5356 - val_mae: 3131.5356\n",
      "Epoch 187/200\n",
      "34/34 [==============================] - 0s 867us/step - loss: 3207.7935 - mae: 3207.7935 - val_loss: 3131.4763 - val_mae: 3131.4763\n",
      "Epoch 188/200\n",
      "34/34 [==============================] - 0s 855us/step - loss: 3205.2324 - mae: 3205.2324 - val_loss: 3131.0681 - val_mae: 3131.0681\n",
      "Epoch 189/200\n",
      "34/34 [==============================] - 0s 842us/step - loss: 3203.8247 - mae: 3203.8247 - val_loss: 3130.5422 - val_mae: 3130.5422\n",
      "Epoch 190/200\n",
      "34/34 [==============================] - 0s 860us/step - loss: 3201.6035 - mae: 3201.6035 - val_loss: 3130.6233 - val_mae: 3130.6233\n",
      "Epoch 191/200\n",
      "34/34 [==============================] - 0s 883us/step - loss: 3205.0154 - mae: 3205.0154 - val_loss: 3129.7327 - val_mae: 3129.7327\n",
      "Epoch 192/200\n",
      "34/34 [==============================] - 0s 884us/step - loss: 3197.4321 - mae: 3197.4321 - val_loss: 3129.3816 - val_mae: 3129.3816\n",
      "Epoch 193/200\n",
      "34/34 [==============================] - 0s 869us/step - loss: 3197.4136 - mae: 3197.4136 - val_loss: 3129.1138 - val_mae: 3129.1138\n",
      "Epoch 194/200\n",
      "34/34 [==============================] - 0s 857us/step - loss: 3193.5530 - mae: 3193.5530 - val_loss: 3129.1890 - val_mae: 3129.1890\n",
      "Epoch 195/200\n",
      "34/34 [==============================] - 0s 849us/step - loss: 3192.2207 - mae: 3192.2207 - val_loss: 3129.0317 - val_mae: 3129.0317\n",
      "Epoch 196/200\n",
      "34/34 [==============================] - 0s 863us/step - loss: 3190.7908 - mae: 3190.7908 - val_loss: 3127.5518 - val_mae: 3127.5518\n",
      "Epoch 197/200\n",
      "34/34 [==============================] - 0s 864us/step - loss: 3187.5881 - mae: 3187.5881 - val_loss: 3128.1133 - val_mae: 3128.1133\n",
      "Epoch 198/200\n",
      "34/34 [==============================] - 0s 867us/step - loss: 3186.9482 - mae: 3186.9482 - val_loss: 3127.5476 - val_mae: 3127.5476\n",
      "Epoch 199/200\n",
      "34/34 [==============================] - 0s 853us/step - loss: 3184.3564 - mae: 3184.3564 - val_loss: 3127.5579 - val_mae: 3127.5579\n",
      "Epoch 200/200\n",
      "34/34 [==============================] - 0s 1ms/step - loss: 3183.3091 - mae: 3183.3091 - val_loss: 3127.3020 - val_mae: 3127.3020\n"
     ]
    }
   ],
   "source": [
    "history3 = model_5.fit(X_train_normal, y_train,\n",
    "                      validation_data = (X_test_normal, y_test),\n",
    "                        epochs=200,\n",
    "                        )"
   ]
  },
  {
   "cell_type": "code",
   "execution_count": 154,
   "metadata": {},
   "outputs": [
    {
     "data": {
      "image/png": "[encoded data removed]",
      "text/plain": [
       "<Figure size 640x480 with 1 Axes>"
      ]
     },
     "metadata": {},
     "output_type": "display_data"
    },
    {
     "data": {
      "image/png": "[encoded data removed]",
      "text/plain": [
       "<Figure size 640x480 with 1 Axes>"
      ]
     },
     "metadata": {},
     "output_type": "display_data"
    }
   ],
   "source": [
    "plot_history(history3)"
   ]
  },
  {
   "cell_type": "code",
   "execution_count": 155,
   "metadata": {},
   "outputs": [
    {
     "name": "stdout",
     "output_type": "stream",
     "text": [
      "9/9 [==============================] - 0s 585us/step - loss: 3127.3020 - mae: 3127.3020\n"
     ]
    },
    {
     "data": {
      "text/plain": [
       "[3127.302001953125, 3127.302001953125]"
      ]
     },
     "execution_count": 155,
     "metadata": {},
     "output_type": "execute_result"
    }
   ],
   "source": [
    "model_5.evaluate(X_test_normal, y_test)"
   ]
  },
  {
   "cell_type": "code",
   "execution_count": 159,
   "metadata": {},
   "outputs": [
    {
     "name": "stdout",
     "output_type": "stream",
     "text": [
      "9/9 [==============================] - 0s 553us/step\n"
     ]
    }
   ],
   "source": [
    "from sklearn.metrics import r2_score\n",
    "y_pred_5 = model_5.predict(X_test_normal)"
   ]
  },
  {
   "cell_type": "code",
   "execution_count": 160,
   "metadata": {},
   "outputs": [
    {
     "data": {
      "text/plain": [
       "0.7440318358592388"
      ]
     },
     "execution_count": 160,
     "metadata": {},
     "output_type": "execute_result"
    }
   ],
   "source": [
    "scores = r2_score(y_test, y_pred_5)\n",
    "scores"
   ]
  },
  {
   "cell_type": "code",
   "execution_count": null,
   "metadata": {},
   "outputs": [],
   "source": []
  }
 ],
 "metadata": {
  "kernelspec": {
   "display_name": "Python 3 (ipykernel)",
   "language": "python",
   "name": "python3"
  },
  "language_info": {
   "codemirror_mode": {
    "name": "ipython",
    "version": 3
   },
   "file_extension": ".py",
   "mimetype": "text/x-python",
   "name": "python",
   "nbconvert_exporter": "python",
   "pygments_lexer": "ipython3",
   "version": "3.9.15"
  },
  "toc": {
   "base_numbering": 1,
   "nav_menu": {},
   "number_sections": false,
   "sideBar": true,
   "skip_h1_title": false,
   "title_cell": "Table of Contents",
   "title_sidebar": "Contents",
   "toc_cell": false,
   "toc_position": {},
   "toc_section_display": true,
   "toc_window_display": false
  }
 },
 "nbformat": 4,
 "nbformat_minor": 2
}
