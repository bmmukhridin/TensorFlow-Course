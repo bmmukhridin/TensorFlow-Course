{
  "nbformat": 4,
  "nbformat_minor": 0,
  "metadata": {
    "colab": {
      "provenance": [],
      "mount_file_id": "1tL_PvIeIv7M-L5kZceB0pXpXjosprz3L",
      "authorship_tag": "ABX9TyMQaSK0qYA6yxek3XmfVzE0",
      "include_colab_link": true
    },
    "kernelspec": {
      "name": "python3",
      "display_name": "Python 3"
    },
    "language_info": {
      "name": "python"
    }
  },
  "cells": [
    {
      "cell_type": "markdown",
      "metadata": {
        "id": "view-in-github",
        "colab_type": "text"
      },
      "source": [
        "<a href=\"https://colab.research.google.com/github/bmmukhridin/TensorFlow-Course/blob/main/Simple_Neural_Network_Exercise.ipynb\" target=\"_parent\"><img src=\"https://colab.research.google.com/assets/colab-badge.svg\" alt=\"Open In Colab\"/></a>"
      ]
    },
    {
      "cell_type": "code",
      "execution_count": 19,
      "metadata": {
        "id": "2HZLLxs6MxxC"
      },
      "outputs": [],
      "source": [
        "import pandas as pd\n",
        "import numpy as np\n",
        "\n",
        "import matplotlib.pyplot as plt\n",
        "from seaborn import heatmap\n",
        "\n",
        "from sklearn.metrics import mean_absolute_error, r2_score, \\\n",
        "mean_squared_error, precision_score, recall_score, accuracy_score, f1_score, \\\n",
        "ConfusionMatrixDisplay, classification_report\n",
        "from sklearn.preprocessing import MinMaxScaler, StandardScaler, OneHotEncoder\n",
        "from sklearn.model_selection import train_test_split\n",
        "from sklearn.pipeline import make_pipeline\n",
        "from sklearn.compose import make_column_selector, make_column_transformer\n",
        "\n",
        "# new libraries\n",
        "import tensorflow as tf\n",
        "import tensorflow.keras as keras\n",
        "from keras.models import Sequential\n",
        "from keras.layers import Dense\n",
        "\n",
        "# This is used to overcome an issue with setting up tensorflow in M1/M1 \n",
        "# Suspect tensorflow-macos not very fit with GPU, use CPU only with\n",
        "tf.config.set_visible_devices([], 'GPU')\n",
        "\n",
        "# Set random seeds for consistent outcomes\n",
        "keras.backend.clear_session()\n",
        "np.random.seed(42)\n",
        "tf.random.set_seed(42)"
      ]
    },
    {
      "cell_type": "code",
      "source": [
        "df = pd.read_csv(\"/content/drive/MyDrive/Colab Notebooks/week 11/heart - heart.csv\")\n",
        "df.head()"
      ],
      "metadata": {
        "colab": {
          "base_uri": "https://localhost:8080/",
          "height": 204
        },
        "id": "bFywORjVM976",
        "outputId": "02526b2d-d6e9-492d-f715-e976c0505c87"
      },
      "execution_count": 48,
      "outputs": [
        {
          "output_type": "execute_result",
          "data": {
            "text/plain": [
              "   Age Sex ChestPainType  RestingBP  Cholesterol  FastingBS RestingECG  MaxHR  \\\n",
              "0   40   M           ATA        140          289          0     Normal    172   \n",
              "1   49   F           NAP        160          180          0     Normal    156   \n",
              "2   37   M           ATA        130          283          0         ST     98   \n",
              "3   48   F           ASY        138          214          0     Normal    108   \n",
              "4   54   M           NAP        150          195          0     Normal    122   \n",
              "\n",
              "  ExerciseAngina  Oldpeak ST_Slope  HeartDisease  \n",
              "0              N      0.0       Up             0  \n",
              "1              N      1.0     Flat             1  \n",
              "2              N      0.0       Up             0  \n",
              "3              Y      1.5     Flat             1  \n",
              "4              N      0.0       Up             0  "
            ],
            "text/html": [
              "\n",
              "  <div id=\"df-b8cb667f-25a3-4f32-989c-a676d37fabc1\">\n",
              "    <div class=\"colab-df-container\">\n",
              "      <div>\n",
              "<style scoped>\n",
              "    .dataframe tbody tr th:only-of-type {\n",
              "        vertical-align: middle;\n",
              "    }\n",
              "\n",
              "    .dataframe tbody tr th {\n",
              "        vertical-align: top;\n",
              "    }\n",
              "\n",
              "    .dataframe thead th {\n",
              "        text-align: right;\n",
              "    }\n",
              "</style>\n",
              "<table border=\"1\" class=\"dataframe\">\n",
              "  <thead>\n",
              "    <tr style=\"text-align: right;\">\n",
              "      <th></th>\n",
              "      <th>Age</th>\n",
              "      <th>Sex</th>\n",
              "      <th>ChestPainType</th>\n",
              "      <th>RestingBP</th>\n",
              "      <th>Cholesterol</th>\n",
              "      <th>FastingBS</th>\n",
              "      <th>RestingECG</th>\n",
              "      <th>MaxHR</th>\n",
              "      <th>ExerciseAngina</th>\n",
              "      <th>Oldpeak</th>\n",
              "      <th>ST_Slope</th>\n",
              "      <th>HeartDisease</th>\n",
              "    </tr>\n",
              "  </thead>\n",
              "  <tbody>\n",
              "    <tr>\n",
              "      <th>0</th>\n",
              "      <td>40</td>\n",
              "      <td>M</td>\n",
              "      <td>ATA</td>\n",
              "      <td>140</td>\n",
              "      <td>289</td>\n",
              "      <td>0</td>\n",
              "      <td>Normal</td>\n",
              "      <td>172</td>\n",
              "      <td>N</td>\n",
              "      <td>0.0</td>\n",
              "      <td>Up</td>\n",
              "      <td>0</td>\n",
              "    </tr>\n",
              "    <tr>\n",
              "      <th>1</th>\n",
              "      <td>49</td>\n",
              "      <td>F</td>\n",
              "      <td>NAP</td>\n",
              "      <td>160</td>\n",
              "      <td>180</td>\n",
              "      <td>0</td>\n",
              "      <td>Normal</td>\n",
              "      <td>156</td>\n",
              "      <td>N</td>\n",
              "      <td>1.0</td>\n",
              "      <td>Flat</td>\n",
              "      <td>1</td>\n",
              "    </tr>\n",
              "    <tr>\n",
              "      <th>2</th>\n",
              "      <td>37</td>\n",
              "      <td>M</td>\n",
              "      <td>ATA</td>\n",
              "      <td>130</td>\n",
              "      <td>283</td>\n",
              "      <td>0</td>\n",
              "      <td>ST</td>\n",
              "      <td>98</td>\n",
              "      <td>N</td>\n",
              "      <td>0.0</td>\n",
              "      <td>Up</td>\n",
              "      <td>0</td>\n",
              "    </tr>\n",
              "    <tr>\n",
              "      <th>3</th>\n",
              "      <td>48</td>\n",
              "      <td>F</td>\n",
              "      <td>ASY</td>\n",
              "      <td>138</td>\n",
              "      <td>214</td>\n",
              "      <td>0</td>\n",
              "      <td>Normal</td>\n",
              "      <td>108</td>\n",
              "      <td>Y</td>\n",
              "      <td>1.5</td>\n",
              "      <td>Flat</td>\n",
              "      <td>1</td>\n",
              "    </tr>\n",
              "    <tr>\n",
              "      <th>4</th>\n",
              "      <td>54</td>\n",
              "      <td>M</td>\n",
              "      <td>NAP</td>\n",
              "      <td>150</td>\n",
              "      <td>195</td>\n",
              "      <td>0</td>\n",
              "      <td>Normal</td>\n",
              "      <td>122</td>\n",
              "      <td>N</td>\n",
              "      <td>0.0</td>\n",
              "      <td>Up</td>\n",
              "      <td>0</td>\n",
              "    </tr>\n",
              "  </tbody>\n",
              "</table>\n",
              "</div>\n",
              "      <button class=\"colab-df-convert\" onclick=\"convertToInteractive('df-b8cb667f-25a3-4f32-989c-a676d37fabc1')\"\n",
              "              title=\"Convert this dataframe to an interactive table.\"\n",
              "              style=\"display:none;\">\n",
              "        \n",
              "  <svg xmlns=\"http://www.w3.org/2000/svg\" height=\"24px\"viewBox=\"0 0 24 24\"\n",
              "       width=\"24px\">\n",
              "    <path d=\"M0 0h24v24H0V0z\" fill=\"none\"/>\n",
              "    <path d=\"M18.56 5.44l.94 2.06.94-2.06 2.06-.94-2.06-.94-.94-2.06-.94 2.06-2.06.94zm-11 1L8.5 8.5l.94-2.06 2.06-.94-2.06-.94L8.5 2.5l-.94 2.06-2.06.94zm10 10l.94 2.06.94-2.06 2.06-.94-2.06-.94-.94-2.06-.94 2.06-2.06.94z\"/><path d=\"M17.41 7.96l-1.37-1.37c-.4-.4-.92-.59-1.43-.59-.52 0-1.04.2-1.43.59L10.3 9.45l-7.72 7.72c-.78.78-.78 2.05 0 2.83L4 21.41c.39.39.9.59 1.41.59.51 0 1.02-.2 1.41-.59l7.78-7.78 2.81-2.81c.8-.78.8-2.07 0-2.86zM5.41 20L4 18.59l7.72-7.72 1.47 1.35L5.41 20z\"/>\n",
              "  </svg>\n",
              "      </button>\n",
              "      \n",
              "  <style>\n",
              "    .colab-df-container {\n",
              "      display:flex;\n",
              "      flex-wrap:wrap;\n",
              "      gap: 12px;\n",
              "    }\n",
              "\n",
              "    .colab-df-convert {\n",
              "      background-color: #E8F0FE;\n",
              "      border: none;\n",
              "      border-radius: 50%;\n",
              "      cursor: pointer;\n",
              "      display: none;\n",
              "      fill: #1967D2;\n",
              "      height: 32px;\n",
              "      padding: 0 0 0 0;\n",
              "      width: 32px;\n",
              "    }\n",
              "\n",
              "    .colab-df-convert:hover {\n",
              "      background-color: #E2EBFA;\n",
              "      box-shadow: 0px 1px 2px rgba(60, 64, 67, 0.3), 0px 1px 3px 1px rgba(60, 64, 67, 0.15);\n",
              "      fill: #174EA6;\n",
              "    }\n",
              "\n",
              "    [theme=dark] .colab-df-convert {\n",
              "      background-color: #3B4455;\n",
              "      fill: #D2E3FC;\n",
              "    }\n",
              "\n",
              "    [theme=dark] .colab-df-convert:hover {\n",
              "      background-color: #434B5C;\n",
              "      box-shadow: 0px 1px 3px 1px rgba(0, 0, 0, 0.15);\n",
              "      filter: drop-shadow(0px 1px 2px rgba(0, 0, 0, 0.3));\n",
              "      fill: #FFFFFF;\n",
              "    }\n",
              "  </style>\n",
              "\n",
              "      <script>\n",
              "        const buttonEl =\n",
              "          document.querySelector('#df-b8cb667f-25a3-4f32-989c-a676d37fabc1 button.colab-df-convert');\n",
              "        buttonEl.style.display =\n",
              "          google.colab.kernel.accessAllowed ? 'block' : 'none';\n",
              "\n",
              "        async function convertToInteractive(key) {\n",
              "          const element = document.querySelector('#df-b8cb667f-25a3-4f32-989c-a676d37fabc1');\n",
              "          const dataTable =\n",
              "            await google.colab.kernel.invokeFunction('convertToInteractive',\n",
              "                                                     [key], {});\n",
              "          if (!dataTable) return;\n",
              "\n",
              "          const docLinkHtml = 'Like what you see? Visit the ' +\n",
              "            '<a target=\"_blank\" href=https://colab.research.google.com/notebooks/data_table.ipynb>data table notebook</a>'\n",
              "            + ' to learn more about interactive tables.';\n",
              "          element.innerHTML = '';\n",
              "          dataTable['output_type'] = 'display_data';\n",
              "          await google.colab.output.renderOutput(dataTable, element);\n",
              "          const docLink = document.createElement('div');\n",
              "          docLink.innerHTML = docLinkHtml;\n",
              "          element.appendChild(docLink);\n",
              "        }\n",
              "      </script>\n",
              "    </div>\n",
              "  </div>\n",
              "  "
            ]
          },
          "metadata": {},
          "execution_count": 48
        }
      ]
    },
    {
      "cell_type": "code",
      "source": [
        "df.isna().sum()"
      ],
      "metadata": {
        "colab": {
          "base_uri": "https://localhost:8080/"
        },
        "id": "Qp0jHpN_NjWf",
        "outputId": "18fdfc55-02b6-4cf3-bfa4-583e26cf902f"
      },
      "execution_count": 49,
      "outputs": [
        {
          "output_type": "execute_result",
          "data": {
            "text/plain": [
              "Age               0\n",
              "Sex               0\n",
              "ChestPainType     0\n",
              "RestingBP         0\n",
              "Cholesterol       0\n",
              "FastingBS         0\n",
              "RestingECG        0\n",
              "MaxHR             0\n",
              "ExerciseAngina    0\n",
              "Oldpeak           0\n",
              "ST_Slope          0\n",
              "HeartDisease      0\n",
              "dtype: int64"
            ]
          },
          "metadata": {},
          "execution_count": 49
        }
      ]
    },
    {
      "cell_type": "code",
      "source": [
        "df.duplicated().sum()"
      ],
      "metadata": {
        "colab": {
          "base_uri": "https://localhost:8080/"
        },
        "id": "z7wLJBeCNzMP",
        "outputId": "33e46899-5591-4d60-9939-819c1c7a674a"
      },
      "execution_count": 50,
      "outputs": [
        {
          "output_type": "execute_result",
          "data": {
            "text/plain": [
              "0"
            ]
          },
          "metadata": {},
          "execution_count": 50
        }
      ]
    },
    {
      "cell_type": "code",
      "source": [
        "df.info()"
      ],
      "metadata": {
        "colab": {
          "base_uri": "https://localhost:8080/"
        },
        "id": "zaCrcydSOJ1w",
        "outputId": "ce0d82b0-c6ac-46c5-e7e7-e99215ca45f0"
      },
      "execution_count": 51,
      "outputs": [
        {
          "output_type": "stream",
          "name": "stdout",
          "text": [
            "<class 'pandas.core.frame.DataFrame'>\n",
            "RangeIndex: 918 entries, 0 to 917\n",
            "Data columns (total 12 columns):\n",
            " #   Column          Non-Null Count  Dtype  \n",
            "---  ------          --------------  -----  \n",
            " 0   Age             918 non-null    int64  \n",
            " 1   Sex             918 non-null    object \n",
            " 2   ChestPainType   918 non-null    object \n",
            " 3   RestingBP       918 non-null    int64  \n",
            " 4   Cholesterol     918 non-null    int64  \n",
            " 5   FastingBS       918 non-null    int64  \n",
            " 6   RestingECG      918 non-null    object \n",
            " 7   MaxHR           918 non-null    int64  \n",
            " 8   ExerciseAngina  918 non-null    object \n",
            " 9   Oldpeak         918 non-null    float64\n",
            " 10  ST_Slope        918 non-null    object \n",
            " 11  HeartDisease    918 non-null    int64  \n",
            "dtypes: float64(1), int64(6), object(5)\n",
            "memory usage: 86.2+ KB\n"
          ]
        }
      ]
    },
    {
      "cell_type": "code",
      "source": [
        "X = df.drop(columns=\"HeartDisease\")\n",
        "y = df['HeartDisease']\n",
        "\n",
        "X_train, X_test, y_train, y_test = train_test_split(X, y, random_state=42)"
      ],
      "metadata": {
        "id": "sHBIWnPmN2t_"
      },
      "execution_count": 52,
      "outputs": []
    },
    {
      "cell_type": "code",
      "source": [
        "# create preprocessor\n",
        "cat_select = make_column_selector(dtype_include='object')\n",
        "num_select = make_column_selector(dtype_include='number')\n",
        "\n",
        "scaler = StandardScaler()\n",
        "ohe = OneHotEncoder(handle_unknown='ignore')\n",
        "\n",
        "num_tuple = (scaler, num_select)\n",
        "cat_tuple = (ohe, cat_select)\n",
        "\n",
        "processor = make_column_transformer(num_tuple, cat_tuple, remainder='passthrough')"
      ],
      "metadata": {
        "id": "Rh44uNdMOdIA"
      },
      "execution_count": 53,
      "outputs": []
    },
    {
      "cell_type": "code",
      "source": [
        "X_train = processor.fit_transform(X_train)\n",
        "X_test = processor.transform(X_test)"
      ],
      "metadata": {
        "id": "RDgVZjCvPMxQ"
      },
      "execution_count": 54,
      "outputs": []
    },
    {
      "cell_type": "code",
      "source": [
        "input_shape = X_train.shape[1]\n",
        "input_shape"
      ],
      "metadata": {
        "colab": {
          "base_uri": "https://localhost:8080/"
        },
        "id": "mol7sBZdPtB-",
        "outputId": "fae8cbef-71b3-4e15-a1a1-81394fd30041"
      },
      "execution_count": 55,
      "outputs": [
        {
          "output_type": "execute_result",
          "data": {
            "text/plain": [
              "20"
            ]
          },
          "metadata": {},
          "execution_count": 55
        }
      ]
    },
    {
      "cell_type": "code",
      "source": [
        "model = Sequential()"
      ],
      "metadata": {
        "id": "xGC0mGxBPwLF"
      },
      "execution_count": 56,
      "outputs": []
    },
    {
      "cell_type": "code",
      "source": [
        "model.add(Dense(10, # How many neurons you have in your first hidden layer\n",
        "                input_dim = input_shape, # What is the shape of your input features (number of columns)\n",
        "                activation = 'relu')) # What activation function are you using?\n",
        "\n",
        "model.add(Dense(5, # How many neurons you have in your second hidden layer\n",
        "                activation = 'relu'))# What activation function are you using?               "
      ],
      "metadata": {
        "id": "cZi26PJhRmkx"
      },
      "execution_count": 57,
      "outputs": []
    },
    {
      "cell_type": "code",
      "source": [
        "# output layer\n",
        "model.add(Dense(1, activation = \"sigmoid\"))"
      ],
      "metadata": {
        "id": "22Ff_8YxSf9c"
      },
      "execution_count": 58,
      "outputs": []
    },
    {
      "cell_type": "code",
      "source": [
        "# compile\n",
        "model.compile(loss='bce', optimizer='adam', metrics = 'accuracy')"
      ],
      "metadata": {
        "id": "6hi95vIsSuQc"
      },
      "execution_count": 59,
      "outputs": []
    },
    {
      "cell_type": "code",
      "source": [
        "# fit model\n",
        "history = model.fit(X_train, y_train, validation_data = (X_test, y_test),\n",
        "                    epochs=10)"
      ],
      "metadata": {
        "colab": {
          "base_uri": "https://localhost:8080/"
        },
        "id": "mY5P2RpQS41q",
        "outputId": "850c87d6-7670-4add-9692-92d30a6109e5"
      },
      "execution_count": 60,
      "outputs": [
        {
          "output_type": "stream",
          "name": "stdout",
          "text": [
            "Epoch 1/10\n",
            "22/22 [==============================] - 1s 9ms/step - loss: 0.7319 - accuracy: 0.5102 - val_loss: 0.7033 - val_accuracy: 0.5739\n",
            "Epoch 2/10\n",
            "22/22 [==============================] - 0s 4ms/step - loss: 0.6635 - accuracy: 0.6512 - val_loss: 0.6423 - val_accuracy: 0.6957\n",
            "Epoch 3/10\n",
            "22/22 [==============================] - 0s 3ms/step - loss: 0.6061 - accuracy: 0.7195 - val_loss: 0.5896 - val_accuracy: 0.7478\n",
            "Epoch 4/10\n",
            "22/22 [==============================] - 0s 3ms/step - loss: 0.5536 - accuracy: 0.7631 - val_loss: 0.5394 - val_accuracy: 0.7783\n",
            "Epoch 5/10\n",
            "22/22 [==============================] - 0s 3ms/step - loss: 0.5057 - accuracy: 0.7965 - val_loss: 0.4968 - val_accuracy: 0.7870\n",
            "Epoch 6/10\n",
            "22/22 [==============================] - 0s 3ms/step - loss: 0.4667 - accuracy: 0.8038 - val_loss: 0.4574 - val_accuracy: 0.7957\n",
            "Epoch 7/10\n",
            "22/22 [==============================] - 0s 4ms/step - loss: 0.4332 - accuracy: 0.8270 - val_loss: 0.4304 - val_accuracy: 0.8217\n",
            "Epoch 8/10\n",
            "22/22 [==============================] - 0s 3ms/step - loss: 0.4092 - accuracy: 0.8314 - val_loss: 0.4083 - val_accuracy: 0.8217\n",
            "Epoch 9/10\n",
            "22/22 [==============================] - 0s 3ms/step - loss: 0.3907 - accuracy: 0.8416 - val_loss: 0.3900 - val_accuracy: 0.8391\n",
            "Epoch 10/10\n",
            "22/22 [==============================] - 0s 4ms/step - loss: 0.3759 - accuracy: 0.8503 - val_loss: 0.3781 - val_accuracy: 0.8435\n"
          ]
        }
      ]
    },
    {
      "cell_type": "code",
      "source": [
        "plt.plot(history.history['loss'], label=\"Train loss\")\n",
        "plt.plot(history.history['val_loss'], label=\"Test loss\")\n",
        "plt.legend();"
      ],
      "metadata": {
        "colab": {
          "base_uri": "https://localhost:8080/",
          "height": 430
        },
        "id": "2yR-3EQ9TMkR",
        "outputId": "cc1de75d-ba74-4073-ad45-79fc0bb36017"
      },
      "execution_count": 61,
      "outputs": [
        {
          "output_type": "display_data",
          "data": {
            "text/plain": [
              "<Figure size 640x480 with 1 Axes>"
            ],
            "image/png": "[encoded data removed]"
          },
          "metadata": {}
        }
      ]
    },
    {
      "cell_type": "code",
      "source": [
        "from sklearn.metrics._plot.confusion_matrix import confusion_matrix\n",
        "import seaborn as sns\n",
        "# evaluate model\n",
        "test_preds = model.predict(X_test).round()\n",
        "print(classification_report(y_test, test_preds))\n",
        "conf_mat = confusion_matrix(y_test, test_preds)\n",
        "sns.heatmap(conf_mat, annot=True, fmt='g');"
      ],
      "metadata": {
        "colab": {
          "base_uri": "https://localhost:8080/",
          "height": 600
        },
        "id": "fc8Is4eEUr-V",
        "outputId": "11e2b27f-498a-4b7a-eaca-8fe69395385c"
      },
      "execution_count": 62,
      "outputs": [
        {
          "output_type": "stream",
          "name": "stdout",
          "text": [
            "8/8 [==============================] - 0s 3ms/step\n",
            "              precision    recall  f1-score   support\n",
            "\n",
            "           0       0.80      0.85      0.82        98\n",
            "           1       0.88      0.84      0.86       132\n",
            "\n",
            "    accuracy                           0.84       230\n",
            "   macro avg       0.84      0.84      0.84       230\n",
            "weighted avg       0.85      0.84      0.84       230\n",
            "\n"
          ]
        },
        {
          "output_type": "display_data",
          "data": {
            "text/plain": [
              "<Figure size 640x480 with 2 Axes>"
            ],
            "image/png": "[encoded data removed]"
          },
          "metadata": {}
        }
      ]
    },
    {
      "cell_type": "code",
      "source": [
        "# create model\n",
        "model2 = keras.Sequential()\n",
        "model2.add(Dense(20, input_dim=input_shape,\n",
        "          activation = 'relu'))\n",
        "model2.add(Dense(5, activation = 'relu'))\n",
        "model2.add(Dense(1, activation = 'sigmoid'))\n",
        "\n",
        "model2.compile(optimizer = 'adam', loss = 'bce', metrics = 'accuracy')"
      ],
      "metadata": {
        "id": "tKY8Y8jXW5fR"
      },
      "execution_count": 64,
      "outputs": []
    },
    {
      "cell_type": "code",
      "source": [
        "# train the model and save the history\n",
        "history = model2.fit(X_train, y_train,\n",
        "          validation_data=(X_test, y_test),\n",
        "          epochs = 10)"
      ],
      "metadata": {
        "colab": {
          "base_uri": "https://localhost:8080/"
        },
        "id": "EopjKOq6XZ_5",
        "outputId": "7073c99a-e35f-4b13-9018-ac41ec2c970d"
      },
      "execution_count": 65,
      "outputs": [
        {
          "output_type": "stream",
          "name": "stdout",
          "text": [
            "Epoch 1/10\n",
            "22/22 [==============================] - 2s 18ms/step - loss: 0.7084 - accuracy: 0.5422 - val_loss: 0.6569 - val_accuracy: 0.6000\n",
            "Epoch 2/10\n",
            "22/22 [==============================] - 0s 8ms/step - loss: 0.6142 - accuracy: 0.6977 - val_loss: 0.5748 - val_accuracy: 0.7261\n",
            "Epoch 3/10\n",
            "22/22 [==============================] - 0s 6ms/step - loss: 0.5422 - accuracy: 0.7834 - val_loss: 0.5034 - val_accuracy: 0.7783\n",
            "Epoch 4/10\n",
            "22/22 [==============================] - 0s 8ms/step - loss: 0.4818 - accuracy: 0.8081 - val_loss: 0.4482 - val_accuracy: 0.8043\n",
            "Epoch 5/10\n",
            "22/22 [==============================] - 0s 6ms/step - loss: 0.4369 - accuracy: 0.8212 - val_loss: 0.4078 - val_accuracy: 0.8304\n",
            "Epoch 6/10\n",
            "22/22 [==============================] - 0s 5ms/step - loss: 0.4058 - accuracy: 0.8343 - val_loss: 0.3802 - val_accuracy: 0.8522\n",
            "Epoch 7/10\n",
            "22/22 [==============================] - 0s 4ms/step - loss: 0.3829 - accuracy: 0.8445 - val_loss: 0.3654 - val_accuracy: 0.8522\n",
            "Epoch 8/10\n",
            "22/22 [==============================] - 0s 3ms/step - loss: 0.3673 - accuracy: 0.8459 - val_loss: 0.3532 - val_accuracy: 0.8609\n",
            "Epoch 9/10\n",
            "22/22 [==============================] - 0s 4ms/step - loss: 0.3541 - accuracy: 0.8532 - val_loss: 0.3446 - val_accuracy: 0.8609\n",
            "Epoch 10/10\n",
            "22/22 [==============================] - 0s 3ms/step - loss: 0.3441 - accuracy: 0.8561 - val_loss: 0.3391 - val_accuracy: 0.8696\n"
          ]
        }
      ]
    },
    {
      "cell_type": "code",
      "source": [
        "# plot model training history\n",
        "plt.plot(history.history['accuracy'], label = 'accuracy')\n",
        "plt.plot(history.history['val_accuracy'], label = 'val_accuracy')\n",
        "plt.legend()"
      ],
      "metadata": {
        "colab": {
          "base_uri": "https://localhost:8080/",
          "height": 447
        },
        "id": "Tv9iXoLpXuHr",
        "outputId": "76b9049a-5b46-4cd1-8ceb-7aea63397346"
      },
      "execution_count": 66,
      "outputs": [
        {
          "output_type": "execute_result",
          "data": {
            "text/plain": [
              "<matplotlib.legend.Legend at 0x7f0a1a217670>"
            ]
          },
          "metadata": {},
          "execution_count": 66
        },
        {
          "output_type": "display_data",
          "data": {
            "text/plain": [
              "<Figure size 640x480 with 1 Axes>"
            ],
            "image/png": "[encoded data removed]"
          },
          "metadata": {}
        }
      ]
    },
    {
      "cell_type": "code",
      "source": [
        "# evaluate the model\n",
        "test_preds = model2.predict(X_test).round()\n",
        "print(classification_report(y_test, test_preds))\n",
        "conf_mat = confusion_matrix(y_test, test_preds)\n",
        "sns.heatmap(conf_mat, annot=True, fmt = 'g');"
      ],
      "metadata": {
        "colab": {
          "base_uri": "https://localhost:8080/",
          "height": 600
        },
        "id": "WrQ4qUBqXwNo",
        "outputId": "f506e156-6982-429a-a35d-fbdebad69b3d"
      },
      "execution_count": 67,
      "outputs": [
        {
          "output_type": "stream",
          "name": "stdout",
          "text": [
            "8/8 [==============================] - 0s 2ms/step\n",
            "              precision    recall  f1-score   support\n",
            "\n",
            "           0       0.81      0.90      0.85        98\n",
            "           1       0.92      0.85      0.88       132\n",
            "\n",
            "    accuracy                           0.87       230\n",
            "   macro avg       0.87      0.87      0.87       230\n",
            "weighted avg       0.87      0.87      0.87       230\n",
            "\n"
          ]
        },
        {
          "output_type": "display_data",
          "data": {
            "text/plain": [
              "<Figure size 640x480 with 2 Axes>"
            ],
            "image/png": "[encoded data removed]"
          },
          "metadata": {}
        }
      ]
    },
    {
      "cell_type": "code",
      "source": [],
      "metadata": {
        "id": "Jqg6fEl1X2Ii"
      },
      "execution_count": null,
      "outputs": []
    }
  ]
}